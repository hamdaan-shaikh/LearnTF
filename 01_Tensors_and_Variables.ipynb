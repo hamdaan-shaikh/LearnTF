{
 "cells": [
  {
   "cell_type": "markdown",
   "id": "0d010ccd",
   "metadata": {},
   "source": [
    "# Initialization and Casting\n"
   ]
  },
  {
   "cell_type": "code",
   "execution_count": 1,
   "id": "d9fd8ba8-0445-4bc0-9644-ab6804fbe7e5",
   "metadata": {},
   "outputs": [],
   "source": [
    "import tensorflow as tf"
   ]
  },
  {
   "cell_type": "code",
   "execution_count": 2,
   "id": "ad223d97-2777-405f-849f-fdf3c708aa95",
   "metadata": {
    "tags": []
   },
   "outputs": [
    {
     "name": "stdout",
     "output_type": "stream",
     "text": [
      "tf.Tensor(4, shape=(), dtype=int32)\n"
     ]
    }
   ],
   "source": [
    "tensor_zero_d = tf.constant(4)\n",
    "print(tensor_zero_d)"
   ]
  },
  {
   "cell_type": "code",
   "execution_count": 3,
   "id": "94c6c512-ca4b-4a72-ab7d-f9df712c21ac",
   "metadata": {},
   "outputs": [
    {
     "name": "stdout",
     "output_type": "stream",
     "text": [
      "tf.Tensor([ 2  0 -3], shape=(3,), dtype=int32)\n"
     ]
    }
   ],
   "source": [
    "tensor_one_d = tf.constant([2, 0, -3])\n",
    "print(tensor_one_d)"
   ]
  },
  {
   "cell_type": "code",
   "execution_count": 4,
   "id": "97b4da70",
   "metadata": {},
   "outputs": [
    {
     "name": "stdout",
     "output_type": "stream",
     "text": [
      "tf.Tensor(\n",
      "[[ 1  2  0]\n",
      " [ 3  5 -1]\n",
      " [ 1  5  6]\n",
      " [ 2  3  8]], shape=(4, 3), dtype=int32)\n"
     ]
    }
   ],
   "source": [
    "tensor_two_d = tf.constant(\n",
    "    [\n",
    "        [1, 2, 0],\n",
    "        [3, 5, -1],\n",
    "        [1, 5, 6],\n",
    "        [2, 3, 8],\n",
    "    ]\n",
    ")\n",
    "print(tensor_two_d)"
   ]
  },
  {
   "cell_type": "code",
   "execution_count": 5,
   "id": "1d4a0417",
   "metadata": {},
   "outputs": [
    {
     "name": "stdout",
     "output_type": "stream",
     "text": [
      "tf.Tensor(\n",
      "[[[ 1  2  0]\n",
      "  [ 3  5 -1]]\n",
      "\n",
      " [[10  2  0]\n",
      "  [ 1  0  2]]\n",
      "\n",
      " [[ 5  8  0]\n",
      "  [ 2  7  0]]\n",
      "\n",
      " [[ 2  1  9]\n",
      "  [ 4 -3 32]]], shape=(4, 2, 3), dtype=int32)\n"
     ]
    }
   ],
   "source": [
    "tensor_three_d = tf.constant(\n",
    "    [\n",
    "        [[1, 2, 0], [3, 5, -1]],\n",
    "        [[10, 2, 0], [1, 0, 2]],\n",
    "        [[5, 8, 0], [2, 7, 0]],\n",
    "        [[2, 1, 9], [4, -3, 32]],\n",
    "    ]\n",
    ")\n",
    "print(tensor_three_d)"
   ]
  },
  {
   "cell_type": "code",
   "execution_count": 6,
   "id": "1123401c",
   "metadata": {},
   "outputs": [
    {
     "name": "stdout",
     "output_type": "stream",
     "text": [
      "(4, 2, 3)\n"
     ]
    }
   ],
   "source": [
    "print(tensor_three_d.shape)"
   ]
  },
  {
   "cell_type": "code",
   "execution_count": 7,
   "id": "4598556b",
   "metadata": {},
   "outputs": [
    {
     "name": "stdout",
     "output_type": "stream",
     "text": [
      "3\n"
     ]
    }
   ],
   "source": [
    "print(tensor_three_d.ndim)"
   ]
  },
  {
   "cell_type": "code",
   "execution_count": 8,
   "id": "5be09199",
   "metadata": {},
   "outputs": [
    {
     "name": "stdout",
     "output_type": "stream",
     "text": [
      "tf.Tensor(\n",
      "[[[[ 1  2  0]\n",
      "   [ 3  5 -1]]\n",
      "\n",
      "  [[10  2  0]\n",
      "   [ 1  0  2]]\n",
      "\n",
      "  [[ 5  8  0]\n",
      "   [ 2  7  0]]\n",
      "\n",
      "  [[ 2  1  9]\n",
      "   [ 4 -3 32]]]\n",
      "\n",
      "\n",
      " [[[ 1  2  0]\n",
      "   [ 3  5 -1]]\n",
      "\n",
      "  [[10  2  0]\n",
      "   [ 1  0  2]]\n",
      "\n",
      "  [[ 5  8  0]\n",
      "   [ 2  7  0]]\n",
      "\n",
      "  [[ 2  1  9]\n",
      "   [ 4 -3 32]]]\n",
      "\n",
      "\n",
      " [[[ 1  2  0]\n",
      "   [ 3  5 -1]]\n",
      "\n",
      "  [[10  2  0]\n",
      "   [ 1  0  2]]\n",
      "\n",
      "  [[ 5  8  0]\n",
      "   [ 2  7  0]]\n",
      "\n",
      "  [[ 2  1  9]\n",
      "   [ 4 -3 32]]]], shape=(3, 4, 2, 3), dtype=int32)\n"
     ]
    }
   ],
   "source": [
    "tensor_four_d = tf.constant(\n",
    "    [\n",
    "        [\n",
    "            [[1, 2, 0], [3, 5, -1]],\n",
    "            [[10, 2, 0], [1, 0, 2]],\n",
    "            [[5, 8, 0], [2, 7, 0]],\n",
    "            [[2, 1, 9], [4, -3, 32]],\n",
    "        ],\n",
    "        [\n",
    "            [[1, 2, 0], [3, 5, -1]],\n",
    "            [[10, 2, 0], [1, 0, 2]],\n",
    "            [[5, 8, 0], [2, 7, 0]],\n",
    "            [[2, 1, 9], [4, -3, 32]],\n",
    "        ],\n",
    "        [\n",
    "            [[1, 2, 0], [3, 5, -1]],\n",
    "            [[10, 2, 0], [1, 0, 2]],\n",
    "            [[5, 8, 0], [2, 7, 0]],\n",
    "            [[2, 1, 9], [4, -3, 32]],\n",
    "        ],\n",
    "    ]\n",
    ")\n",
    "print(tensor_four_d)"
   ]
  },
  {
   "cell_type": "code",
   "execution_count": 9,
   "id": "3296f13f",
   "metadata": {},
   "outputs": [
    {
     "name": "stdout",
     "output_type": "stream",
     "text": [
      "tf.Tensor([ 2.  0. -3.], shape=(3,), dtype=float32)\n"
     ]
    }
   ],
   "source": [
    "# dtype\n",
    "tensor_one_d = tf.constant([2, 0, -3], dtype=tf.float32)\n",
    "print(tensor_one_d)"
   ]
  },
  {
   "cell_type": "code",
   "execution_count": 10,
   "id": "44c6a1f6",
   "metadata": {},
   "outputs": [
    {
     "name": "stdout",
     "output_type": "stream",
     "text": [
      "tf.Tensor([ 2.  0. -3.], shape=(3,), dtype=float32)\n",
      "tf.Tensor([ 2  0 -3], shape=(3,), dtype=int64)\n"
     ]
    }
   ],
   "source": [
    "# tf.cast(x, dtype=)\n",
    "casted_tensor_one_d = tf.cast(tensor_one_d, dtype=tf.int64)\n",
    "print(tensor_one_d)\n",
    "print(casted_tensor_one_d)"
   ]
  },
  {
   "cell_type": "code",
   "execution_count": 11,
   "id": "f82ac1f8",
   "metadata": {},
   "outputs": [
    {
     "name": "stdout",
     "output_type": "stream",
     "text": [
      "tf.Tensor([ 2.  0. -3.], shape=(3,), dtype=float32)\n",
      "tf.Tensor([ True False  True], shape=(3,), dtype=bool)\n"
     ]
    }
   ],
   "source": [
    "# tf.cast(x, dtype=tf.bool)\n",
    "# All positives and negatives become True. 0 becomes False\n",
    "casted_tensor_one_d = tf.cast(tensor_one_d, dtype=tf.bool)\n",
    "print(tensor_one_d)\n",
    "print(casted_tensor_one_d)"
   ]
  },
  {
   "cell_type": "code",
   "execution_count": 12,
   "id": "8a64cf90",
   "metadata": {},
   "outputs": [],
   "source": [
    "import numpy as np"
   ]
  },
  {
   "cell_type": "code",
   "execution_count": 13,
   "id": "8de24a6d",
   "metadata": {},
   "outputs": [
    {
     "name": "stdout",
     "output_type": "stream",
     "text": [
      "[1 2 4]\n"
     ]
    }
   ],
   "source": [
    "np_array = np.array([1, 2, 4])\n",
    "print(np_array)"
   ]
  },
  {
   "cell_type": "code",
   "execution_count": 14,
   "id": "bb516e40",
   "metadata": {},
   "outputs": [],
   "source": [
    "# tf.convert_to_tensor(np_array)\n",
    "# convert numpy array to tensor\n",
    "converted_tensor = tf.convert_to_tensor(np_array)"
   ]
  },
  {
   "cell_type": "code",
   "execution_count": 15,
   "id": "923a00aa",
   "metadata": {},
   "outputs": [
    {
     "name": "stdout",
     "output_type": "stream",
     "text": [
      "tf.Tensor(\n",
      "[[1. 0. 0.]\n",
      " [0. 1. 0.]\n",
      " [0. 0. 1.]], shape=(3, 3), dtype=float32)\n"
     ]
    }
   ],
   "source": [
    "# tf.eye()\n",
    "# construct identity matrix\n",
    "eye_tensor = tf.eye(\n",
    "    num_rows=3, num_columns=None, batch_shape=None, dtype=tf.dtypes.float32, name=None\n",
    ")\n",
    "print(eye_tensor)"
   ]
  },
  {
   "cell_type": "code",
   "execution_count": 16,
   "id": "3dfbf98f",
   "metadata": {},
   "outputs": [
    {
     "name": "stdout",
     "output_type": "stream",
     "text": [
      "tf.Tensor(\n",
      "[[4. 0. 0.]\n",
      " [0. 4. 0.]\n",
      " [0. 0. 4.]], shape=(3, 3), dtype=float32)\n"
     ]
    }
   ],
   "source": [
    "print(4 * eye_tensor)"
   ]
  },
  {
   "cell_type": "code",
   "execution_count": 17,
   "id": "825c8107",
   "metadata": {},
   "outputs": [
    {
     "name": "stdout",
     "output_type": "stream",
     "text": [
      "tf.Tensor(\n",
      "[[ True False False]\n",
      " [False  True False]\n",
      " [False False  True]\n",
      " [False False False]\n",
      " [False False False]], shape=(5, 3), dtype=bool)\n"
     ]
    }
   ],
   "source": [
    "# Identity matrix is truncated based on rows and columns\n",
    "eye_tensor = tf.eye(\n",
    "    num_rows=5, num_columns=3, batch_shape=None, dtype=tf.dtypes.bool, name=None\n",
    ")\n",
    "print(eye_tensor)"
   ]
  },
  {
   "cell_type": "code",
   "execution_count": 18,
   "id": "f14283cf",
   "metadata": {},
   "outputs": [
    {
     "name": "stdout",
     "output_type": "stream",
     "text": [
      "tf.Tensor(\n",
      "[[[1 0 0 0 0 0]\n",
      "  [0 1 0 0 0 0]\n",
      "  [0 0 1 0 0 0]\n",
      "  [0 0 0 1 0 0]]\n",
      "\n",
      " [[1 0 0 0 0 0]\n",
      "  [0 1 0 0 0 0]\n",
      "  [0 0 1 0 0 0]\n",
      "  [0 0 0 1 0 0]]], shape=(2, 4, 6), dtype=int32)\n"
     ]
    }
   ],
   "source": [
    "# Identity matrix in 1D batch shape is multiples of matrix\n",
    "eye_tensor = tf.eye(\n",
    "    num_rows=4,\n",
    "    num_columns=6,\n",
    "    batch_shape=[\n",
    "        2,\n",
    "    ],\n",
    "    dtype=tf.dtypes.int32,\n",
    "    name=None,\n",
    ")\n",
    "print(eye_tensor)"
   ]
  },
  {
   "cell_type": "code",
   "execution_count": 19,
   "id": "b552485a",
   "metadata": {},
   "outputs": [
    {
     "name": "stdout",
     "output_type": "stream",
     "text": [
      "tf.Tensor(\n",
      "[[[[1 0 0 0 0 0]\n",
      "   [0 1 0 0 0 0]\n",
      "   [0 0 1 0 0 0]\n",
      "   [0 0 0 1 0 0]]\n",
      "\n",
      "  [[1 0 0 0 0 0]\n",
      "   [0 1 0 0 0 0]\n",
      "   [0 0 1 0 0 0]\n",
      "   [0 0 0 1 0 0]]\n",
      "\n",
      "  [[1 0 0 0 0 0]\n",
      "   [0 1 0 0 0 0]\n",
      "   [0 0 1 0 0 0]\n",
      "   [0 0 0 1 0 0]]]\n",
      "\n",
      "\n",
      " [[[1 0 0 0 0 0]\n",
      "   [0 1 0 0 0 0]\n",
      "   [0 0 1 0 0 0]\n",
      "   [0 0 0 1 0 0]]\n",
      "\n",
      "  [[1 0 0 0 0 0]\n",
      "   [0 1 0 0 0 0]\n",
      "   [0 0 1 0 0 0]\n",
      "   [0 0 0 1 0 0]]\n",
      "\n",
      "  [[1 0 0 0 0 0]\n",
      "   [0 1 0 0 0 0]\n",
      "   [0 0 1 0 0 0]\n",
      "   [0 0 0 1 0 0]]]], shape=(2, 3, 4, 6), dtype=int32)\n"
     ]
    }
   ],
   "source": [
    "# Identity matrix in nD batch shape of arbitrary dimension\n",
    "eye_tensor = tf.eye(\n",
    "    num_rows=4, num_columns=6, batch_shape=[2, 3], dtype=tf.dtypes.int32, name=None\n",
    ")\n",
    "print(eye_tensor)"
   ]
  },
  {
   "cell_type": "code",
   "execution_count": 20,
   "id": "b4a63182",
   "metadata": {},
   "outputs": [
    {
     "name": "stdout",
     "output_type": "stream",
     "text": [
      "tf.Tensor(\n",
      "[[5 5 5 5]\n",
      " [5 5 5 5]\n",
      " [5 5 5 5]], shape=(3, 4), dtype=int32)\n"
     ]
    }
   ],
   "source": [
    "# To get a matrix which is filled with an number\n",
    "fill_tensor = tf.fill([3, 4], 5, name=None)\n",
    "print(fill_tensor)"
   ]
  },
  {
   "cell_type": "code",
   "execution_count": 21,
   "id": "cb191da0",
   "metadata": {},
   "outputs": [
    {
     "name": "stdout",
     "output_type": "stream",
     "text": [
      "tf.Tensor(\n",
      "[[1. 1. 1.]\n",
      " [1. 1. 1.]\n",
      " [1. 1. 1.]\n",
      " [1. 1. 1.]\n",
      " [1. 1. 1.]], shape=(5, 3), dtype=float32)\n"
     ]
    }
   ],
   "source": [
    "# To get a matrix which is filled with an 1s\n",
    "ones_tensor = tf.ones([5, 3], dtype=tf.dtypes.float32, name=None)\n",
    "print(ones_tensor)"
   ]
  },
  {
   "cell_type": "code",
   "execution_count": 22,
   "id": "e7e2741c",
   "metadata": {},
   "outputs": [
    {
     "name": "stdout",
     "output_type": "stream",
     "text": [
      "tf.Tensor(\n",
      "[[1 1 1 1]\n",
      " [1 1 1 1]\n",
      " [1 1 1 1]], shape=(3, 4), dtype=int32)\n"
     ]
    }
   ],
   "source": [
    "# Pass a tensor, get a tensor of ones of similar shape\n",
    "ones_like_tensor = tf.ones_like(fill_tensor, dtype=None, name=None)\n",
    "print(ones_like_tensor)"
   ]
  },
  {
   "cell_type": "code",
   "execution_count": 23,
   "id": "8919786a",
   "metadata": {},
   "outputs": [
    {
     "data": {
      "text/plain": [
       "<tf.Tensor: shape=(3, 2), dtype=float32, numpy=\n",
       "array([[0., 0.],\n",
       "       [0., 0.],\n",
       "       [0., 0.]], dtype=float32)>"
      ]
     },
     "execution_count": 23,
     "metadata": {},
     "output_type": "execute_result"
    }
   ],
   "source": [
    "# To get a matrix which is filled with an 0s. Henceforth I will not use 'matrix', I will use 'tensor'\n",
    "zeros_tensor = tf.zeros(shape=[3, 2], dtype=tf.dtypes.float32, name=None)\n",
    "zeros_tensor"
   ]
  },
  {
   "cell_type": "code",
   "execution_count": 24,
   "id": "296bae60",
   "metadata": {},
   "outputs": [
    {
     "name": "stdout",
     "output_type": "stream",
     "text": [
      "tf.Tensor([4 2 3], shape=(3,), dtype=int32)\n"
     ]
    }
   ],
   "source": [
    "# To get shape of tensor\n",
    "print(tf.shape(tensor_three_d))"
   ]
  },
  {
   "cell_type": "code",
   "execution_count": 25,
   "id": "efdeb5d5",
   "metadata": {},
   "outputs": [
    {
     "name": "stdout",
     "output_type": "stream",
     "text": [
      "tf.Tensor(4, shape=(), dtype=int32)\n"
     ]
    }
   ],
   "source": [
    "# To get rank of tensor\n",
    "print(tf.rank(tensor_four_d))"
   ]
  },
  {
   "cell_type": "code",
   "execution_count": 26,
   "id": "1aa1fc03",
   "metadata": {},
   "outputs": [
    {
     "name": "stdout",
     "output_type": "stream",
     "text": [
      "tf.Tensor(72, shape=(), dtype=int32)\n"
     ]
    }
   ],
   "source": [
    "# To get size of tensor (0D Tensor which tells total number of elements in the tensor)\n",
    "print(tf.size(tensor_four_d))"
   ]
  },
  {
   "cell_type": "code",
   "execution_count": 27,
   "id": "58adbfff",
   "metadata": {},
   "outputs": [
    {
     "data": {
      "text/plain": [
       "<tf.Tensor: shape=(3, 2), dtype=float32, numpy=\n",
       "array([[10.817781,  9.985118],\n",
       "       [ 9.008043, 10.919524],\n",
       "       [10.432124, 11.713082]], dtype=float32)>"
      ]
     },
     "execution_count": 27,
     "metadata": {},
     "output_type": "execute_result"
    }
   ],
   "source": [
    "# Outputs random values from a normal distribution, Imagine a normal distribution bell curve. you will get random values around the mean, and number of standard deviations away, std dev increas/decrease makes the curve wider/thinner. Modify the out-dtype tp get floats or ints random values\n",
    "random_normal_tensor = tf.random.normal(\n",
    "    shape=[3, 2], mean=10.0, stddev=1.0, dtype=tf.dtypes.float32, seed=None, name=None\n",
    ")\n",
    "random_normal_tensor"
   ]
  },
  {
   "cell_type": "code",
   "execution_count": 28,
   "id": "f1b36fc1",
   "metadata": {},
   "outputs": [
    {
     "data": {
      "text/plain": [
       "<tf.Tensor: shape=(7, 5), dtype=int32, numpy=\n",
       "array([[ 44, 552,  38, 993,  69],\n",
       "       [532, 570, 629, 835, 662],\n",
       "       [305, 658,  10, 431, 909],\n",
       "       [104, 136, 233, 233, 565],\n",
       "       [ 84, 119, 328, 386,  86],\n",
       "       [861, 714, 360, 359, 623],\n",
       "       [ 37, 963, 732, 344, 107]])>"
      ]
     },
     "execution_count": 28,
     "metadata": {},
     "output_type": "execute_result"
    }
   ],
   "source": [
    "# Outputs random values from a uniform distribution, with values between a minval (default 0) and a maxval (default1). Modify the out-dtype tp get floats or ints random values\n",
    "\n",
    "random_uniform_tensor = tf.random.uniform(\n",
    "    shape=[7, 5], minval=0, maxval=1000, dtype=tf.dtypes.int32, seed=None, name=None\n",
    ")\n",
    "random_uniform_tensor"
   ]
  },
  {
   "cell_type": "code",
   "execution_count": 29,
   "id": "75f07c90",
   "metadata": {},
   "outputs": [
    {
     "name": "stdout",
     "output_type": "stream",
     "text": [
      "tf.Tensor([4 3 1], shape=(3,), dtype=int32)\n",
      "tf.Tensor([4 3 2], shape=(3,), dtype=int32)\n",
      "tf.Tensor([1 1 1], shape=(3,), dtype=int32)\n",
      "tf.Tensor([1 3 3], shape=(3,), dtype=int32)\n"
     ]
    }
   ],
   "source": [
    "# seed argument: A Python integer. Used in combination with tf.random.set_seed to create a REPRODUCIBLE sequence of tensors across multiple calls.\n",
    "tf.random.set_seed(5)\n",
    "print(\n",
    "    tf.random.uniform(\n",
    "        shape=[\n",
    "            3,\n",
    "        ],\n",
    "        maxval=5,\n",
    "        dtype=tf.int32,\n",
    "        seed=10,\n",
    "    )\n",
    ")\n",
    "print(\n",
    "    tf.random.uniform(\n",
    "        shape=[\n",
    "            3,\n",
    "        ],\n",
    "        maxval=5,\n",
    "        dtype=tf.int32,\n",
    "        seed=10,\n",
    "    )\n",
    ")\n",
    "print(\n",
    "    tf.random.uniform(\n",
    "        shape=[\n",
    "            3,\n",
    "        ],\n",
    "        maxval=5,\n",
    "        dtype=tf.int32,\n",
    "        seed=10,\n",
    "    )\n",
    ")\n",
    "print(\n",
    "    tf.random.uniform(\n",
    "        shape=[\n",
    "            3,\n",
    "        ],\n",
    "        maxval=5,\n",
    "        dtype=tf.int32,\n",
    "        seed=10,\n",
    "    )\n",
    ")"
   ]
  },
  {
   "cell_type": "code",
   "execution_count": 30,
   "id": "c568d7d2",
   "metadata": {},
   "outputs": [
    {
     "name": "stdout",
     "output_type": "stream",
     "text": [
      "tf.Tensor([4 3 1], shape=(3,), dtype=int32)\n",
      "tf.Tensor([4 3 2], shape=(3,), dtype=int32)\n",
      "tf.Tensor([1 1 1], shape=(3,), dtype=int32)\n",
      "tf.Tensor([1 3 3], shape=(3,), dtype=int32)\n"
     ]
    }
   ],
   "source": [
    "# Comparing seed outputs\n",
    "tf.random.set_seed(5)\n",
    "print(\n",
    "    tf.random.uniform(\n",
    "        shape=[\n",
    "            3,\n",
    "        ],\n",
    "        maxval=5,\n",
    "        dtype=tf.int32,\n",
    "        seed=10,\n",
    "    )\n",
    ")\n",
    "print(\n",
    "    tf.random.uniform(\n",
    "        shape=[\n",
    "            3,\n",
    "        ],\n",
    "        maxval=5,\n",
    "        dtype=tf.int32,\n",
    "        seed=10,\n",
    "    )\n",
    ")\n",
    "print(\n",
    "    tf.random.uniform(\n",
    "        shape=[\n",
    "            3,\n",
    "        ],\n",
    "        maxval=5,\n",
    "        dtype=tf.int32,\n",
    "        seed=10,\n",
    "    )\n",
    ")\n",
    "print(\n",
    "    tf.random.uniform(\n",
    "        shape=[\n",
    "            3,\n",
    "        ],\n",
    "        maxval=5,\n",
    "        dtype=tf.int32,\n",
    "        seed=10,\n",
    "    )\n",
    ")"
   ]
  },
  {
   "cell_type": "markdown",
   "id": "1534d032",
   "metadata": {},
   "source": [
    "# Indexing\n"
   ]
  },
  {
   "cell_type": "code",
   "execution_count": 31,
   "id": "343d37ef",
   "metadata": {},
   "outputs": [
    {
     "name": "stdout",
     "output_type": "stream",
     "text": [
      "tf.Tensor([ 3  6  2  4  6 66  7], shape=(7,), dtype=int32)\n",
      "tf.Tensor([3 6 2 4], shape=(4,), dtype=int32)\n",
      "tf.Tensor([6 2 4 6], shape=(4,), dtype=int32)\n",
      "tf.Tensor([66  7], shape=(2,), dtype=int32)\n",
      "tf.Tensor([ 3  6  2  4  6 66  7], shape=(7,), dtype=int32)\n",
      "tf.Tensor([3 2 6 7], shape=(4,), dtype=int32)\n",
      "tf.Tensor([ 4  6 66], shape=(3,), dtype=int32)\n"
     ]
    }
   ],
   "source": [
    "# Indexing, slicing, skipping a tensor\n",
    "tensor_indexed = tf.constant([3, 6, 2, 4, 6, 66, 7])\n",
    "print(tensor_indexed)\n",
    "print(tensor_indexed[:4])  # min index is by default 0, so it looks like [0:4]\n",
    "print(tensor_indexed[1:5])\n",
    "print(\n",
    "    tensor_indexed[5:]\n",
    ")  # max index is by default the last value, so it looks like [5:7]\n",
    "print(\n",
    "    tensor_indexed[:]\n",
    ")  # no min or max index is the whole range, so it looks like [0:7]\n",
    "print(\n",
    "    tensor_indexed[0:7:2]\n",
    ")  # the skip parameter gives the i+skipth position, default is i+1\n",
    "print(tensor_indexed[3:-1])  # negative max parameter gives the last-negative position"
   ]
  },
  {
   "cell_type": "code",
   "execution_count": 32,
   "id": "e920a097",
   "metadata": {},
   "outputs": [
    {
     "data": {
      "text/plain": [
       "<tf.Tensor: shape=(3,), dtype=int32, numpy=array([2, 3, 4])>"
      ]
     },
     "execution_count": 32,
     "metadata": {},
     "output_type": "execute_result"
    }
   ],
   "source": [
    "tf.range(2, 5)"
   ]
  },
  {
   "cell_type": "code",
   "execution_count": 33,
   "id": "3519fd34",
   "metadata": {},
   "outputs": [
    {
     "name": "stdout",
     "output_type": "stream",
     "text": [
      "tf.Tensor(\n",
      "[[1 2]\n",
      " [3 5]\n",
      " [1 5]], shape=(3, 2), dtype=int32)\n"
     ]
    }
   ],
   "source": [
    "# indeexing a 2-D Tensor\n",
    "\"\"\"\n",
    "where\n",
    "#tf.Tensor(\n",
    "[[ 1  2  0]\n",
    " [ 3  5 -1]\n",
    " [ 1  5  6]\n",
    " [ 2  3  8]], shape=(4, 3), dtype=int32)\"\"\"\n",
    "\n",
    "print(\n",
    "    tensor_two_d[0:3, 0:2]\n",
    ")  # default is [rowrange, columnrange], i.e., [0:lastrow,0:lastcol]"
   ]
  },
  {
   "cell_type": "code",
   "execution_count": 34,
   "id": "297d5c71",
   "metadata": {},
   "outputs": [
    {
     "name": "stdout",
     "output_type": "stream",
     "text": [
      "tf.Tensor([ 3  5 -1], shape=(3,), dtype=int32)\n"
     ]
    }
   ],
   "source": [
    "print(tensor_two_d[1, :])  # 2nd row (as indexing is 0,1,2...), all colums"
   ]
  },
  {
   "cell_type": "code",
   "execution_count": 35,
   "id": "4f06b8bb",
   "metadata": {},
   "outputs": [
    {
     "name": "stdout",
     "output_type": "stream",
     "text": [
      "tf.Tensor(3, shape=(), dtype=int32)\n"
     ]
    }
   ],
   "source": [
    "print(tensor_two_d[1, 0])  # 2nd row, 2nd column"
   ]
  },
  {
   "cell_type": "code",
   "execution_count": 36,
   "id": "4305296f",
   "metadata": {},
   "outputs": [
    {
     "name": "stdout",
     "output_type": "stream",
     "text": [
      "tf.Tensor([ 5 -1], shape=(2,), dtype=int32)\n"
     ]
    }
   ],
   "source": [
    "print(tensor_two_d[1, 1:])  # 2nd row, all colums after 1st colum"
   ]
  },
  {
   "cell_type": "code",
   "execution_count": 37,
   "id": "a8b0e875",
   "metadata": {},
   "outputs": [
    {
     "name": "stdout",
     "output_type": "stream",
     "text": [
      "tf.Tensor([1 3 1 2], shape=(4,), dtype=int32)\n"
     ]
    }
   ],
   "source": [
    "print(tensor_two_d[:, 0])  # all rows, 0th column"
   ]
  },
  {
   "cell_type": "code",
   "execution_count": 38,
   "id": "ba90950b",
   "metadata": {},
   "outputs": [
    {
     "name": "stdout",
     "output_type": "stream",
     "text": [
      "tf.Tensor([1 3 1 2], shape=(4,), dtype=int32)\n"
     ]
    }
   ],
   "source": [
    "# anothher short hand for [:] is [...]\n",
    "print(tensor_two_d[..., 0])  # all rows, 0th column"
   ]
  },
  {
   "cell_type": "code",
   "execution_count": 39,
   "id": "92d16b41",
   "metadata": {},
   "outputs": [
    {
     "name": "stdout",
     "output_type": "stream",
     "text": [
      "tf.Tensor(\n",
      "[[ 1  2  0]\n",
      " [ 3  5 -1]], shape=(2, 3), dtype=int32)\n"
     ]
    }
   ],
   "source": [
    "\"\"\"\n",
    "3D Tensor indexing\n",
    "tf.Tensor(\n",
    "[[[ 1  2  0]\n",
    "  [ 3  5 -1]]\n",
    "\n",
    " [[10  2  0]\n",
    "  [ 1  0  2]]\n",
    "\n",
    " [[ 5  8  0]\n",
    "  [ 2  7  0]]\n",
    "\n",
    " [[ 2  1  9]\n",
    "  [ 4 -3 32]]], shape=(4, 2, 3), dtype=int32)\n",
    "\"\"\"\n",
    "\n",
    "print(tensor_three_d[0, :, :])  # 0th element, all rows, all columns"
   ]
  },
  {
   "cell_type": "code",
   "execution_count": 40,
   "id": "4fdf0a69",
   "metadata": {},
   "outputs": [
    {
     "name": "stdout",
     "output_type": "stream",
     "text": [
      "tf.Tensor([1 2 0], shape=(3,), dtype=int32)\n"
     ]
    }
   ],
   "source": [
    "print(tensor_three_d[0, 0, :])  # 0th element, 0th row, all columns"
   ]
  },
  {
   "cell_type": "code",
   "execution_count": 41,
   "id": "48931278",
   "metadata": {},
   "outputs": [
    {
     "name": "stdout",
     "output_type": "stream",
     "text": [
      "tf.Tensor([ 0 -1], shape=(2,), dtype=int32)\n"
     ]
    }
   ],
   "source": [
    "print(tensor_three_d[0, :, 2])  # 0th element, all rows, last column"
   ]
  },
  {
   "cell_type": "code",
   "execution_count": 42,
   "id": "a52a3f28",
   "metadata": {},
   "outputs": [
    {
     "name": "stdout",
     "output_type": "stream",
     "text": [
      "tf.Tensor(\n",
      "[[ 0 -1]\n",
      " [ 0  2]], shape=(2, 2), dtype=int32)\n"
     ]
    }
   ],
   "source": [
    "print(tensor_three_d[0:2, :, 2])  # 0th and 1st element, all rows, last colum"
   ]
  },
  {
   "cell_type": "code",
   "execution_count": 43,
   "id": "2261204c",
   "metadata": {},
   "outputs": [
    {
     "name": "stdout",
     "output_type": "stream",
     "text": [
      "tf.Tensor(\n",
      "[[ 0 -1]\n",
      " [ 0  2]\n",
      " [ 0  0]\n",
      " [ 9 32]], shape=(4, 2), dtype=int32)\n"
     ]
    }
   ],
   "source": [
    "print(tensor_three_d[..., :, 2])  # all elements, all rows, 1st column\n",
    "# [... , ... , 2] does not work surprisingly"
   ]
  },
  {
   "cell_type": "markdown",
   "id": "e518bf3e",
   "metadata": {},
   "source": [
    "# Math Operations\n"
   ]
  },
  {
   "cell_type": "code",
   "execution_count": 44,
   "id": "c3948d02",
   "metadata": {},
   "outputs": [
    {
     "data": {
      "text/plain": [
       "<tf.Tensor: shape=(2,), dtype=float32, numpy=array([2.25, 3.25], dtype=float32)>"
      ]
     },
     "execution_count": 44,
     "metadata": {},
     "output_type": "execute_result"
    }
   ],
   "source": [
    "# Computes the absolute value of a tensor.\n",
    "# i.e., turns negatives into positives\n",
    "\n",
    "# for a real number\n",
    "x_abs = tf.constant([-2.25, 3.25])\n",
    "tf.abs(x_abs)"
   ]
  },
  {
   "cell_type": "code",
   "execution_count": 45,
   "id": "a9e9faf7",
   "metadata": {},
   "outputs": [
    {
     "data": {
      "text/plain": [
       "<tf.Tensor: shape=(2,), dtype=float32, numpy=array([2.25, 3.25], dtype=float32)>"
      ]
     },
     "execution_count": 45,
     "metadata": {},
     "output_type": "execute_result"
    }
   ],
   "source": [
    "# complex number, For a complex number a+bj, its absolute value is computed as sqrt(a^2 + b^2)\n",
    "x_abs_complex = tf.constant([[-2.25 + 4.75j], [-3.25 + 5.75j]])\n",
    "tf.abs(x_abs)"
   ]
  },
  {
   "cell_type": "code",
   "execution_count": 46,
   "id": "c7b408d6",
   "metadata": {},
   "outputs": [
    {
     "name": "stdout",
     "output_type": "stream",
     "text": [
      "tf.Tensor(5.255949, shape=(), dtype=float32)\n",
      "tf.Tensor(6.6049223, shape=(), dtype=float32)\n"
     ]
    }
   ],
   "source": [
    "# checking above. Note: for squaring negative numbers, remember to put then in brackets, then square, else you will get wrong value.\n",
    "print(tf.math.sqrt((-2.25) ** 2 + 4.75**2))\n",
    "print(tf.math.sqrt((-3.25) ** 2 + 5.75**2))"
   ]
  },
  {
   "cell_type": "code",
   "execution_count": 47,
   "id": "99d7fd71",
   "metadata": {},
   "outputs": [
    {
     "data": {
      "text/plain": [
       "<tf.Tensor: shape=(5,), dtype=int32, numpy=array([2, 3, 4, 5, 6])>"
      ]
     },
     "execution_count": 47,
     "metadata": {},
     "output_type": "execute_result"
    }
   ],
   "source": [
    "# Add two tensors\n",
    "\n",
    "# Scalar and List\n",
    "\n",
    "x = [1, 2, 3, 4, 5]\n",
    "y = 1\n",
    "tf.add(x, y)"
   ]
  },
  {
   "cell_type": "code",
   "execution_count": 48,
   "id": "8d8f9dc2",
   "metadata": {},
   "outputs": [
    {
     "data": {
      "text/plain": [
       "<tf.Tensor: shape=(5,), dtype=int32, numpy=array([2, 3, 4, 5, 6])>"
      ]
     },
     "execution_count": 48,
     "metadata": {},
     "output_type": "execute_result"
    }
   ],
   "source": [
    "# usage of + operator\n",
    "x = tf.convert_to_tensor([1, 2, 3, 4, 5])\n",
    "y = tf.convert_to_tensor(1)\n",
    "x + y"
   ]
  },
  {
   "cell_type": "code",
   "execution_count": 49,
   "id": "bbf13535",
   "metadata": {},
   "outputs": [
    {
     "data": {
      "text/plain": [
       "<tf.Tensor: shape=(5,), dtype=int32, numpy=array([ 2,  4,  6,  8, 10])>"
      ]
     },
     "execution_count": 49,
     "metadata": {},
     "output_type": "execute_result"
    }
   ],
   "source": [
    "# Add Tensor and List of same shape\n",
    "x = [1, 2, 3, 4, 5]\n",
    "y = tf.constant([1, 2, 3, 4, 5])\n",
    "tf.add(x, y)"
   ]
  },
  {
   "cell_type": "code",
   "execution_count": 50,
   "id": "4dd001f9",
   "metadata": {},
   "outputs": [
    {
     "data": {
      "text/plain": [
       "<tf.Tensor: shape=(2,), dtype=int8, numpy=array([-126, -124], dtype=int8)>"
      ]
     },
     "execution_count": 50,
     "metadata": {},
     "output_type": "execute_result"
    }
   ],
   "source": [
    "# Warning: If one of the inputs (x or y) is a tensor and the other is a non-tensor, the non-tensor input will adopt (or get casted to) the data type of the tensor input. This can potentially cause unwanted overflow or underflow conversion. here it becomes -126, -124 even on adding\n",
    "\n",
    "x = tf.constant([1, 2], dtype=tf.int8)\n",
    "y = [2**7 + 1, 2**7 + 2]\n",
    "tf.add(x, y)"
   ]
  },
  {
   "cell_type": "code",
   "execution_count": 51,
   "id": "1e5f22c3",
   "metadata": {},
   "outputs": [
    {
     "data": {
      "text/plain": [
       "<tf.Tensor: shape=(5,), dtype=int32, numpy=array([ 2,  4,  6,  8, 10])>"
      ]
     },
     "execution_count": 51,
     "metadata": {},
     "output_type": "execute_result"
    }
   ],
   "source": [
    "# Add Tensor and Tensor of same shape\n",
    "x = tf.constant([1, 2, 3, 4, 5])\n",
    "y = tf.constant([1, 2, 3, 4, 5])\n",
    "tf.add(x, y)"
   ]
  },
  {
   "cell_type": "code",
   "execution_count": 52,
   "id": "1b0cb662",
   "metadata": {},
   "outputs": [
    {
     "data": {
      "text/plain": [
       "<tf.Tensor: shape=(5,), dtype=int32, numpy=array([ 1,  4,  9, 16, 25])>"
      ]
     },
     "execution_count": 52,
     "metadata": {},
     "output_type": "execute_result"
    }
   ],
   "source": [
    "# Multiply Tensor and Tensor of same shape\n",
    "x = tf.constant([1, 2, 3, 4, 5])\n",
    "y = tf.constant([1, 2, 3, 4, 5])\n",
    "tf.multiply(x, y)"
   ]
  },
  {
   "cell_type": "code",
   "execution_count": 53,
   "id": "4272dd7c",
   "metadata": {},
   "outputs": [
    {
     "data": {
      "text/plain": [
       "<tf.Tensor: shape=(5,), dtype=float64, numpy=array([1., 1., 1., 1., 1.])>"
      ]
     },
     "execution_count": 53,
     "metadata": {},
     "output_type": "execute_result"
    }
   ],
   "source": [
    "# Divide Tensor and Tensor of same shape\n",
    "x = tf.constant([1, 2, 3, 4, 5])\n",
    "y = tf.constant([1, 2, 3, 4, 5])\n",
    "tf.divide(x, y)"
   ]
  },
  {
   "cell_type": "code",
   "execution_count": 54,
   "id": "72bf3fe0",
   "metadata": {},
   "outputs": [
    {
     "data": {
      "text/plain": [
       "<tf.Tensor: shape=(5,), dtype=float32, numpy=array([0., 0., 0., 0., 0.], dtype=float32)>"
      ]
     },
     "execution_count": 54,
     "metadata": {},
     "output_type": "execute_result"
    }
   ],
   "source": [
    "# Divide_No_NaN Tensor and Tensor of same shape. Tensor dtype conversion requested. int not allowed, only float\n",
    "# instad of infinity inf, it shows 0\n",
    "x = tf.constant([1, 2, 3, 4, 5], dtype=tf.float32)\n",
    "y = tf.zeros_like(x, tf.float32)\n",
    "tf.math.divide_no_nan(x, y)"
   ]
  },
  {
   "cell_type": "markdown",
   "id": "7e5de08a",
   "metadata": {},
   "source": [
    "# Broadcasting\n",
    "\n",
    "When element wise operations are done on non-similar shape arrays, the smaller tensor is STRETCHED OUT to match the larger tensor\n"
   ]
  },
  {
   "cell_type": "code",
   "execution_count": 55,
   "id": "461c6126",
   "metadata": {},
   "outputs": [
    {
     "name": "stdout",
     "output_type": "stream",
     "text": [
      "tf.Tensor([ 8.  9. 10. 11. 12.], shape=(5,), dtype=float32)\n",
      "tf.Tensor([ 8.  9. 10. 11. 12.], shape=(5,), dtype=float32)\n"
     ]
    }
   ],
   "source": [
    "# Divide_No_NaN Tensor and Tensor of same shape. Tensor dtype conversion requested. int not allowed, only float\n",
    "# instad of infinity inf, it shows 0\n",
    "x = tf.constant([1, 2, 3, 4, 5], dtype=tf.float32)\n",
    "y = tf.constant([7], dtype=tf.float32)\n",
    "y_stretched = tf.constant([7, 7, 7, 7, 7], dtype=tf.float32)\n",
    "\n",
    "print(tf.math.add(x, y))\n",
    "print(tf.math.add(x, y_stretched))\n",
    "# the result will be the same"
   ]
  },
  {
   "cell_type": "code",
   "execution_count": 56,
   "id": "f7275778",
   "metadata": {},
   "outputs": [
    {
     "name": "stdout",
     "output_type": "stream",
     "text": [
      "tf.Tensor(\n",
      "[[ 7. 14. 21. 28. 35.]\n",
      " [42. 49. 56. 63. 70.]], shape=(2, 5), dtype=float32)\n",
      "tf.Tensor(\n",
      "[[ 7. 14. 21. 28. 35.]\n",
      " [42. 49. 56. 63. 70.]], shape=(2, 5), dtype=float32)\n"
     ]
    }
   ],
   "source": [
    "# Multiply. It is elementwise Multiplication, NOT matrix multiplicaion\n",
    "x = tf.constant([[1, 2, 3, 4, 5], [6, 7, 8, 9, 10]], dtype=tf.float32)\n",
    "y = tf.constant([7], dtype=tf.float32)\n",
    "y_stretched = tf.constant([7, 7, 7, 7, 7], dtype=tf.float32)\n",
    "\n",
    "print(tf.math.multiply(x, y))\n",
    "print(tf.math.multiply(x, y_stretched))"
   ]
  },
  {
   "cell_type": "code",
   "execution_count": 57,
   "id": "4d149f93",
   "metadata": {},
   "outputs": [
    {
     "name": "stdout",
     "output_type": "stream",
     "text": [
      "(1, 5)\n",
      "(3, 1)\n",
      "tf.Tensor(\n",
      "[[ 7. 14. 21. 28. 35.]\n",
      " [ 5. 10. 15. 20. 25.]\n",
      " [ 3.  6.  9. 12. 15.]], shape=(3, 5), dtype=float32)\n",
      "tf.Tensor(\n",
      "[[ 7. 14. 21. 28. 35.]\n",
      " [ 5. 10. 15. 20. 25.]\n",
      " [ 3.  6.  9. 12. 15.]], shape=(3, 5), dtype=float32)\n"
     ]
    }
   ],
   "source": [
    "# Broadcasted elementwise Multiplication\n",
    "x = tf.constant([[1, 2, 3, 4, 5]], dtype=tf.float32) # only one element [1,2,3,4,5]\n",
    "y = tf.constant([[7], [5], [3]], dtype=tf.float32)   # three elements [7], [5], [3]\n",
    "\n",
    "print(x.shape)\n",
    "print(y.shape)\n",
    "print(tf.math.multiply(x, y))\n",
    "print(tf.math.multiply(y, x))  # Same output, as it is elementwise multiplication, NOT matrix multiplication"
   ]
  },
  {
   "cell_type": "code",
   "execution_count": 58,
   "id": "47da38da",
   "metadata": {},
   "outputs": [
    {
     "name": "stdout",
     "output_type": "stream",
     "text": [
      "tf.Tensor(\n",
      "[[ 7. 14. 21. 28. 35.]\n",
      " [ 5. 10. 15. 20. 25.]\n",
      " [ 3.  6.  9. 12. 15.]], shape=(3, 5), dtype=float32)\n",
      "tf.Tensor(\n",
      "[[ 7. 14. 21. 28. 35.]\n",
      " [ 5. 10. 15. 20. 25.]\n",
      " [ 3.  6.  9. 12. 15.]], shape=(3, 5), dtype=float32)\n"
     ]
    }
   ],
   "source": [
    "# Comaring with Non-broadcasted elementwise Multiplication\n",
    "x_stretched = tf.constant(\n",
    "    [[1, 2, 3, 4, 5], [1, 2, 3, 4, 5], [1, 2, 3, 4, 5]],\n",
    "    dtype=tf.float32,  # x stretched out to 3 elements, to multiply with 3 elements/rows of y\n",
    ")\n",
    "y_stretched = tf.constant(\n",
    "    [[7, 7, 7, 7, 7], [5, 5, 5, 5, 5], [3, 3, 3, 3, 3]],\n",
    "    dtype=tf.float32,  # y stretched out to multiply elementwise with all 5 columns of x\n",
    ")\n",
    "print(tf.math.multiply(x_stretched, y_stretched))\n",
    "print(tf.math.multiply(y_stretched, x_stretched))  # Same output, as it is elementwise multiplication, NOT matrix multiplication"
   ]
  },
  {
   "cell_type": "markdown",
   "id": "4f2b0b97",
   "metadata": {},
   "source": [
    "Broadcasting(Stretching the Tensors) rule of thumb:\n",
    "\n",
    "Both tensors should have one of their respective dimensions as 1. The other dimension is stretched corresponding to the other tensor."
   ]
  },
  {
   "cell_type": "code",
   "execution_count": 59,
   "id": "f8766b15",
   "metadata": {},
   "outputs": [
    {
     "data": {
      "text/plain": [
       "<tf.Tensor: shape=(4,), dtype=float32, numpy=array([0., 0., 2., 5.], dtype=float32)>"
      ]
     },
     "execution_count": 59,
     "metadata": {},
     "output_type": "execute_result"
    }
   ],
   "source": [
    "# Element wise Maximum of 2 tensors when comparing both\n",
    "\n",
    "x = tf.constant([0., 0., 0., 0.])\n",
    "y = tf.constant([-2., 0., 2., 5.])\n",
    "tf.math.maximum(x, y)\n"
   ]
  },
  {
   "cell_type": "code",
   "execution_count": 60,
   "id": "cfce60dd",
   "metadata": {},
   "outputs": [
    {
     "data": {
      "text/plain": [
       "<tf.Tensor: shape=(4,), dtype=float32, numpy=array([-3.,  0.,  0.,  0.], dtype=float32)>"
      ]
     },
     "execution_count": 60,
     "metadata": {},
     "output_type": "execute_result"
    }
   ],
   "source": [
    "# Note that maximum supports broadcast semantics for x and y.\n",
    "\n",
    "x = tf.constant([-5., 0., 0., 0.])\n",
    "y = tf.constant([-3.])\n",
    "tf.math.maximum(x, y)\n"
   ]
  },
  {
   "cell_type": "code",
   "execution_count": 61,
   "id": "7509e45f",
   "metadata": {},
   "outputs": [
    {
     "data": {
      "text/plain": [
       "<tf.Tensor: shape=(4,), dtype=float32, numpy=array([-5., -2.,  0.,  0.], dtype=float32)>"
      ]
     },
     "execution_count": 61,
     "metadata": {},
     "output_type": "execute_result"
    }
   ],
   "source": [
    "# Element wise Minimum of 2 tensors when comparing both\n",
    "\n",
    "x = tf.constant([0., 0., 0., 0.])\n",
    "y = tf.constant([-5., -2., 0., 3.])\n",
    "tf.math.minimum(x, y)\n"
   ]
  },
  {
   "cell_type": "code",
   "execution_count": 62,
   "id": "33f876be",
   "metadata": {},
   "outputs": [
    {
     "data": {
      "text/plain": [
       "<tf.Tensor: shape=(), dtype=int64, numpy=2>"
      ]
     },
     "execution_count": 62,
     "metadata": {},
     "output_type": "execute_result"
    }
   ],
   "source": [
    "# Returns the index with the largest value across axes of a tensor.\n",
    "A = tf.constant([2, 20, 30, 3, 6])\n",
    "tf.math.argmax(A)  # A[2] is maximum in tensor A"
   ]
  },
  {
   "cell_type": "code",
   "execution_count": 63,
   "id": "93454a3a",
   "metadata": {},
   "outputs": [
    {
     "data": {
      "text/plain": [
       "<tf.Tensor: shape=(5,), dtype=int64, numpy=array([2, 2, 0, 2, 2], dtype=int64)>"
      ]
     },
     "execution_count": 63,
     "metadata": {},
     "output_type": "execute_result"
    }
   ],
   "source": [
    "'''tf.math.argmax(\n",
    "    input,\n",
    "    axis=None,              # axis =0 means row is fixed, comarison for arg max is done on the columns. Vice versa for axis = 1\n",
    "    output_type=tf.dtypes.int64,\n",
    "    name=None\n",
    ")'''\n",
    "B = tf.constant([[2, 20, 30, 3, 6], \n",
    "                 [3, 11, 16, 1, 8],\n",
    "                 [14, 45, 23, 5, 27]])\n",
    "tf.math.argmax(B, 0)\n",
    "\n"
   ]
  },
  {
   "cell_type": "code",
   "execution_count": 64,
   "id": "9f1dde14",
   "metadata": {},
   "outputs": [
    {
     "data": {
      "text/plain": [
       "<tf.Tensor: shape=(3,), dtype=int64, numpy=array([0, 3, 3], dtype=int64)>"
      ]
     },
     "execution_count": 64,
     "metadata": {},
     "output_type": "execute_result"
    }
   ],
   "source": [
    "# ArgMIN\n",
    "tf.math.argmin(B, 1)"
   ]
  },
  {
   "cell_type": "code",
   "execution_count": 65,
   "id": "238b87a8",
   "metadata": {},
   "outputs": [
    {
     "data": {
      "text/plain": [
       "<tf.Tensor: shape=(), dtype=int64, numpy=0>"
      ]
     },
     "execution_count": 65,
     "metadata": {},
     "output_type": "execute_result"
    }
   ],
   "source": [
    "C = tf.constant([0, 0, 0, 0])\n",
    "tf.math.argmax(C) # Returns smallest index in case of ties"
   ]
  },
  {
   "cell_type": "code",
   "execution_count": 66,
   "id": "3f94d937",
   "metadata": {},
   "outputs": [
    {
     "data": {
      "text/plain": [
       "<tf.Tensor: shape=(2,), dtype=bool, numpy=array([ True, False])>"
      ]
     },
     "execution_count": 66,
     "metadata": {},
     "output_type": "execute_result"
    }
   ],
   "source": [
    "# Returns the truth value of (x == y) element-wise.\n",
    "x = tf.constant([2, 4])\n",
    "y = tf.constant(2)  # broadcasting happens for comparing non-similar shaped tensors, y=[2] becpmes [2,2] to commpare with x= [2,4]\n",
    "tf.math.equal(x, y)\n"
   ]
  },
  {
   "cell_type": "code",
   "execution_count": 67,
   "id": "8c5b8168",
   "metadata": {},
   "outputs": [
    {
     "data": {
      "text/plain": [
       "<tf.Tensor: shape=(2,), dtype=bool, numpy=array([ True,  True])>"
      ]
     },
     "execution_count": 67,
     "metadata": {},
     "output_type": "execute_result"
    }
   ],
   "source": [
    "x = tf.constant([2, 4])\n",
    "y = tf.constant([2, 4])\n",
    "tf.math.equal(x, y)\n"
   ]
  },
  {
   "cell_type": "code",
   "execution_count": 68,
   "id": "300749cc",
   "metadata": {},
   "outputs": [
    {
     "data": {
      "text/plain": [
       "<tf.Tensor: shape=(2, 2), dtype=int32, numpy=\n",
       "array([[ 8,  1],\n",
       "       [ 3, 81]])>"
      ]
     },
     "execution_count": 68,
     "metadata": {},
     "output_type": "execute_result"
    }
   ],
   "source": [
    "# Computes the power of one value to another.\n",
    "x = tf.constant([[2, 2], [3, 3]])\n",
    "y = tf.constant([[3, 0], [1, 4]])\n",
    "tf.pow(x, y)"
   ]
  },
  {
   "cell_type": "code",
   "execution_count": 69,
   "id": "f98111a5",
   "metadata": {},
   "outputs": [],
   "source": [
    "# Computes the sum of elements across dimensions of a tensor.\n",
    "# tf.math.reduce_sum(\n",
    "#     input_tensor, axis=None, keepdims=False, name=None\n",
    "# )\n",
    "\n",
    "x = tf.constant([[1, 1, 1], [1, 1, 1]])\n"
   ]
  },
  {
   "cell_type": "code",
   "execution_count": 70,
   "id": "30f1b221",
   "metadata": {},
   "outputs": [
    {
     "name": "stdout",
     "output_type": "stream",
     "text": [
      "tf.Tensor(6, shape=(), dtype=int32)\n"
     ]
    }
   ],
   "source": [
    "# sum all the elements: 1 + 1 + 1 + 1 + 1+ 1 = 6\n",
    "print(tf.reduce_sum(x))"
   ]
  },
  {
   "cell_type": "code",
   "execution_count": 71,
   "id": "e650470f",
   "metadata": {},
   "outputs": [
    {
     "name": "stdout",
     "output_type": "stream",
     "text": [
      "tf.Tensor([2 2 2], shape=(3,), dtype=int32)\n"
     ]
    }
   ],
   "source": [
    "# reduce along the first dimension/axis\n",
    "# the result is [1, 1, 1] + [1, 1, 1] = [2, 2, 2]\n",
    "print(tf.reduce_sum(x,0))"
   ]
  },
  {
   "cell_type": "code",
   "execution_count": 72,
   "id": "96e3b0a6",
   "metadata": {},
   "outputs": [
    {
     "name": "stdout",
     "output_type": "stream",
     "text": [
      "tf.Tensor([3 3], shape=(2,), dtype=int32)\n"
     ]
    }
   ],
   "source": [
    "# reduce along the first dimension/axis\n",
    "# the result is [1, 1, 1] + [1, 1, 1] = [2, 2, 2]\n",
    "print(tf.reduce_sum(x,1))"
   ]
  },
  {
   "cell_type": "code",
   "execution_count": 73,
   "id": "510e7f1e",
   "metadata": {},
   "outputs": [
    {
     "data": {
      "text/plain": [
       "<tf.Tensor: shape=(2, 1), dtype=int32, numpy=\n",
       "array([[3],\n",
       "       [3]])>"
      ]
     },
     "execution_count": 73,
     "metadata": {},
     "output_type": "execute_result"
    }
   ],
   "source": [
    "tf.reduce_sum(x, 1, keepdims=True)"
   ]
  },
  {
   "cell_type": "code",
   "execution_count": 74,
   "id": "fa88b6ce",
   "metadata": {},
   "outputs": [
    {
     "data": {
      "text/plain": [
       "6"
      ]
     },
     "execution_count": 74,
     "metadata": {},
     "output_type": "execute_result"
    }
   ],
   "source": [
    "# reduce along both dimensions, the result is 1 + 1 + 1 + 1 + 1 + 1 = 6\n",
    "# or, equivalently, reduce along rows [1, 1, 1] + [1, 1, 1] = [2, 2, 2], then reduce the resultant array 2 + 2 + 2 = 6\n",
    "tf.reduce_sum(x, [0, 1]).numpy()"
   ]
  },
  {
   "cell_type": "code",
   "execution_count": 75,
   "id": "41cbf070",
   "metadata": {},
   "outputs": [
    {
     "data": {
      "text/plain": [
       "<tf.Tensor: shape=(4, 3), dtype=int32, numpy=\n",
       "array([[ 1,  2,  0],\n",
       "       [ 3,  5, -1],\n",
       "       [ 1,  5,  6],\n",
       "       [ 2,  3,  8]])>"
      ]
     },
     "execution_count": 75,
     "metadata": {},
     "output_type": "execute_result"
    }
   ],
   "source": [
    "tensor_two_d"
   ]
  },
  {
   "cell_type": "code",
   "execution_count": 76,
   "id": "b7ce11e5",
   "metadata": {},
   "outputs": [
    {
     "data": {
      "text/plain": [
       "8"
      ]
     },
     "execution_count": 76,
     "metadata": {},
     "output_type": "execute_result"
    }
   ],
   "source": [
    "# Computes tf.math.maximum of elements across dimensions of a tensor.\n",
    "tf.reduce_max(tensor_two_d).numpy()"
   ]
  },
  {
   "cell_type": "code",
   "execution_count": 77,
   "id": "4d3e8426",
   "metadata": {},
   "outputs": [
    {
     "data": {
      "text/plain": [
       "-1"
      ]
     },
     "execution_count": 77,
     "metadata": {},
     "output_type": "execute_result"
    }
   ],
   "source": [
    "# Computes tf.math.minimum of elements across dimensions of a tensor.\n",
    "tf.reduce_min(tensor_two_d).numpy()\n"
   ]
  },
  {
   "cell_type": "code",
   "execution_count": 78,
   "id": "7642708d",
   "metadata": {},
   "outputs": [
    {
     "name": "stdout",
     "output_type": "stream",
     "text": [
      "(4, 3)\n",
      "tf.Tensor([ 7 15 13], shape=(3,), dtype=int32)\n"
     ]
    }
   ],
   "source": [
    "print(tensor_two_d.shape)\n",
    "print(tf.math.reduce_sum(tensor_two_d, axis= 0, keepdims=False, name=None))"
   ]
  },
  {
   "cell_type": "code",
   "execution_count": 79,
   "id": "43baabc8",
   "metadata": {},
   "outputs": [
    {
     "name": "stdout",
     "output_type": "stream",
     "text": [
      "tf.Tensor([ 3  7 12 13], shape=(4,), dtype=int32)\n"
     ]
    }
   ],
   "source": [
    "print(tf.math.reduce_sum(tensor_two_d, axis= 1, keepdims=False, name=None))"
   ]
  },
  {
   "cell_type": "code",
   "execution_count": 80,
   "id": "8ea4b628",
   "metadata": {},
   "outputs": [
    {
     "name": "stdout",
     "output_type": "stream",
     "text": [
      "tf.Tensor([2 5 6 8], shape=(4,), dtype=int32)\n"
     ]
    }
   ],
   "source": [
    "# reduce_max\n",
    "print(tf.math.reduce_max(tensor_two_d, axis= 1, keepdims=False, name=None))"
   ]
  },
  {
   "cell_type": "code",
   "execution_count": 81,
   "id": "8c97e71a",
   "metadata": {},
   "outputs": [
    {
     "name": "stdout",
     "output_type": "stream",
     "text": [
      "tf.Tensor([1 2 4 4], shape=(4,), dtype=int32)\n"
     ]
    }
   ],
   "source": [
    "# reduce_mean, axis = 1, so (1+3+1+2)/4. ALso if tensor dtype is int, you will only get int values in mean, not float. So Cast it\n",
    "print(tf.math.reduce_mean(tensor_two_d, axis= 1, keepdims=False, name=None))"
   ]
  },
  {
   "cell_type": "code",
   "execution_count": 82,
   "id": "2893f3ca",
   "metadata": {},
   "outputs": [],
   "source": [
    "casted_tensor_two_d = tf.cast(tensor_two_d, dtype=tf.float32)"
   ]
  },
  {
   "cell_type": "code",
   "execution_count": 83,
   "id": "22487a88",
   "metadata": {},
   "outputs": [
    {
     "name": "stdout",
     "output_type": "stream",
     "text": [
      "tf.Tensor([1.        2.3333333 4.        4.3333335], shape=(4,), dtype=float32)\n"
     ]
    }
   ],
   "source": [
    "print(tf.math.reduce_mean(casted_tensor_two_d, axis= 1, keepdims=False, name=None))"
   ]
  },
  {
   "cell_type": "code",
   "execution_count": 84,
   "id": "e1b3ca89",
   "metadata": {},
   "outputs": [
    {
     "name": "stdout",
     "output_type": "stream",
     "text": [
      "tf.Tensor([0.8291562 1.299038  3.8324275], shape=(3,), dtype=float32)\n"
     ]
    }
   ],
   "source": [
    "# reduce_std, axis = 1, DOES NOT work with int dtype tensor, so use float instead\n",
    "print(tf.math.reduce_std(casted_tensor_two_d, axis= 0, keepdims=False, name=None))"
   ]
  },
  {
   "cell_type": "code",
   "execution_count": 85,
   "id": "b42bf943",
   "metadata": {},
   "outputs": [
    {
     "name": "stdout",
     "output_type": "stream",
     "text": [
      "tf.Tensor([[0.8291562 1.299038  3.8324275]], shape=(1, 3), dtype=float32)\n"
     ]
    }
   ],
   "source": [
    "#KeepDims, If true, retains reduced dimensions with length 1.\n",
    "print(tf.math.reduce_std(casted_tensor_two_d, axis= 0, keepdims=True, name=None))"
   ]
  },
  {
   "cell_type": "code",
   "execution_count": 86,
   "id": "1de74b11",
   "metadata": {},
   "outputs": [
    {
     "data": {
      "text/plain": [
       "<tf.Tensor: shape=(4,), dtype=float32, numpy=array([0.5       , 0.73105854, 1.        , 1.        ], dtype=float32)>"
      ]
     },
     "execution_count": 86,
     "metadata": {},
     "output_type": "execute_result"
    }
   ],
   "source": [
    "# Computes sigmoid of x element-wise.\n",
    "x = tf.constant([0.0, 1.0, 50.0, 100.0])\n",
    "tf.math.sigmoid(x)"
   ]
  },
  {
   "cell_type": "code",
   "execution_count": 87,
   "id": "57a255ed",
   "metadata": {},
   "outputs": [
    {
     "data": {
      "text/plain": [
       "array([99, 98, 96])"
      ]
     },
     "execution_count": 87,
     "metadata": {},
     "output_type": "execute_result"
    }
   ],
   "source": [
    "# top_k finds VALUES and INDICES of the K largest entries for the last dimension. By default K=1 and output top_k values are sorted (for K>1)\n",
    "# here the input is a vector (rank=1). Thus values[j] is the j-th largest entry in input, and its index is indices[j].\n",
    "result = tf.math.top_k([1, 2, 98, 1, 1, 99, 3, 1, 3, 96, 4, 1],\n",
    "                        k=3,\n",
    "                        sorted=True)\n",
    "result.values.numpy()\n",
    "# .numpy() cast tensor to numpy array"
   ]
  },
  {
   "cell_type": "code",
   "execution_count": 88,
   "id": "2ba8484f",
   "metadata": {},
   "outputs": [
    {
     "data": {
      "text/plain": [
       "array([5, 2, 9])"
      ]
     },
     "execution_count": 88,
     "metadata": {},
     "output_type": "execute_result"
    }
   ],
   "source": [
    "result.indices.numpy()"
   ]
  },
  {
   "cell_type": "code",
   "execution_count": 89,
   "id": "cc55114d",
   "metadata": {},
   "outputs": [
    {
     "data": {
      "text/plain": [
       "TopKV2(values=<tf.Tensor: shape=(3,), dtype=int32, numpy=array([99, 98, 96])>, indices=<tf.Tensor: shape=(3,), dtype=int32, numpy=array([5, 2, 9])>)"
      ]
     },
     "execution_count": 89,
     "metadata": {},
     "output_type": "execute_result"
    }
   ],
   "source": [
    "# If you just print result you get both VALUES and INDICES\n",
    "result"
   ]
  },
  {
   "cell_type": "code",
   "execution_count": 90,
   "id": "a794a26d",
   "metadata": {},
   "outputs": [
    {
     "data": {
      "text/plain": [
       "TopKV2(values=<tf.Tensor: shape=(4, 1), dtype=int32, numpy=\n",
       "array([[2],\n",
       "       [5],\n",
       "       [6],\n",
       "       [8]])>, indices=<tf.Tensor: shape=(4, 1), dtype=int32, numpy=\n",
       "array([[1],\n",
       "       [1],\n",
       "       [2],\n",
       "       [2]])>)"
      ]
     },
     "execution_count": 90,
     "metadata": {},
     "output_type": "execute_result"
    }
   ],
   "source": [
    "# for 2D tensor topk will scan each row for the top_k elements, default k =1\n",
    "tf.math.top_k(tensor_two_d)"
   ]
  },
  {
   "cell_type": "code",
   "execution_count": 91,
   "id": "1f7933be",
   "metadata": {},
   "outputs": [
    {
     "data": {
      "text/plain": [
       "TopKV2(values=<tf.Tensor: shape=(4, 2), dtype=int32, numpy=\n",
       "array([[2, 1],\n",
       "       [5, 3],\n",
       "       [6, 5],\n",
       "       [8, 3]])>, indices=<tf.Tensor: shape=(4, 2), dtype=int32, numpy=\n",
       "array([[1, 0],\n",
       "       [1, 0],\n",
       "       [2, 1],\n",
       "       [2, 1]])>)"
      ]
     },
     "execution_count": 91,
     "metadata": {},
     "output_type": "execute_result"
    }
   ],
   "source": [
    "tf.math.top_k(tensor_two_d, k=2)"
   ]
  },
  {
   "cell_type": "markdown",
   "id": "f466ae36",
   "metadata": {},
   "source": [
    "# Linear Algebra Operations"
   ]
  },
  {
   "cell_type": "code",
   "execution_count": 92,
   "id": "22f7fc81",
   "metadata": {},
   "outputs": [],
   "source": [
    "# Multiplies matrix a by matrix b, producing a * b.\n",
    "# tf.linalg.matmul(\n",
    "#     a,\n",
    "#     b,\n",
    "#     transpose_a=False,\n",
    "#     transpose_b=False,\n",
    "#     adjoint_a=False,\n",
    "#     adjoint_b=False,\n",
    "#     a_is_sparse=False,\n",
    "#     b_is_sparse=False,\n",
    "#     output_type=None,\n",
    "#     name=None\n",
    "# )"
   ]
  },
  {
   "cell_type": "code",
   "execution_count": 93,
   "id": "bedcb96a",
   "metadata": {},
   "outputs": [
    {
     "data": {
      "text/plain": [
       "<tf.Tensor: shape=(2, 3), dtype=int32, numpy=\n",
       "array([[1, 2, 3],\n",
       "       [4, 5, 6]])>"
      ]
     },
     "execution_count": 93,
     "metadata": {},
     "output_type": "execute_result"
    }
   ],
   "source": [
    "a = tf.constant([1, 2, 3, 4, 5, 6], shape=[2, 3])\n",
    "a  # 2-D tensor"
   ]
  },
  {
   "cell_type": "code",
   "execution_count": 94,
   "id": "e3e577c4",
   "metadata": {},
   "outputs": [
    {
     "data": {
      "text/plain": [
       "<tf.Tensor: shape=(3, 2), dtype=int32, numpy=\n",
       "array([[ 7,  8],\n",
       "       [ 9, 10],\n",
       "       [11, 12]])>"
      ]
     },
     "execution_count": 94,
     "metadata": {},
     "output_type": "execute_result"
    }
   ],
   "source": [
    "b = tf.constant([7, 8, 9, 10, 11, 12], shape=[3, 2])\n",
    "b  # 2-D tensor"
   ]
  },
  {
   "cell_type": "code",
   "execution_count": 95,
   "id": "0e31bd32",
   "metadata": {},
   "outputs": [
    {
     "data": {
      "text/plain": [
       "<tf.Tensor: shape=(2, 2), dtype=int32, numpy=\n",
       "array([[ 58,  64],\n",
       "       [139, 154]])>"
      ]
     },
     "execution_count": 95,
     "metadata": {},
     "output_type": "execute_result"
    }
   ],
   "source": [
    "c = tf.matmul(a, b)\n",
    "c  # `a` * `b`"
   ]
  },
  {
   "cell_type": "code",
   "execution_count": 96,
   "id": "251655a7",
   "metadata": {},
   "outputs": [
    {
     "data": {
      "text/plain": [
       "<tf.Tensor: shape=(2, 2), dtype=int32, numpy=\n",
       "array([[ 58,  64],\n",
       "       [139, 154]])>"
      ]
     },
     "execution_count": 96,
     "metadata": {},
     "output_type": "execute_result"
    }
   ],
   "source": [
    "# Matrix multiplication shorthand x@y\n",
    "a@b"
   ]
  },
  {
   "cell_type": "code",
   "execution_count": 97,
   "id": "bd765778",
   "metadata": {},
   "outputs": [
    {
     "data": {
      "text/plain": [
       "<tf.Tensor: shape=(3, 2), dtype=int32, numpy=\n",
       "array([[1, 4],\n",
       "       [2, 5],\n",
       "       [3, 6]])>"
      ]
     },
     "execution_count": 97,
     "metadata": {},
     "output_type": "execute_result"
    }
   ],
   "source": [
    "# to get transpose\n",
    "tf.transpose(a)"
   ]
  },
  {
   "cell_type": "code",
   "execution_count": 98,
   "id": "a97561f1",
   "metadata": {},
   "outputs": [
    {
     "data": {
      "text/plain": [
       "<tf.Tensor: shape=(2, 2, 3), dtype=int32, numpy=\n",
       "array([[[ 1,  2,  3],\n",
       "        [ 4,  5,  6]],\n",
       "\n",
       "       [[ 7,  8,  9],\n",
       "        [10, 11, 12]]])>"
      ]
     },
     "execution_count": 98,
     "metadata": {},
     "output_type": "execute_result"
    }
   ],
   "source": [
    "# A batch matrix multiplication with batch shape [2]:\n",
    "\n",
    "m = tf.constant(np.arange(1, 13, dtype=np.int32), shape=[2, 2, 3])\n",
    "m  # 3-D tensor"
   ]
  },
  {
   "cell_type": "code",
   "execution_count": 99,
   "id": "8c107ac1",
   "metadata": {},
   "outputs": [
    {
     "data": {
      "text/plain": [
       "<tf.Tensor: shape=(2, 3, 2), dtype=int32, numpy=\n",
       "array([[[13, 14],\n",
       "        [15, 16],\n",
       "        [17, 18]],\n",
       "\n",
       "       [[19, 20],\n",
       "        [21, 22],\n",
       "        [23, 24]]])>"
      ]
     },
     "execution_count": 99,
     "metadata": {},
     "output_type": "execute_result"
    }
   ],
   "source": [
    "n = tf.constant(np.arange(13, 25, dtype=np.int32), shape=[2, 3, 2])\n",
    "n  # 3-D tensor"
   ]
  },
  {
   "cell_type": "code",
   "execution_count": 100,
   "id": "4ff46156",
   "metadata": {},
   "outputs": [
    {
     "data": {
      "text/plain": [
       "<tf.Tensor: shape=(2, 2, 2), dtype=int32, numpy=\n",
       "array([[[ 94, 100],\n",
       "        [229, 244]],\n",
       "\n",
       "       [[508, 532],\n",
       "        [697, 730]]])>"
      ]
     },
     "execution_count": 100,
     "metadata": {},
     "output_type": "execute_result"
    }
   ],
   "source": [
    "o = tf.matmul(m, n)\n",
    "o  # `m@n`"
   ]
  },
  {
   "cell_type": "code",
   "execution_count": 101,
   "id": "9d168c17",
   "metadata": {},
   "outputs": [
    {
     "data": {
      "text/plain": [
       "<tf.Tensor: shape=(2, 2, 2), dtype=int32, numpy=\n",
       "array([[[ 94, 100],\n",
       "        [229, 244]],\n",
       "\n",
       "       [[508, 532],\n",
       "        [697, 730]]])>"
      ]
     },
     "execution_count": 101,
     "metadata": {},
     "output_type": "execute_result"
    }
   ],
   "source": [
    "m@n"
   ]
  },
  {
   "cell_type": "markdown",
   "id": "86f2ca72",
   "metadata": {},
   "source": [
    "### Sidenote: \n",
    "1. For sparse matrices, multiplication operations for such tensors can be optimized by setting a_is_sparse or b_is_sparse to True, in tf.matmul() flags\n",
    "2. For multiplying bu transpose or adjoint, just set their flags to true as well, no need to explicitly define them"
   ]
  },
  {
   "cell_type": "code",
   "execution_count": 102,
   "id": "3479acc7",
   "metadata": {},
   "outputs": [
    {
     "data": {
      "text/plain": [
       "<tf.Tensor: shape=(3, 2), dtype=complex128, numpy=\n",
       "array([[1.-1.j, 4.-4.j],\n",
       "       [2.-2.j, 5.-5.j],\n",
       "       [3.-3.j, 6.-6.j]])>"
      ]
     },
     "execution_count": 102,
     "metadata": {},
     "output_type": "execute_result"
    }
   ],
   "source": [
    "# Adjoint method: Transposes the last two dimensions of FLOAT/COMPLEX tensor (it's MUST) and conjugates tensor matrix.\n",
    "x = tf.constant([[1 + 1j, 2 + 2j, 3 + 3j],\n",
    "                 [4 + 4j, 5 + 5j, 6 + 6j]])\n",
    "tf.linalg.adjoint(x)  # [[1 - 1j, 4 - 4j],\n",
    "                      #  [2 - 2j, 5 - 5j],\n",
    "                      #  [3 - 3j, 6 - 6j]]"
   ]
  },
  {
   "cell_type": "markdown",
   "id": "d84f43a7",
   "metadata": {},
   "source": [
    "Band_Part: Copy a tensor setting everything outside a central band in each innermost matrix to zero.\n",
    "\n",
    "tf.linalg.band_part(input, num_lower, num_upper, name=None)\n",
    "\n",
    "Assume input has k dimensions [I, J, K, ..., M, N], then the output is a tensor with the same shape where\n",
    "\n",
    "The band part is computed as follows:\n",
    "\n",
    "band[i, j, k, ..., m, n] = in_band(m, n) * input[i, j, k, ..., m, n].\n",
    "\n",
    "The indicator function:\n",
    "\n",
    "in_band(m, n) = (num_lower < 0 || (m-n) <= num_lower)) && (num_upper < 0 || (n-m) <= num_upper).\n"
   ]
  },
  {
   "cell_type": "code",
   "execution_count": 103,
   "id": "0ff41059",
   "metadata": {},
   "outputs": [
    {
     "data": {
      "text/plain": [
       "<tf.Tensor: shape=(4, 4), dtype=float32, numpy=\n",
       "array([[ 0.,  1.,  2.,  3.],\n",
       "       [-1.,  0.,  1.,  2.],\n",
       "       [ 0., -1.,  0.,  1.],\n",
       "       [ 0.,  0., -1.,  0.]], dtype=float32)>"
      ]
     },
     "execution_count": 103,
     "metadata": {},
     "output_type": "execute_result"
    }
   ],
   "source": [
    "# (num_lower<0 or m-n<=num_upper) and (num_upper>0 or n-m<=num_upper)\n",
    "# where m is for rows, and n is or columns\n",
    "input = tf.constant([[0, 1, 2, 3], \n",
    "                     [-1, 0, 1, 2], \n",
    "                     [-2, -1, 0, 1], \n",
    "                     [-3, -2, -1, 0]], dtype = tf.float32)\n",
    "\n",
    "tf.linalg.band_part(input, num_lower = 1, num_upper = -1)"
   ]
  },
  {
   "cell_type": "code",
   "execution_count": 104,
   "id": "516fce31",
   "metadata": {},
   "outputs": [
    {
     "data": {
      "text/plain": [
       "<tf.Tensor: shape=(4, 4), dtype=float32, numpy=\n",
       "array([[ 0.,  1.,  0.,  0.],\n",
       "       [-1.,  0.,  1.,  0.],\n",
       "       [-2., -1.,  0.,  1.],\n",
       "       [ 0., -2., -1.,  0.]], dtype=float32)>"
      ]
     },
     "execution_count": 104,
     "metadata": {},
     "output_type": "execute_result"
    }
   ],
   "source": [
    "tf.linalg.band_part(input, num_lower = 2, num_upper = 1)"
   ]
  },
  {
   "cell_type": "code",
   "execution_count": 105,
   "id": "386bcf04",
   "metadata": {},
   "outputs": [],
   "source": [
    "tensor_two_d_m_minus_n = tf.constant([[0,-1,-2],\n",
    "                                      [1,0,1],\n",
    "                                      [2,1,0],\n",
    "                                      [3,2,1]], dtype = tf.float16)"
   ]
  },
  {
   "cell_type": "code",
   "execution_count": 106,
   "id": "4b5a041b",
   "metadata": {},
   "outputs": [],
   "source": [
    "tensor_two_d_n_minus_m = tf.constant([[0, 1, 2],\n",
    "                                      [-1, 0, 1],\n",
    "                                      [-2,-1, 0],\n",
    "                                      [-3,-2,-1]], dtype = tf.float16)"
   ]
  },
  {
   "cell_type": "markdown",
   "id": "1f709a6a",
   "metadata": {},
   "source": [
    "### Useful special cases for Band_part:\n",
    "\n",
    " \n",
    " tf.linalg.band_part(input, 0, -1) ==> Upper triangular part.\n",
    "\n",
    " tf.linalg.band_part(input, -1, 0) ==> Lower triangular part.\n",
    " \n",
    " tf.linalg.band_part(input, 0, 0) ==> Diagonal."
   ]
  },
  {
   "cell_type": "code",
   "execution_count": 107,
   "id": "685b5119",
   "metadata": {},
   "outputs": [
    {
     "data": {
      "text/plain": [
       "<tf.Tensor: shape=(4, 4), dtype=float32, numpy=\n",
       "array([[nan,  0.,  0.,  0.],\n",
       "       [nan, nan,  0.,  0.],\n",
       "       [nan, nan, nan,  0.],\n",
       "       [nan, nan, nan, nan]], dtype=float32)>"
      ]
     },
     "execution_count": 107,
     "metadata": {},
     "output_type": "execute_result"
    }
   ],
   "source": [
    "# tf.linalg.cholesky : Computes the Cholesky decomposition of one or more SQUARE matrices. Int dtype not allowed\n",
    "\n",
    "tf.linalg.cholesky(\n",
    "    input, name=None\n",
    ")\n",
    "\n"
   ]
  },
  {
   "cell_type": "code",
   "execution_count": 108,
   "id": "63db9864",
   "metadata": {},
   "outputs": [],
   "source": [
    "# tf.linalg.cross : Compute the pairwise CROSS product.\n",
    "# tf.linalg.cross(a, b, name=None)"
   ]
  },
  {
   "cell_type": "code",
   "execution_count": 109,
   "id": "8fc7075f",
   "metadata": {},
   "outputs": [
    {
     "data": {
      "text/plain": [
       "-3.0"
      ]
     },
     "execution_count": 109,
     "metadata": {},
     "output_type": "execute_result"
    }
   ],
   "source": [
    "# tf.linalg.det : Computes the determinant of one or more SQUARE matrices. Int dtype not allowed\n",
    "# casted_tensor_two_d[:3] to select first 3 rows and make matrix square\n",
    "tf.linalg.det(casted_tensor_two_d[:3], name=None).numpy()"
   ]
  },
  {
   "cell_type": "code",
   "execution_count": 110,
   "id": "94f6e711",
   "metadata": {},
   "outputs": [
    {
     "data": {
      "text/plain": [
       "<tf.Tensor: shape=(3, 3), dtype=float32, numpy=\n",
       "array([[-11.666667  ,   4.        ,   0.6666667 ],\n",
       "       [  6.3333335 ,  -2.        ,  -0.33333334],\n",
       "       [ -3.3333335 ,   1.        ,   0.33333334]], dtype=float32)>"
      ]
     },
     "execution_count": 110,
     "metadata": {},
     "output_type": "execute_result"
    }
   ],
   "source": [
    "# tf.linalg.inv : Computes the inverse of one or more SQUARE invertible matrices or their adjoints (conjugate transposes). Int dtype not allowed\n",
    "\n",
    "tf.linalg.inv(\n",
    "    casted_tensor_two_d[:3], adjoint=False, name=None\n",
    ")"
   ]
  },
  {
   "cell_type": "code",
   "execution_count": 111,
   "id": "b3560eb0",
   "metadata": {},
   "outputs": [
    {
     "data": {
      "text/plain": [
       "<tf.Tensor: shape=(3, 2), dtype=int32, numpy=\n",
       "array([[1, 4],\n",
       "       [2, 5],\n",
       "       [3, 6]])>"
      ]
     },
     "execution_count": 111,
     "metadata": {},
     "output_type": "execute_result"
    }
   ],
   "source": [
    "# tf.linalg.matrix_transpose : Transposes last two dimensions of tensor a. Output same as tf.transpose but more prefereble to use transpose flags in tf.matmul() for matrix multiplication\n",
    "\n",
    "tf.linalg.matrix_transpose(\n",
    "    a, name='matrix_transpose', conjugate=False\n",
    ")"
   ]
  },
  {
   "cell_type": "code",
   "execution_count": 112,
   "id": "d446791e",
   "metadata": {},
   "outputs": [
    {
     "name": "stdout",
     "output_type": "stream",
     "text": [
      "tf.Tensor([11.934144   5.8839946  1.3981452], shape=(3,), dtype=float32)\n",
      "tf.Tensor(\n",
      "[[-0.11580264  0.29874796 -0.00687289]\n",
      " [-0.23386282  0.8843067   0.26446015]\n",
      " [-0.6538247   0.01995025 -0.75080764]\n",
      " [-0.71021914 -0.3582642   0.6052285 ]], shape=(4, 3), dtype=float32)\n",
      "tf.Tensor(\n",
      "[[-0.24230093  0.38325816  0.8912931 ]\n",
      " [-0.56985235  0.68728614 -0.45045093]\n",
      " [-0.78521246 -0.6170502   0.05187052]], shape=(3, 3), dtype=float32)\n"
     ]
    }
   ],
   "source": [
    "# tf.linalg.svd : Computes the singular value decompositions of one or more matrices. u and v decompositions\n",
    "\n",
    "s,u,v = tf.linalg.svd(casted_tensor_two_d)\n",
    "print(s)\n",
    "print(u)\n",
    "print(v)"
   ]
  },
  {
   "cell_type": "markdown",
   "id": "36e91d3d",
   "metadata": {},
   "source": [
    "### Einsum: Another way to operations on matrices (e.g, multiply, transpose, reduce_sum etc)\n",
    "\n",
    "np.einsum('ij, jk -> ik', A,B) # for multiplication\n",
    "\n",
    "np.einsum('ij -> ji', A)       # for transpose\n",
    "\n",
    "np.einsum('ij -> ')            # for reduce_sum\n",
    "\n",
    "for batch size b, or nD operations\n",
    "\n",
    "np.einsum('bij, bjk -> bik', A,B)    # for multiplication\n",
    "\n",
    "np.einsum('bij -> ')                 # for reduce_sum"
   ]
  },
  {
   "cell_type": "code",
   "execution_count": 113,
   "id": "3f0b2a30",
   "metadata": {},
   "outputs": [],
   "source": [
    "# Using Einsum is easy the following way, when we have High dimensional tensors\n",
    "\n",
    "# From Attention is all you need paper, we need to make a complex calculation with following\n",
    "# Q = batchsize, s_q, modelsize\n",
    "# K = batchsize, s_k, modelsize\n",
    "\n",
    "Q = np.random.randn(32,64,512)      # bqm\n",
    "K = np.random.randn(32,128,512)     # bkm"
   ]
  },
  {
   "cell_type": "code",
   "execution_count": 114,
   "id": "d0f69699",
   "metadata": {},
   "outputs": [
    {
     "data": {
      "text/plain": [
       "array([[[ 3.20279486e+01, -3.11677255e+01, -3.93166296e+01, ...,\n",
       "         -5.62214497e+00, -3.15364383e+01, -2.71816440e+01],\n",
       "        [-1.25380810e+01,  2.65118422e+00, -4.66783402e+01, ...,\n",
       "          5.94666066e+00,  1.70044914e+00,  2.61376904e+01],\n",
       "        [ 1.15593058e+01, -1.35764813e+01,  1.84001988e+01, ...,\n",
       "          5.40925100e+00, -4.29068339e+00, -1.45553936e+01],\n",
       "        ...,\n",
       "        [ 3.38352707e+01, -3.94180920e+01, -8.86901140e+00, ...,\n",
       "         -4.08343067e+00,  2.00214634e+01,  4.44086220e+01],\n",
       "        [-5.20880654e+00,  1.37209324e+01, -2.82730015e+01, ...,\n",
       "          3.70707512e+00,  7.27320774e+00,  2.44134195e+01],\n",
       "        [ 6.83674740e+00, -1.52969355e+01,  1.35472949e+01, ...,\n",
       "         -2.31415384e-01,  7.52037882e+00, -4.51523733e+00]],\n",
       "\n",
       "       [[-1.52636470e+01,  8.23748280e+00, -3.65831498e+01, ...,\n",
       "          6.71376850e-01, -3.39814181e+00, -1.47300991e+01],\n",
       "        [ 1.13705615e+01, -2.44543642e+01,  7.84826695e+00, ...,\n",
       "         -6.44467859e+00,  4.28373622e+01, -2.00178600e+01],\n",
       "        [-4.88850346e-01, -5.98264144e+00, -4.85270949e+00, ...,\n",
       "         -2.30730416e+01,  4.27362296e+00,  3.01837860e+01],\n",
       "        ...,\n",
       "        [ 3.25267543e+01,  3.70015161e+01, -7.06620528e-02, ...,\n",
       "         -1.47644005e+01,  1.43970254e+01,  3.03090770e+01],\n",
       "        [-8.40492802e-01,  1.55623978e+01, -1.98688085e+01, ...,\n",
       "          2.72603808e+01, -1.66463762e+01,  6.01123521e-01],\n",
       "        [ 6.18813478e+00,  1.93992425e+00, -1.09963894e+01, ...,\n",
       "         -3.09711472e+01,  5.48606546e+00, -1.63363176e+01]],\n",
       "\n",
       "       [[ 1.16649504e+01,  2.88637206e+01, -3.14383622e+00, ...,\n",
       "          4.31098678e+01,  6.25900897e+01, -1.79447388e+01],\n",
       "        [-2.73487309e+00, -2.01250977e+01, -2.68645595e+01, ...,\n",
       "          2.34067971e+01,  7.89219718e+00, -2.47453464e+01],\n",
       "        [-2.43155868e+01,  4.12031458e+00, -1.61036799e+01, ...,\n",
       "         -1.78189000e+01,  4.03231970e+01, -2.98335702e+01],\n",
       "        ...,\n",
       "        [ 1.08546384e+01,  1.70084559e+01,  1.72488299e+01, ...,\n",
       "         -1.66385483e+00,  2.29551349e+01, -2.53772466e+01],\n",
       "        [-6.41134938e+00,  2.15690993e+01, -1.31395764e+01, ...,\n",
       "          3.09947549e+00,  9.16442978e+00,  1.68326354e+01],\n",
       "        [-2.31180504e+01,  1.86065367e+01,  1.04300160e+01, ...,\n",
       "         -1.67377819e+01, -1.14324909e+01,  2.77145548e+01]],\n",
       "\n",
       "       ...,\n",
       "\n",
       "       [[ 3.12897980e+01, -1.49135511e+01, -4.82954331e+01, ...,\n",
       "          1.37673458e+01,  7.42520531e+01, -6.83273396e-02],\n",
       "        [-9.19885889e+00, -7.48250889e+00, -3.08344871e+01, ...,\n",
       "          2.94133645e+00,  9.04641110e+00,  1.68950675e+01],\n",
       "        [-5.00466029e+01, -2.08448952e+00, -2.09877715e+00, ...,\n",
       "         -2.52331862e+01,  7.58210100e+00, -1.03499605e+01],\n",
       "        ...,\n",
       "        [ 3.46102985e+00,  8.59922658e+00,  1.08253036e+01, ...,\n",
       "         -6.33131578e+00,  2.20735056e+01,  4.31383142e+01],\n",
       "        [ 1.68593979e+01, -1.10264997e+01,  1.28162417e+01, ...,\n",
       "          5.33824700e+01,  2.02373864e+00, -2.52645783e+01],\n",
       "        [-2.76769758e+01,  1.56935320e+01, -4.30761199e+01, ...,\n",
       "          1.72968572e+01, -1.13125924e+01,  3.51653784e+01]],\n",
       "\n",
       "       [[-1.42635340e+00, -6.82672021e-01,  2.39083325e+01, ...,\n",
       "          1.25462895e+01, -4.32307163e+00,  9.42218179e+00],\n",
       "        [ 4.96696408e+00,  1.54976167e+01, -3.36179764e+01, ...,\n",
       "          4.71686818e+01, -3.67146740e+01, -1.14142788e+01],\n",
       "        [-2.61899364e+01, -3.30479210e+01, -2.42418522e+00, ...,\n",
       "         -2.69443816e+01,  3.80465091e+01,  2.12311966e+01],\n",
       "        ...,\n",
       "        [ 1.70425915e+01, -1.95919313e-01, -4.53567358e+01, ...,\n",
       "         -1.53775777e+00,  2.05432563e+00,  8.05058371e+00],\n",
       "        [-4.34178298e+01, -1.93643982e+01, -5.17019683e+00, ...,\n",
       "         -3.19046844e+01,  2.53198549e+01, -2.48543539e+01],\n",
       "        [-2.41986304e+01, -1.30093897e+01,  2.01360544e+01, ...,\n",
       "         -3.10895956e+01, -3.59175714e+00,  1.90058894e+00]],\n",
       "\n",
       "       [[ 9.77886660e+00, -1.68607775e+01,  1.49798130e+01, ...,\n",
       "          4.28732321e+01, -4.30523408e+01, -1.87661625e+01],\n",
       "        [-1.36579665e+01,  2.32355019e+01,  1.87915184e+01, ...,\n",
       "          1.33390601e+01, -1.98455239e+01,  9.73022633e+00],\n",
       "        [ 2.24754191e+01, -7.08287589e+00, -7.08765444e-01, ...,\n",
       "          3.96529713e+00,  6.29245969e+00, -4.89260111e-02],\n",
       "        ...,\n",
       "        [ 9.49530598e+00, -1.67767437e+01, -2.64106048e-01, ...,\n",
       "         -3.53790976e+01,  1.74777033e+01, -1.62516913e+01],\n",
       "        [ 1.71028989e+01, -1.48445901e+01, -2.19831897e+01, ...,\n",
       "          4.30209293e+00,  5.42119907e+00, -1.49752402e+01],\n",
       "        [-2.18654638e+01,  1.11868595e+01,  7.78762487e+00, ...,\n",
       "          1.84776485e+01,  6.15090654e+01, -1.94491679e+01]]])"
      ]
     },
     "execution_count": 114,
     "metadata": {},
     "output_type": "execute_result"
    }
   ],
   "source": [
    "np.einsum('bqm, bkm -> bqk', Q,K)    # without any transposes or anything for km to mk, and then calculating of qm*mk = qk"
   ]
  },
  {
   "cell_type": "code",
   "execution_count": 115,
   "id": "b9797185",
   "metadata": {},
   "outputs": [
    {
     "data": {
      "text/plain": [
       "(32, 64, 128)"
      ]
     },
     "execution_count": 115,
     "metadata": {},
     "output_type": "execute_result"
    }
   ],
   "source": [
    "np.einsum('bqm, bkm -> bqk', Q,K).shape"
   ]
  },
  {
   "cell_type": "code",
   "execution_count": 116,
   "id": "c180767a",
   "metadata": {},
   "outputs": [
    {
     "data": {
      "text/plain": [
       "(2, 4, 1, 2)"
      ]
     },
     "execution_count": 116,
     "metadata": {},
     "output_type": "execute_result"
    }
   ],
   "source": [
    "# Another example, from the Reformer: THe efficient transformer paper, another calculation\n",
    "A = np.random.randn(2,4,4,2)    # bcij\n",
    "B = np.random.randn(2,4,4,1)    # bcik\n",
    "np.einsum('bcik, bcij -> bckj', B,A).shape          # no need for transposing ik to ki, then doing ki*ij = kj"
   ]
  },
  {
   "cell_type": "markdown",
   "id": "e0338419",
   "metadata": {},
   "source": [
    "# Common TensorFlow Operations"
   ]
  },
  {
   "cell_type": "code",
   "execution_count": 117,
   "id": "00eb9796",
   "metadata": {},
   "outputs": [
    {
     "data": {
      "text/plain": [
       "<tf.Tensor: shape=(4, 2, 3), dtype=int32, numpy=\n",
       "array([[[ 1,  2,  0],\n",
       "        [ 3,  5, -1]],\n",
       "\n",
       "       [[10,  2,  0],\n",
       "        [ 1,  0,  2]],\n",
       "\n",
       "       [[ 5,  8,  0],\n",
       "        [ 2,  7,  0]],\n",
       "\n",
       "       [[ 2,  1,  9],\n",
       "        [ 4, -3, 32]]])>"
      ]
     },
     "execution_count": 117,
     "metadata": {},
     "output_type": "execute_result"
    }
   ],
   "source": [
    "tensor_three_d"
   ]
  },
  {
   "cell_type": "code",
   "execution_count": 118,
   "id": "e18a5016",
   "metadata": {},
   "outputs": [
    {
     "name": "stdout",
     "output_type": "stream",
     "text": [
      "(4, 2, 3)\n",
      "(1, 4, 2, 3)\n"
     ]
    }
   ],
   "source": [
    "# Returns a tensor with a length 1 axis inserted at index axis.\n",
    "# tf.expand_dims(\n",
    "#     input, axis, name=None\n",
    "# )\n",
    "\n",
    "print(tensor_three_d.shape)\n",
    "print(tf.expand_dims(tensor_three_d, axis = 0).shape)"
   ]
  },
  {
   "cell_type": "code",
   "execution_count": 119,
   "id": "02e40a3a",
   "metadata": {},
   "outputs": [
    {
     "name": "stdout",
     "output_type": "stream",
     "text": [
      "(4,)\n",
      "tf.Tensor([[2 3 4 5]], shape=(1, 4), dtype=int32)\n"
     ]
    }
   ],
   "source": [
    "x = tf.constant([2,3,4,5])          # From 1D tensor\n",
    "print(x.shape)\n",
    "print(tf.expand_dims(x, axis = 0))   # To 2D tensor"
   ]
  },
  {
   "cell_type": "code",
   "execution_count": 120,
   "id": "5b1ff2a7",
   "metadata": {},
   "outputs": [
    {
     "name": "stdout",
     "output_type": "stream",
     "text": [
      "(4,)\n",
      "tf.Tensor(\n",
      "[[2]\n",
      " [3]\n",
      " [4]\n",
      " [5]], shape=(4, 1), dtype=int32)\n"
     ]
    }
   ],
   "source": [
    "x = tf.constant([2,3,4,5])          # From 1D tensor\n",
    "print(x.shape)\n",
    "print(tf.expand_dims(x, axis = 1))"
   ]
  },
  {
   "cell_type": "code",
   "execution_count": 121,
   "id": "38765d51",
   "metadata": {},
   "outputs": [
    {
     "name": "stdout",
     "output_type": "stream",
     "text": [
      "(4, 2, 3)\n",
      "(4, 1, 2, 3)\n",
      "tf.Tensor(\n",
      "[[[[ 1  2  0]\n",
      "   [ 3  5 -1]]]\n",
      "\n",
      "\n",
      " [[[10  2  0]\n",
      "   [ 1  0  2]]]\n",
      "\n",
      "\n",
      " [[[ 5  8  0]\n",
      "   [ 2  7  0]]]\n",
      "\n",
      "\n",
      " [[[ 2  1  9]\n",
      "   [ 4 -3 32]]]], shape=(4, 1, 2, 3), dtype=int32)\n"
     ]
    }
   ],
   "source": [
    "print(tensor_three_d.shape)\n",
    "print(tf.expand_dims(tensor_three_d, axis = 1).shape)\n",
    "print(tf.expand_dims(tensor_three_d, axis = 1))       # for 3D tensor we can insert axis at axis = 0, 1, 2 ,3  not 4"
   ]
  },
  {
   "cell_type": "code",
   "execution_count": 122,
   "id": "b55dfa46",
   "metadata": {},
   "outputs": [
    {
     "name": "stdout",
     "output_type": "stream",
     "text": [
      "(4, 2, 3)\n",
      "(4, 2, 1, 3)\n",
      "tf.Tensor(\n",
      "[[[[ 1  2  0]]\n",
      "\n",
      "  [[ 3  5 -1]]]\n",
      "\n",
      "\n",
      " [[[10  2  0]]\n",
      "\n",
      "  [[ 1  0  2]]]\n",
      "\n",
      "\n",
      " [[[ 5  8  0]]\n",
      "\n",
      "  [[ 2  7  0]]]\n",
      "\n",
      "\n",
      " [[[ 2  1  9]]\n",
      "\n",
      "  [[ 4 -3 32]]]], shape=(4, 2, 1, 3), dtype=int32)\n"
     ]
    }
   ],
   "source": [
    "print(tensor_three_d.shape)\n",
    "print(tf.expand_dims(tensor_three_d, axis = 2).shape)\n",
    "print(tf.expand_dims(tensor_three_d, axis = 2))"
   ]
  },
  {
   "cell_type": "code",
   "execution_count": 123,
   "id": "f4cc373c",
   "metadata": {},
   "outputs": [
    {
     "name": "stdout",
     "output_type": "stream",
     "text": [
      "(4, 2, 3)\n",
      "(4, 2, 3, 1)\n",
      "tf.Tensor(\n",
      "[[[[ 1]\n",
      "   [ 2]\n",
      "   [ 0]]\n",
      "\n",
      "  [[ 3]\n",
      "   [ 5]\n",
      "   [-1]]]\n",
      "\n",
      "\n",
      " [[[10]\n",
      "   [ 2]\n",
      "   [ 0]]\n",
      "\n",
      "  [[ 1]\n",
      "   [ 0]\n",
      "   [ 2]]]\n",
      "\n",
      "\n",
      " [[[ 5]\n",
      "   [ 8]\n",
      "   [ 0]]\n",
      "\n",
      "  [[ 2]\n",
      "   [ 7]\n",
      "   [ 0]]]\n",
      "\n",
      "\n",
      " [[[ 2]\n",
      "   [ 1]\n",
      "   [ 9]]\n",
      "\n",
      "  [[ 4]\n",
      "   [-3]\n",
      "   [32]]]], shape=(4, 2, 3, 1), dtype=int32)\n"
     ]
    }
   ],
   "source": [
    "print(tensor_three_d.shape)\n",
    "print(tf.expand_dims(tensor_three_d, axis = 3).shape)\n",
    "print(tf.expand_dims(tensor_three_d, axis = 3))"
   ]
  },
  {
   "cell_type": "code",
   "execution_count": 124,
   "id": "0b3b1865",
   "metadata": {},
   "outputs": [
    {
     "name": "stdout",
     "output_type": "stream",
     "text": [
      "(4, 2, 3)\n",
      "(1, 4, 2, 3)\n",
      "(4, 2, 3)\n",
      "(4, 2, 3)\n"
     ]
    }
   ],
   "source": [
    "# tf.squeeze is opposite of tf.expand_dims, squeeze upto n dimensions\n",
    "\n",
    "x_expanded = tf.expand_dims(tensor_three_d, axis = 0)\n",
    "print(tensor_three_d.shape)\n",
    "print(x_expanded.shape)\n",
    "x_squeezed = tf.squeeze(x_expanded,axis=0)\n",
    "print(x_squeezed.shape)\n",
    "\n",
    "#also can be done with reshape\n",
    "print(tf.reshape(x_expanded,[4,2,3]).shape)\n",
    "\n",
    "\n"
   ]
  },
  {
   "cell_type": "code",
   "execution_count": 125,
   "id": "fc7b5da4",
   "metadata": {},
   "outputs": [
    {
     "name": "stdout",
     "output_type": "stream",
     "text": [
      "tf.Tensor(\n",
      "[[ 1  2  0]\n",
      " [ 3  5 -1]\n",
      " [ 1  5  6]\n",
      " [ 2  3  8]], shape=(4, 3), dtype=int32)\n",
      "tf.Tensor(\n",
      "[[ 1  2  0  3  5 -1]\n",
      " [ 1  5  6  2  3  8]], shape=(2, 6), dtype=int32)\n",
      "tf.Tensor(\n",
      "[[ 1  2]\n",
      " [ 0  3]\n",
      " [ 5 -1]\n",
      " [ 1  5]\n",
      " [ 6  2]\n",
      " [ 3  8]], shape=(6, 2), dtype=int32)\n",
      "tf.Tensor([[ 1  2  0  3  5 -1  1  5  6  2  3  8]], shape=(1, 12), dtype=int32)\n",
      "tf.Tensor(\n",
      "[[ 1  2  0  3]\n",
      " [ 5 -1  1  5]\n",
      " [ 6  2  3  8]], shape=(3, 4), dtype=int32)\n"
     ]
    }
   ],
   "source": [
    "# tf.reshape will reshape the element is a new order. But the order should be appropriate. Eg 2x4 tensor can be reshaped to 1x8 tensor, not 1x6\n",
    "\n",
    "print(tensor_two_d)\n",
    "print(tf.reshape(tensor_two_d, [2,6]))\n",
    "print(tf.reshape(tensor_two_d, [6,2]))\n",
    "print(tf.reshape(tensor_two_d, [1,12]))\n",
    "print(tf.reshape(tensor_two_d, [3,4]))  # can be done with transpose too"
   ]
  },
  {
   "cell_type": "code",
   "execution_count": 126,
   "id": "8f5fdcef",
   "metadata": {},
   "outputs": [
    {
     "name": "stdout",
     "output_type": "stream",
     "text": [
      "tf.Tensor(\n",
      "[[ 1  2  0]\n",
      " [ 3  5 -1]\n",
      " [ 1  5  6]\n",
      " [ 2  3  8]], shape=(4, 3), dtype=int32)\n",
      "tf.Tensor(\n",
      "[[ 1  2  0  3  5 -1]\n",
      " [ 1  5  6  2  3  8]], shape=(2, 6), dtype=int32)\n",
      "tf.Tensor(\n",
      "[[ 1  2]\n",
      " [ 0  3]\n",
      " [ 5 -1]\n",
      " [ 1  5]\n",
      " [ 6  2]\n",
      " [ 3  8]], shape=(6, 2), dtype=int32)\n",
      "tf.Tensor([[ 1  2  0  3  5 -1  1  5  6  2  3  8]], shape=(1, 12), dtype=int32)\n",
      "tf.Tensor(\n",
      "[[ 1  2  0  3]\n",
      " [ 5 -1  1  5]\n",
      " [ 6  2  3  8]], shape=(3, 4), dtype=int32)\n"
     ]
    }
   ],
   "source": [
    "# when you know only one dimension in which shape you want, just put -1 for the other\n",
    "\n",
    "print(tensor_two_d)\n",
    "print(tf.reshape(tensor_two_d, [2,-1]))\n",
    "print(tf.reshape(tensor_two_d, [-1,2]))\n",
    "print(tf.reshape(tensor_two_d, [1,-1]))\n",
    "print(tf.reshape(tensor_two_d, [-1,4])) "
   ]
  },
  {
   "cell_type": "code",
   "execution_count": 127,
   "id": "dbfabc9e",
   "metadata": {},
   "outputs": [
    {
     "name": "stdout",
     "output_type": "stream",
     "text": [
      "(2, 3)\n",
      "(2, 3)\n",
      "tf.Tensor(\n",
      "[[ 1  2  3]\n",
      " [ 4  5  6]\n",
      " [ 7  8  9]\n",
      " [10 11 12]], shape=(4, 3), dtype=int32)\n",
      "tf.Tensor(\n",
      "[[ 1  2  3  7  8  9]\n",
      " [ 4  5  6 10 11 12]], shape=(2, 6), dtype=int32)\n"
     ]
    }
   ],
   "source": [
    "# tf.concat allows us to concatenate tensors along one dimension\n",
    "\n",
    "t1 = [[1, 2, 3], [4, 5, 6]]\n",
    "print(tf.constant(t1).shape)    # converting to tensor because, 'list' object has no attribute 'shape'\n",
    "t2 = [[7, 8, 9], [10, 11, 12]]\n",
    "print(tf.constant(t2).shape)\n",
    "\n",
    "print(tf.concat([t1, t2], axis = 0))   # see the concatenated shape\n",
    "print(tf.concat([t1, t2], axis = 1))   # see the concatenated shape"
   ]
  },
  {
   "cell_type": "code",
   "execution_count": 128,
   "id": "bec6a2fa",
   "metadata": {},
   "outputs": [
    {
     "name": "stdout",
     "output_type": "stream",
     "text": [
      "tf.Tensor(\n",
      "[[[ 1  2  3]\n",
      "  [ 4  5  6]]\n",
      "\n",
      " [[ 7  8  9]\n",
      "  [10 11 12]]\n",
      "\n",
      " [[ 1  2  3]\n",
      "  [ 4  5  6]]], shape=(3, 2, 3), dtype=int32)\n",
      "tf.Tensor(\n",
      "[[[ 1  2  3]\n",
      "  [ 7  8  9]\n",
      "  [ 1  2  3]]\n",
      "\n",
      " [[ 4  5  6]\n",
      "  [10 11 12]\n",
      "  [ 4  5  6]]], shape=(2, 3, 3), dtype=int32)\n",
      "tf.Tensor(\n",
      "[[[ 1  7  1]\n",
      "  [ 2  8  2]\n",
      "  [ 3  9  3]]\n",
      "\n",
      " [[ 4 10  4]\n",
      "  [ 5 11  5]\n",
      "  [ 6 12  6]]], shape=(2, 3, 3), dtype=int32)\n",
      "(4, 2, 3)\n",
      "(2, 4, 3)\n",
      "(2, 3, 4)\n"
     ]
    }
   ],
   "source": [
    "# tf.stack is for concatenating dimension wise, eg (2,3) stacked eith (2,3) gives (2,2,3 )\n",
    "\n",
    "print(tf.stack([t1, t2, t1], axis = 0))   # see the concatenated shape\n",
    "print(tf.stack([t1, t2, t1], axis = 1))   # see the concatenated shape\n",
    "print(tf.stack([t1, t2, t1], axis = 2))   # see the concatenated shape\n",
    "print(tf.stack([t1, t2, t1, t2], axis = 0).shape)   # see the concatenated shape\n",
    "print(tf.stack([t1, t2, t1, t2], axis = 1).shape)   # see the concatenated shape\n",
    "print(tf.stack([t1, t2, t1, t2], axis = 2).shape)   # see the concatenated shape"
   ]
  },
  {
   "cell_type": "code",
   "execution_count": 129,
   "id": "4647c5e1",
   "metadata": {},
   "outputs": [
    {
     "data": {
      "text/plain": [
       "<tf.Tensor: shape=(4, 2, 3), dtype=int32, numpy=\n",
       "array([[[ 1,  2,  3],\n",
       "        [ 4,  5,  6]],\n",
       "\n",
       "       [[ 7,  8,  9],\n",
       "        [10, 11, 12]],\n",
       "\n",
       "       [[ 1,  2,  3],\n",
       "        [ 4,  5,  6]],\n",
       "\n",
       "       [[ 7,  8,  9],\n",
       "        [10, 11, 12]]])>"
      ]
     },
     "execution_count": 129,
     "metadata": {},
     "output_type": "execute_result"
    }
   ],
   "source": [
    "# Note: If you are concatenating along a new axis consider using stack. E.g.\n",
    "\n",
    "tf.concat([tf.expand_dims(t, axis=0) for t in [t1,t2,t1,t2]], axis=0)"
   ]
  },
  {
   "cell_type": "code",
   "execution_count": 130,
   "id": "3530bc5d",
   "metadata": {},
   "outputs": [
    {
     "data": {
      "text/plain": [
       "<tf.Tensor: shape=(4, 2, 3), dtype=int32, numpy=\n",
       "array([[[ 1,  2,  3],\n",
       "        [ 4,  5,  6]],\n",
       "\n",
       "       [[ 7,  8,  9],\n",
       "        [10, 11, 12]],\n",
       "\n",
       "       [[ 1,  2,  3],\n",
       "        [ 4,  5,  6]],\n",
       "\n",
       "       [[ 7,  8,  9],\n",
       "        [10, 11, 12]]])>"
      ]
     },
     "execution_count": 130,
     "metadata": {},
     "output_type": "execute_result"
    }
   ],
   "source": [
    "# Has same output as\n",
    "\n",
    "tf.stack([t1,t2,t1,t2], axis=0)"
   ]
  },
  {
   "cell_type": "code",
   "execution_count": 131,
   "metadata": {},
   "outputs": [
    {
     "data": {
      "text/plain": [
       "<tf.Tensor: shape=(4, 7), dtype=int32, numpy=\n",
       "array([[0, 0, 0, 0, 0, 0, 0],\n",
       "       [0, 0, 1, 2, 3, 0, 0],\n",
       "       [0, 0, 4, 5, 6, 0, 0],\n",
       "       [0, 0, 0, 0, 0, 0, 0]])>"
      ]
     },
     "execution_count": 131,
     "metadata": {},
     "output_type": "execute_result"
    }
   ],
   "source": [
    "# Pads a tensor\n",
    "# tf.pad(\n",
    "#     tensor, paddings, mode='CONSTANT', constant_values=0, name=None\n",
    "# )\n",
    "\n",
    "t = tf.constant([[1, 2, 3], [4, 5, 6]])\n",
    "paddings = tf.constant([[1, 1,], # means 1 row above, 1 row below\n",
    "                        [2, 2]]) # means 2 col left, 2 row right\n",
    "\n",
    "# Default 'constant_values' is 0. Rank of 't' is 2.\n",
    "tf.pad(t, paddings, \"CONSTANT\")  "
   ]
  },
  {
   "cell_type": "code",
   "execution_count": 132,
   "metadata": {},
   "outputs": [
    {
     "data": {
      "text/plain": [
       "<tf.Tensor: shape=(6, 12), dtype=int32, numpy=\n",
       "array([[8, 8, 8, 8, 8, 8, 8, 8, 8, 8, 8, 8],\n",
       "       [8, 8, 8, 8, 8, 8, 8, 8, 8, 8, 8, 8],\n",
       "       [8, 8, 8, 8, 8, 8, 8, 8, 8, 8, 8, 8],\n",
       "       [8, 8, 1, 2, 3, 8, 8, 8, 8, 8, 8, 8],\n",
       "       [8, 8, 4, 5, 6, 8, 8, 8, 8, 8, 8, 8],\n",
       "       [8, 8, 8, 8, 8, 8, 8, 8, 8, 8, 8, 8]])>"
      ]
     },
     "execution_count": 132,
     "metadata": {},
     "output_type": "execute_result"
    }
   ],
   "source": [
    "paddings = tf.constant([[3, 1,], # means 3 row above, 1 row below\n",
    "                        [2, 7]]) # means 2 col left, 7 row right\n",
    "tf.pad(t, paddings, \"CONSTANT\", constant_values = 8) "
   ]
  },
  {
   "cell_type": "code",
   "execution_count": 133,
   "id": "a6332c4f",
   "metadata": {},
   "outputs": [],
   "source": [
    "paddings = tf.constant([[1, 1,], # means 1 row above, 1 row below\n",
    "                        [2, 2]]) # means 2 col left, 2 row right"
   ]
  },
  {
   "cell_type": "code",
   "execution_count": 134,
   "id": "d7b581ca",
   "metadata": {},
   "outputs": [
    {
     "data": {
      "text/plain": [
       "<tf.Tensor: shape=(4, 7), dtype=int32, numpy=\n",
       "array([[6, 5, 4, 5, 6, 5, 4],\n",
       "       [3, 2, 1, 2, 3, 2, 1],\n",
       "       [6, 5, 4, 5, 6, 5, 4],\n",
       "       [3, 2, 1, 2, 3, 2, 1]])>"
      ]
     },
     "execution_count": 134,
     "metadata": {},
     "output_type": "execute_result"
    }
   ],
   "source": [
    "tf.pad(t, paddings, \"REFLECT\") "
   ]
  },
  {
   "cell_type": "code",
   "execution_count": 135,
   "id": "899c74b8",
   "metadata": {},
   "outputs": [
    {
     "data": {
      "text/plain": [
       "<tf.Tensor: shape=(4, 7), dtype=int32, numpy=\n",
       "array([[2, 1, 1, 2, 3, 3, 2],\n",
       "       [2, 1, 1, 2, 3, 3, 2],\n",
       "       [5, 4, 4, 5, 6, 6, 5],\n",
       "       [5, 4, 4, 5, 6, 6, 5]])>"
      ]
     },
     "execution_count": 135,
     "metadata": {},
     "output_type": "execute_result"
    }
   ],
   "source": [
    "tf.pad(t, paddings, \"SYMMETRIC\") "
   ]
  },
  {
   "cell_type": "code",
   "execution_count": 136,
   "id": "da61a592",
   "metadata": {},
   "outputs": [
    {
     "name": "stdout",
     "output_type": "stream",
     "text": [
      "b'p3'\n",
      "b'p3'\n"
     ]
    }
   ],
   "source": [
    "# tf.gather is another method to index and slice tensors. It gathers slices from params axis 'axis' according to 'indices'. \n",
    "# 'indices' must be an integer tensor of any dimension (often 1-D).\n",
    "\n",
    "# tf.gather(\n",
    "#     params, indices, axis=None, batch_dims=0, name=None\n",
    "# )\n",
    "\n",
    "params = tf.constant(['p0', 'p1', 'p2', 'p3', 'p4', 'p5'])\n",
    "print(params[3].numpy())\n",
    "\n",
    "print(tf.gather(params, 3).numpy())\n"
   ]
  },
  {
   "cell_type": "code",
   "execution_count": 137,
   "id": "1a56a3d2",
   "metadata": {},
   "outputs": [
    {
     "data": {
      "text/plain": [
       "array([b'p2', b'p0', b'p2', b'p5'], dtype=object)"
      ]
     },
     "execution_count": 137,
     "metadata": {},
     "output_type": "execute_result"
    }
   ],
   "source": [
    "# The most common case is to pass a single axis tensor of indices \n",
    "# This can't be expressed as a python slice because the indices are not sequential:\n",
    "\n",
    "indices = [2, 0, 2, 5]          # Random positions of the indices can be gathered and shown\n",
    "tf.gather(params, indices).numpy()\n"
   ]
  },
  {
   "cell_type": "code",
   "execution_count": 138,
   "id": "a0a34498",
   "metadata": {},
   "outputs": [
    {
     "data": {
      "text/plain": [
       "array([[b'p2', b'p0'],\n",
       "       [b'p2', b'p5']], dtype=object)"
      ]
     },
     "execution_count": 138,
     "metadata": {},
     "output_type": "execute_result"
    }
   ],
   "source": [
    "# The 'indices' can have any shape. When the 'params' has 1 axis, the output shape is equal to the input shape:\n",
    "# Hence we can create new tensors \n",
    "\n",
    "tf.gather(params, [[2, 0], [2, 5]]).numpy()"
   ]
  },
  {
   "cell_type": "code",
   "execution_count": 139,
   "id": "444309bc",
   "metadata": {},
   "outputs": [
    {
     "data": {
      "text/plain": [
       "array([[30., 31., 32.],\n",
       "       [10., 11., 12.]], dtype=float32)"
      ]
     },
     "execution_count": 139,
     "metadata": {},
     "output_type": "execute_result"
    }
   ],
   "source": [
    "# The params may also have any shape. gather can select slices across any axis depending on the axis argument (which defaults to 0). \n",
    "# Gather rows:\n",
    "\n",
    "params = tf.constant([[0, 1.0, 2.0],\n",
    "                      [10.0, 11.0, 12.0],\n",
    "                      [20.0, 21.0, 22.0],\n",
    "                      [30.0, 31.0, 32.0]])\n",
    "tf.gather(params, indices=[3,1]).numpy()  # Gather 4th row, and 2nd row "
   ]
  },
  {
   "cell_type": "code",
   "execution_count": 140,
   "id": "5d6b745c",
   "metadata": {},
   "outputs": [
    {
     "data": {
      "text/plain": [
       "array([[ 2.,  1.],\n",
       "       [12., 11.],\n",
       "       [22., 21.],\n",
       "       [32., 31.]], dtype=float32)"
      ]
     },
     "execution_count": 140,
     "metadata": {},
     "output_type": "execute_result"
    }
   ],
   "source": [
    "# Gather columns\n",
    "tf.gather(params, indices=[2,1], axis=1).numpy()  # Gather 3rd col and 2nd col"
   ]
  },
  {
   "cell_type": "code",
   "execution_count": 141,
   "id": "0cb1728e",
   "metadata": {},
   "outputs": [
    {
     "data": {
      "text/plain": [
       "[1, 3]"
      ]
     },
     "execution_count": 141,
     "metadata": {},
     "output_type": "execute_result"
    }
   ],
   "source": [
    "# More generally: The output shape has same shape as the input,\n",
    "#  with the indexed-axis replaced by the shape of the indices. \n",
    "def result_shape(p_shape, i_shape, axis=0):\n",
    "  return p_shape[:axis] + i_shape + p_shape[axis+1:]\n",
    "\n",
    "result_shape([1, 2, 3], [], axis=1)  # axis = 1, so second is replaced"
   ]
  },
  {
   "cell_type": "code",
   "execution_count": 142,
   "id": "f1d9ec8f",
   "metadata": {},
   "outputs": [
    {
     "data": {
      "text/plain": [
       "[5, 2, 7]"
      ]
     },
     "execution_count": 142,
     "metadata": {},
     "output_type": "execute_result"
    }
   ],
   "source": [
    "result_shape([5, 2, 6], [7], axis=2)  # axis = 2, so third is replaced"
   ]
  },
  {
   "cell_type": "code",
   "execution_count": 143,
   "id": "7e698acb",
   "metadata": {},
   "outputs": [
    {
     "data": {
      "text/plain": [
       "[7, 5, 2, 3]"
      ]
     },
     "execution_count": 143,
     "metadata": {},
     "output_type": "execute_result"
    }
   ],
   "source": [
    "result_shape([9, 2, 3], [7, 5], axis=0)  # axis = 0, so first is replaced"
   ]
  },
  {
   "cell_type": "code",
   "execution_count": 144,
   "id": "a35f7827",
   "metadata": {},
   "outputs": [
    {
     "name": "stdout",
     "output_type": "stream",
     "text": [
      "[4, 3]\n",
      "[2, 3]\n",
      "[4, 2]\n"
     ]
    }
   ],
   "source": [
    "print(params.shape.as_list())                           # output shape 4x3\n",
    "\n",
    "indices_without_more_brackets = tf.constant([0, 2])    \n",
    "print(tf.gather(params, indices=indices_without_more_brackets, axis=0).shape.as_list()) # if axis=0, output shape 1x3, 1x3 = 2x3\n",
    "print(tf.gather(params, indices=indices_without_more_brackets, axis=1).shape.as_list()) # if axis=1, output shape 4x1, 4x1 = 4x2"
   ]
  },
  {
   "cell_type": "code",
   "execution_count": 145,
   "id": "fb7886f7",
   "metadata": {},
   "outputs": [
    {
     "name": "stdout",
     "output_type": "stream",
     "text": [
      "[4, 3]\n",
      "tf.Tensor(\n",
      "[[[ 0.  1.  2.]\n",
      "  [20. 21. 22.]]], shape=(1, 2, 3), dtype=float32)\n",
      "[1, 2, 3]\n"
     ]
    }
   ],
   "source": [
    "print(params.shape.as_list())                                           # output shape 4x3\n",
    "indices_with_more_brackets = tf.constant([[0, 2]])                      # index is an array object \n",
    "\n",
    "print(tf.gather(params, indices=indices_with_more_brackets, axis=0))    # if axis=0, output shape [1x3, 1x3] = 1x2x3\n",
    "print(tf.gather(params, indices=indices_with_more_brackets, axis=0).shape.as_list())"
   ]
  },
  {
   "cell_type": "code",
   "execution_count": 146,
   "id": "8541b08a",
   "metadata": {},
   "outputs": [
    {
     "name": "stdout",
     "output_type": "stream",
     "text": [
      "tf.Tensor(\n",
      "[[ 0.  1.  2.]\n",
      " [10. 11. 12.]\n",
      " [20. 21. 22.]\n",
      " [30. 31. 32.]], shape=(4, 3), dtype=float32)\n",
      "tf.Tensor(\n",
      "[[[ 0.  2.]]\n",
      "\n",
      " [[10. 12.]]\n",
      "\n",
      " [[20. 22.]]\n",
      "\n",
      " [[30. 32.]]], shape=(4, 1, 2), dtype=float32)\n",
      "[4, 3]\n",
      "[1, 2]\n",
      "[4, 1, 2]\n"
     ]
    }
   ],
   "source": [
    "print(params)                                                           # output shape 4x3\n",
    "indices_with_more_brackets = tf.constant([[0, 2]])                      # index is an array object \n",
    "\n",
    "print(tf.gather(params, indices=indices_with_more_brackets, axis=1))    # if axis=1, output shape 4x1, 4x1 but [ ] wrapped per row = 4x1x2\n",
    "\n",
    "print(params.shape.as_list()) \n",
    "print(indices_with_more_brackets.shape.as_list())\n",
    "print(tf.gather(params, indices=indices_with_more_brackets, axis=1).shape.as_list())    # to illustrate the result_shape function above\n"
   ]
  },
  {
   "cell_type": "code",
   "execution_count": 147,
   "metadata": {},
   "outputs": [
    {
     "data": {
      "text/plain": [
       "[5, 6, 10, 11, 8]"
      ]
     },
     "execution_count": 147,
     "metadata": {},
     "output_type": "execute_result"
    }
   ],
   "source": [
    "params = tf.random.normal(shape=(5, 6, 7, 8))\n",
    "indices = tf.random.uniform(shape=(10, 11), maxval=7, dtype=tf.int32)\n",
    "result = tf.gather(params, indices, axis=2)\n",
    "result.shape.as_list()      # to illustrate the result_shape function above\n"
   ]
  },
  {
   "cell_type": "markdown",
   "id": "b9a2a1b2",
   "metadata": {},
   "source": [
    "### Batching:\n",
    "The batch_dims argument lets you gather different items from each element of a batch."
   ]
  },
  {
   "cell_type": "code",
   "execution_count": 148,
   "id": "e46211c0",
   "metadata": {},
   "outputs": [
    {
     "data": {
      "text/plain": [
       "array([[1, 2],\n",
       "       [3, 4],\n",
       "       [5, 6]])"
      ]
     },
     "execution_count": 148,
     "metadata": {},
     "output_type": "execute_result"
    }
   ],
   "source": [
    "# Using batch_dims=1 is equivalent to having an outer loop over the first axis of params and indices:\n",
    "params = tf.constant([\n",
    "    [0, 0, 1, 0, 2],\n",
    "    [3, 0, 0, 0, 4],\n",
    "    [0, 5, 0, 6, 0]])\n",
    "indices = tf.constant([\n",
    "    [2, 4],\n",
    "    [0, 4],\n",
    "    [1, 3]])\n",
    "tf.gather(params, indices, axis=1, batch_dims=1).numpy()"
   ]
  },
  {
   "cell_type": "markdown",
   "id": "67916500",
   "metadata": {},
   "source": [
    "Gather_nd"
   ]
  },
  {
   "cell_type": "markdown",
   "id": "d0b13ed2",
   "metadata": {},
   "source": [
    "tf.gather_nd(\n",
    "    indices=[[0, 0],\n",
    "             [1, 1]],\n",
    "    params = [['a', 'b'],\n",
    "              ['c', 'd']]).numpy()\n"
   ]
  },
  {
   "cell_type": "code",
   "execution_count": 149,
   "id": "4af8e69c",
   "metadata": {},
   "outputs": [
    {
     "data": {
      "text/plain": [
       "array([b'a', b'd'], dtype=object)"
      ]
     },
     "execution_count": 149,
     "metadata": {},
     "output_type": "execute_result"
    }
   ],
   "source": [
    "tf.gather_nd(\n",
    "    indices=[[0, 0],\n",
    "             [1, 1]],\n",
    "    params = [['a', 'b'],\n",
    "              ['c', 'd']]).numpy()\n"
   ]
  },
  {
   "cell_type": "code",
   "execution_count": 150,
   "id": "ffe8c3a4",
   "metadata": {},
   "outputs": [
    {
     "data": {
      "text/plain": [
       "array([[[b'a', b'b'],\n",
       "        [b'a', b'b']],\n",
       "\n",
       "       [[b'c', b'd'],\n",
       "        [b'c', b'd']]], dtype=object)"
      ]
     },
     "execution_count": 150,
     "metadata": {},
     "output_type": "execute_result"
    }
   ],
   "source": [
    "tf.gather(\n",
    "    indices=[[0, 0],\n",
    "             [1, 1]],\n",
    "    params = [['a', 'b'],\n",
    "              ['c', 'd']]).numpy()"
   ]
  },
  {
   "cell_type": "code",
   "execution_count": 151,
   "id": "ef8708fe",
   "metadata": {},
   "outputs": [
    {
     "data": {
      "text/plain": [
       "array([[b'd', b'e', b'f'],\n",
       "       [b'a', b'b', b'c']], dtype=object)"
      ]
     },
     "execution_count": 151,
     "metadata": {},
     "output_type": "execute_result"
    }
   ],
   "source": [
    "tf.gather_nd(\n",
    "    indices = [[1],\n",
    "               [0]],\n",
    "    params = [['a', 'b', 'c'],\n",
    "              ['d', 'e', 'f']]).numpy()\n",
    "\n",
    "\n"
   ]
  },
  {
   "cell_type": "code",
   "execution_count": 152,
   "id": "ef466ccd",
   "metadata": {},
   "outputs": [
    {
     "data": {
      "text/plain": [
       "[5, 3]"
      ]
     },
     "execution_count": 152,
     "metadata": {},
     "output_type": "execute_result"
    }
   ],
   "source": [
    "tf.gather_nd(\n",
    "    indices = [[0, 1],\n",
    "               [1, 0],\n",
    "               [2, 4],\n",
    "               [3, 2],\n",
    "               [4, 1]],\n",
    "    params=tf.zeros([5, 7, 3])).shape.as_list()\n"
   ]
  },
  {
   "cell_type": "code",
   "execution_count": 153,
   "id": "e7cffa1c",
   "metadata": {},
   "outputs": [
    {
     "data": {
      "text/plain": [
       "[5, 3]"
      ]
     },
     "execution_count": 153,
     "metadata": {},
     "output_type": "execute_result"
    }
   ],
   "source": [
    "# The batch_dims=1 argument lets you omit those leading location dimensions from the index:\n",
    "tf.gather_nd(\n",
    "    batch_dims=1,\n",
    "    indices = [[1],\n",
    "               [0],\n",
    "               [4],\n",
    "               [2],\n",
    "               [1]],\n",
    "    params=tf.zeros([5, 7, 3])).shape.as_list()\n"
   ]
  },
  {
   "cell_type": "markdown",
   "id": "6623f591",
   "metadata": {},
   "source": [
    "# Ragged Tensors\n",
    "For putting nonrectangular data in tensors"
   ]
  },
  {
   "cell_type": "code",
   "execution_count": 154,
   "id": "4b5d03c5",
   "metadata": {},
   "outputs": [
    {
     "name": "stdout",
     "output_type": "stream",
     "text": [
      "tf.Tensor(\n",
      "[[ 1  2  0]\n",
      " [ 3  5 -1]\n",
      " [ 1  5  6]\n",
      " [ 2  3  8]], shape=(4, 3), dtype=int32)\n",
      "(4, 3)\n"
     ]
    }
   ],
   "source": [
    "print(tensor_two_d)\n",
    "print(tensor_two_d.shape)\n"
   ]
  },
  {
   "cell_type": "code",
   "execution_count": 155,
   "id": "31967ba2",
   "metadata": {},
   "outputs": [],
   "source": [
    "tensor_ragged = tf.ragged.constant(\n",
    "    [[ 1,  2,  0],\n",
    "     [ 3, ],\n",
    "     [ 1,  5,  6],\n",
    "     [ 2,  3,  ]])"
   ]
  },
  {
   "cell_type": "code",
   "execution_count": 156,
   "id": "9c259c76",
   "metadata": {},
   "outputs": [
    {
     "data": {
      "text/plain": [
       "TensorShape([4, None])"
      ]
     },
     "execution_count": 156,
     "metadata": {},
     "output_type": "execute_result"
    }
   ],
   "source": [
    "tensor_ragged.shape # only rows shown as colums are incomplete"
   ]
  },
  {
   "cell_type": "code",
   "execution_count": 157,
   "id": "d892674c",
   "metadata": {},
   "outputs": [],
   "source": [
    "# Aliases for True & False so data and mask line up.\n",
    "T, F = (True, False)"
   ]
  },
  {
   "cell_type": "code",
   "execution_count": 158,
   "id": "3ecca8ac",
   "metadata": {},
   "outputs": [
    {
     "data": {
      "text/plain": [
       "[[1, 3], [], [7]]"
      ]
     },
     "execution_count": 158,
     "metadata": {},
     "output_type": "execute_result"
    }
   ],
   "source": [
    "# Boolean mask converts full tensor to ragged tensor, based on a true false mask T, F = (True, False)\n",
    "\n",
    "tf.ragged.boolean_mask(  # Mask a 2D Tensor.\n",
    "    data=[[1, 2, 3], [4, 5, 6], [7, 8, 9]],\n",
    "    mask=[[T, F, T], [F, F, F], [T, F, F]]).to_list()\n"
   ]
  },
  {
   "cell_type": "code",
   "execution_count": 159,
   "id": "60bf2d5e",
   "metadata": {},
   "outputs": [
    {
     "data": {
      "text/plain": [
       "[[3], [], [5, 6]]"
      ]
     },
     "execution_count": 159,
     "metadata": {},
     "output_type": "execute_result"
    }
   ],
   "source": [
    "tf.ragged.boolean_mask(  # Mask a 2D RaggedTensor.\n",
    "    tf.ragged.constant([[1, 2, 3], [4], [5, 6]]),\n",
    "    tf.ragged.constant([[F, F, T], [F], [T, T]])).to_list()\n"
   ]
  },
  {
   "cell_type": "code",
   "execution_count": 160,
   "id": "ca1ff16b",
   "metadata": {},
   "outputs": [
    {
     "data": {
      "text/plain": [
       "[[1, 2, 3], [5, 6]]"
      ]
     },
     "execution_count": 160,
     "metadata": {},
     "output_type": "execute_result"
    }
   ],
   "source": [
    "tf.ragged.boolean_mask(  # Mask rows of a 2D RaggedTensor.\n",
    "    tf.ragged.constant([[1, 2, 3], [4], [5, 6]]),\n",
    "    tf.ragged.constant([True, False, True])).to_list()\n"
   ]
  },
  {
   "cell_type": "code",
   "execution_count": 161,
   "id": "1ddf06c1",
   "metadata": {},
   "outputs": [
    {
     "name": "stdout",
     "output_type": "stream",
     "text": [
      "<tf.RaggedTensor [[3, 1, 4, 1], [], [5, 9, 2], [6], []]>\n"
     ]
    }
   ],
   "source": [
    "print(tf.RaggedTensor.from_row_lengths(\n",
    "    values=[3, 1, 4, 1, 5, 9, 2, 6],\n",
    "    row_lengths=[4, 0, 3, 1, 0]))\n"
   ]
  },
  {
   "cell_type": "code",
   "execution_count": 162,
   "id": "b4613c5a",
   "metadata": {},
   "outputs": [
    {
     "name": "stdout",
     "output_type": "stream",
     "text": [
      "<tf.RaggedTensor [[3, 1, 4, 1], [], [5, 9, 2], [6], []]>\n"
     ]
    }
   ],
   "source": [
    "print(tf.RaggedTensor.from_row_limits(\n",
    "    values=[3, 1, 4, 1, 5, 9, 2, 6],\n",
    "    row_limits=[4, 4, 7, 8, 8]))  # from 0 position to 4th = 4 element, from current to 4th = nothing, from current to 7th = 3 elements and so on \n"
   ]
  },
  {
   "cell_type": "code",
   "execution_count": 163,
   "id": "c7b453fd",
   "metadata": {},
   "outputs": [
    {
     "data": {
      "text/plain": [
       "<tf.RaggedTensor [[5], [], [6, 0, 0]]>"
      ]
     },
     "execution_count": 163,
     "metadata": {},
     "output_type": "execute_result"
    }
   ],
   "source": [
    "# Convert tensors Directly to Ragged tensors \n",
    "dt = tf.constant([[5, 7, 0], [0, 3, 0], [6, 0, 0]])\n",
    "tf.RaggedTensor.from_tensor(dt)\n",
    "\n",
    "tf.RaggedTensor.from_tensor(dt, lengths=[1, 0, 3])\n",
    "\n"
   ]
  },
  {
   "cell_type": "markdown",
   "id": "dd5f4098",
   "metadata": {},
   "source": [
    "Sparse Tensors"
   ]
  },
  {
   "cell_type": "code",
   "execution_count": 164,
   "id": "94d31cff",
   "metadata": {},
   "outputs": [
    {
     "name": "stdout",
     "output_type": "stream",
     "text": [
      "SparseTensor(indices=tf.Tensor(\n",
      "[[1 1]\n",
      " [3 4]], shape=(2, 2), dtype=int64), values=tf.Tensor([11 56], shape=(2,), dtype=int32), dense_shape=tf.Tensor([5 6], shape=(2,), dtype=int64))\n"
     ]
    }
   ],
   "source": [
    "tensor_sparse = tf.sparse.SparseTensor(\n",
    "    indices = [[1,1],[3,4]], values = [11,56], dense_shape = [5,6]\n",
    ")\n",
    "# indices defines indices, values defines values, dense_shape defines shape of dense matrix\n",
    "print(tensor_sparse)"
   ]
  },
  {
   "cell_type": "code",
   "execution_count": 165,
   "id": "18769595",
   "metadata": {},
   "outputs": [
    {
     "data": {
      "text/plain": [
       "<tf.Tensor: shape=(5, 6), dtype=int32, numpy=\n",
       "array([[ 0,  0,  0,  0,  0,  0],\n",
       "       [ 0, 11,  0,  0,  0,  0],\n",
       "       [ 0,  0,  0,  0,  0,  0],\n",
       "       [ 0,  0,  0,  0, 56,  0],\n",
       "       [ 0,  0,  0,  0,  0,  0]])>"
      ]
     },
     "execution_count": 165,
     "metadata": {},
     "output_type": "execute_result"
    }
   ],
   "source": [
    "tf.sparse.to_dense(tensor_sparse)"
   ]
  },
  {
   "cell_type": "markdown",
   "id": "2b01fac1",
   "metadata": {},
   "source": [
    "# String Tensors"
   ]
  },
  {
   "cell_type": "code",
   "execution_count": 166,
   "id": "a4752dac",
   "metadata": {},
   "outputs": [
    {
     "name": "stdout",
     "output_type": "stream",
     "text": [
      "tf.Tensor([b'hello' b'I' b'am' b'a' b'string'], shape=(5,), dtype=string)\n"
     ]
    }
   ],
   "source": [
    "tensor_string = tf.constant(['hello', 'I', 'am', 'a', 'string'])\n",
    "print(tensor_string)"
   ]
  },
  {
   "cell_type": "code",
   "execution_count": 167,
   "id": "58007084",
   "metadata": {},
   "outputs": [
    {
     "data": {
      "text/plain": [
       "<tf.Tensor: shape=(), dtype=string, numpy=b'helloIamastring'>"
      ]
     },
     "execution_count": 167,
     "metadata": {},
     "output_type": "execute_result"
    }
   ],
   "source": [
    "# tf.strings.join Perform element-wise concatenation of a list of string tensors.\n",
    "tf.strings.join(tensor_string, separator='') # default value of separator= is ,\n"
   ]
  },
  {
   "cell_type": "code",
   "execution_count": 168,
   "id": "94002a9c",
   "metadata": {},
   "outputs": [
    {
     "data": {
      "text/plain": [
       "<tf.Tensor: shape=(), dtype=string, numpy=b'hello I am a string'>"
      ]
     },
     "execution_count": 168,
     "metadata": {},
     "output_type": "execute_result"
    }
   ],
   "source": [
    "tf.strings.join(tensor_string, separator=' ')"
   ]
  },
  {
   "cell_type": "code",
   "execution_count": 169,
   "id": "b7911df4",
   "metadata": {},
   "outputs": [
    {
     "data": {
      "text/plain": [
       "<tf.Tensor: shape=(), dtype=string, numpy=b'hello+I+am+a+string'>"
      ]
     },
     "execution_count": 169,
     "metadata": {},
     "output_type": "execute_result"
    }
   ],
   "source": [
    "tf.strings.join(tensor_string, separator='+')"
   ]
  },
  {
   "cell_type": "code",
   "execution_count": 170,
   "id": "6cc69c07",
   "metadata": {},
   "outputs": [
    {
     "name": "stdout",
     "output_type": "stream",
     "text": [
      "[ 5 10  4]\n",
      "[ 5 10  1]\n"
     ]
    }
   ],
   "source": [
    "# tf.strings.length : String lengths of input.\n",
    "strings = tf.constant(['Hello','TensorFlow', '\\U0001F642'])\n",
    "print(tf.strings.length(strings).numpy()) # default counts bytes\n",
    "print(tf.strings.length(strings, unit=\"UTF8_CHAR\").numpy()) # now counts chars\n"
   ]
  },
  {
   "cell_type": "code",
   "execution_count": 171,
   "id": "72b79083",
   "metadata": {},
   "outputs": [
    {
     "data": {
      "text/plain": [
       "<tf.Tensor: shape=(), dtype=string, numpy=b'camelcase string and all caps'>"
      ]
     },
     "execution_count": 171,
     "metadata": {},
     "output_type": "execute_result"
    }
   ],
   "source": [
    "# tf.strings.lower : Converts all uppercase characters into their respective lowercase replacements.\n",
    "tf.strings.lower(\"CamelCase string and ALL CAPS\")\n"
   ]
  },
  {
   "cell_type": "code",
   "execution_count": 172,
   "id": "dbb2b828",
   "metadata": {},
   "outputs": [
    {
     "data": {
      "text/plain": [
       "array([b'A B', b'B C', b'C D'], dtype=object)"
      ]
     },
     "execution_count": 172,
     "metadata": {},
     "output_type": "execute_result"
    }
   ],
   "source": [
    "# tf.strings.ngrams : Create a tensor of n-grams based on data\n",
    "tf.strings.ngrams([\"A\", \"B\", \"C\", \"D\"], 2).numpy()"
   ]
  },
  {
   "cell_type": "code",
   "execution_count": 173,
   "id": "61ea2804",
   "metadata": {},
   "outputs": [
    {
     "data": {
      "text/plain": [
       "array([b'TF', b'and', b'keras'], dtype=object)"
      ]
     },
     "execution_count": 173,
     "metadata": {},
     "output_type": "execute_result"
    }
   ],
   "source": [
    "tf.strings.ngrams([\"TF\", \"and\", \"keras\"], 1).numpy()"
   ]
  },
  {
   "cell_type": "markdown",
   "id": "6894d75c",
   "metadata": {},
   "source": [
    "# tf.Variable"
   ]
  },
  {
   "cell_type": "code",
   "execution_count": 174,
   "id": "adda0636",
   "metadata": {},
   "outputs": [
    {
     "name": "stdout",
     "output_type": "stream",
     "text": [
      "<tf.Variable 'var1:0' shape=(2,) dtype=int32, numpy=array([1, 2])>\n"
     ]
    }
   ],
   "source": [
    "x = tf.Variable([1,2])\n",
    "\n",
    "variable = tf.Variable(x, name = 'var1')\n",
    "print(variable)"
   ]
  },
  {
   "cell_type": "code",
   "execution_count": 175,
   "id": "cf16416c",
   "metadata": {},
   "outputs": [
    {
     "data": {
      "text/plain": [
       "<tf.Variable 'UnreadVariable' shape=(2,) dtype=int32, numpy=array([-2, -2])>"
      ]
     },
     "execution_count": 175,
     "metadata": {},
     "output_type": "execute_result"
    }
   ],
   "source": [
    "variable.assign_sub([3,4])"
   ]
  },
  {
   "cell_type": "code",
   "execution_count": 176,
   "id": "f188cc3a",
   "metadata": {},
   "outputs": [
    {
     "data": {
      "text/plain": [
       "<tf.Variable 'UnreadVariable' shape=(2,) dtype=int32, numpy=array([0, 0])>"
      ]
     },
     "execution_count": 176,
     "metadata": {},
     "output_type": "execute_result"
    }
   ],
   "source": [
    "variable.assign_add([2,2])\n"
   ]
  },
  {
   "cell_type": "markdown",
   "id": "6adfa3cd",
   "metadata": {},
   "source": [
    "We can specify if we want our tf.Variable on the CPU or the TPU or the GPU"
   ]
  },
  {
   "cell_type": "code",
   "execution_count": 177,
   "id": "9f80f9f8",
   "metadata": {},
   "outputs": [
    {
     "name": "stdout",
     "output_type": "stream",
     "text": [
      "/job:localhost/replica:0/task:0/device:CPU:0\n"
     ]
    }
   ],
   "source": [
    "with tf.device('CPU:0'):\n",
    "    var2 = tf.Variable(0.2)\n",
    "print(var2.device)"
   ]
  },
  {
   "cell_type": "code",
   "execution_count": 178,
   "id": "23676d52",
   "metadata": {},
   "outputs": [
    {
     "name": "stdout",
     "output_type": "stream",
     "text": [
      "/job:localhost/replica:0/task:0/device:GPU:0\n"
     ]
    }
   ],
   "source": [
    "with tf.device('GPU:0'):\n",
    "    var2 = tf.Variable(0.2)\n",
    "print(var2.device)"
   ]
  },
  {
   "cell_type": "code",
   "execution_count": 179,
   "id": "5827502e",
   "metadata": {},
   "outputs": [
    {
     "name": "stdout",
     "output_type": "stream",
     "text": [
      "/job:localhost/replica:0/task:0/device:GPU:0\n"
     ]
    }
   ],
   "source": [
    "with tf.device('TPU:0'):    # will default to GPU if no TPU exists\n",
    "    var2 = tf.Variable(0.2)\n",
    "print(var2.device)"
   ]
  },
  {
   "cell_type": "code",
   "execution_count": 180,
   "id": "a26b1031",
   "metadata": {},
   "outputs": [
    {
     "name": "stdout",
     "output_type": "stream",
     "text": [
      "tf.Tensor([1 2 3 4], shape=(4,), dtype=int32) /job:localhost/replica:0/task:0/device:CPU:0\n",
      "tf.Tensor([1], shape=(1,), dtype=int32) /job:localhost/replica:0/task:0/device:CPU:0\n",
      "tf.Tensor([2 3 4 5], shape=(4,), dtype=int32) /job:localhost/replica:0/task:0/device:GPU:0\n"
     ]
    }
   ],
   "source": [
    "# having variables in CPU and computation in GPU\n",
    "with tf.device('CPU:0'):\n",
    "    x_1 = tf.constant([1,2,3,4])\n",
    "    x_2 = tf.constant([1])\n",
    "\n",
    "with tf.device('TPU:0'):    # will default to GPU if no TPU exists\n",
    "    x_3 = x_1 + x_2\n",
    "print(x_1, x_1.device)  # x_1 and x_2 are on CPU, but x_3 is on GPU\n",
    "print(x_2, x_2.device)\n",
    "print(x_3, x_3.device)"
   ]
  }
 ],
 "metadata": {
  "kernelspec": {
   "display_name": "Python 3 (ipykernel)",
   "language": "python",
   "name": "python3"
  },
  "language_info": {
   "codemirror_mode": {
    "name": "ipython",
    "version": 3
   },
   "file_extension": ".py",
   "mimetype": "text/x-python",
   "name": "python",
   "nbconvert_exporter": "python",
   "pygments_lexer": "ipython3",
   "version": "3.8.17"
  }
 },
 "nbformat": 4,
 "nbformat_minor": 5
}
