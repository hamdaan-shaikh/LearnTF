{
 "cells": [
  {
   "cell_type": "markdown",
   "id": "0d010ccd",
   "metadata": {},
   "source": [
    "# Initialization and Casting\n"
   ]
  },
  {
   "cell_type": "code",
   "execution_count": 1,
   "id": "d9fd8ba8-0445-4bc0-9644-ab6804fbe7e5",
   "metadata": {},
   "outputs": [],
   "source": [
    "import tensorflow as tf"
   ]
  },
  {
   "cell_type": "code",
   "execution_count": 2,
   "id": "ad223d97-2777-405f-849f-fdf3c708aa95",
   "metadata": {
    "tags": []
   },
   "outputs": [
    {
     "name": "stdout",
     "output_type": "stream",
     "text": [
      "tf.Tensor(4, shape=(), dtype=int32)\n"
     ]
    }
   ],
   "source": [
    "tensor_zero_d = tf.constant(4)\n",
    "print(tensor_zero_d)"
   ]
  },
  {
   "cell_type": "code",
   "execution_count": 3,
   "id": "94c6c512-ca4b-4a72-ab7d-f9df712c21ac",
   "metadata": {},
   "outputs": [
    {
     "name": "stdout",
     "output_type": "stream",
     "text": [
      "tf.Tensor([ 2  0 -3], shape=(3,), dtype=int32)\n"
     ]
    }
   ],
   "source": [
    "tensor_one_d = tf.constant([2, 0, -3])\n",
    "print(tensor_one_d)"
   ]
  },
  {
   "cell_type": "code",
   "execution_count": 4,
   "id": "97b4da70",
   "metadata": {},
   "outputs": [
    {
     "name": "stdout",
     "output_type": "stream",
     "text": [
      "tf.Tensor(\n",
      "[[ 1  2  0]\n",
      " [ 3  5 -1]\n",
      " [ 1  5  6]\n",
      " [ 2  3  8]], shape=(4, 3), dtype=int32)\n"
     ]
    }
   ],
   "source": [
    "tensor_two_d = tf.constant(\n",
    "    [\n",
    "        [1, 2, 0],\n",
    "        [3, 5, -1],\n",
    "        [1, 5, 6],\n",
    "        [2, 3, 8],\n",
    "    ]\n",
    ")\n",
    "print(tensor_two_d)"
   ]
  },
  {
   "cell_type": "code",
   "execution_count": 5,
   "id": "1d4a0417",
   "metadata": {},
   "outputs": [
    {
     "name": "stdout",
     "output_type": "stream",
     "text": [
      "tf.Tensor(\n",
      "[[[ 1  2  0]\n",
      "  [ 3  5 -1]]\n",
      "\n",
      " [[10  2  0]\n",
      "  [ 1  0  2]]\n",
      "\n",
      " [[ 5  8  0]\n",
      "  [ 2  7  0]]\n",
      "\n",
      " [[ 2  1  9]\n",
      "  [ 4 -3 32]]], shape=(4, 2, 3), dtype=int32)\n"
     ]
    }
   ],
   "source": [
    "tensor_three_d = tf.constant(\n",
    "    [\n",
    "        [[1, 2, 0], [3, 5, -1]],\n",
    "        [[10, 2, 0], [1, 0, 2]],\n",
    "        [[5, 8, 0], [2, 7, 0]],\n",
    "        [[2, 1, 9], [4, -3, 32]],\n",
    "    ]\n",
    ")\n",
    "print(tensor_three_d)"
   ]
  },
  {
   "cell_type": "code",
   "execution_count": 6,
   "id": "1123401c",
   "metadata": {},
   "outputs": [
    {
     "name": "stdout",
     "output_type": "stream",
     "text": [
      "(4, 2, 3)\n"
     ]
    }
   ],
   "source": [
    "print(tensor_three_d.shape)"
   ]
  },
  {
   "cell_type": "code",
   "execution_count": 7,
   "id": "4598556b",
   "metadata": {},
   "outputs": [
    {
     "name": "stdout",
     "output_type": "stream",
     "text": [
      "3\n"
     ]
    }
   ],
   "source": [
    "print(tensor_three_d.ndim)"
   ]
  },
  {
   "cell_type": "code",
   "execution_count": 8,
   "id": "5be09199",
   "metadata": {},
   "outputs": [
    {
     "name": "stdout",
     "output_type": "stream",
     "text": [
      "tf.Tensor(\n",
      "[[[[ 1  2  0]\n",
      "   [ 3  5 -1]]\n",
      "\n",
      "  [[10  2  0]\n",
      "   [ 1  0  2]]\n",
      "\n",
      "  [[ 5  8  0]\n",
      "   [ 2  7  0]]\n",
      "\n",
      "  [[ 2  1  9]\n",
      "   [ 4 -3 32]]]\n",
      "\n",
      "\n",
      " [[[ 1  2  0]\n",
      "   [ 3  5 -1]]\n",
      "\n",
      "  [[10  2  0]\n",
      "   [ 1  0  2]]\n",
      "\n",
      "  [[ 5  8  0]\n",
      "   [ 2  7  0]]\n",
      "\n",
      "  [[ 2  1  9]\n",
      "   [ 4 -3 32]]]\n",
      "\n",
      "\n",
      " [[[ 1  2  0]\n",
      "   [ 3  5 -1]]\n",
      "\n",
      "  [[10  2  0]\n",
      "   [ 1  0  2]]\n",
      "\n",
      "  [[ 5  8  0]\n",
      "   [ 2  7  0]]\n",
      "\n",
      "  [[ 2  1  9]\n",
      "   [ 4 -3 32]]]], shape=(3, 4, 2, 3), dtype=int32)\n"
     ]
    }
   ],
   "source": [
    "tensor_four_d = tf.constant(\n",
    "    [\n",
    "        [\n",
    "            [[1, 2, 0], [3, 5, -1]],\n",
    "            [[10, 2, 0], [1, 0, 2]],\n",
    "            [[5, 8, 0], [2, 7, 0]],\n",
    "            [[2, 1, 9], [4, -3, 32]],\n",
    "        ],\n",
    "        [\n",
    "            [[1, 2, 0], [3, 5, -1]],\n",
    "            [[10, 2, 0], [1, 0, 2]],\n",
    "            [[5, 8, 0], [2, 7, 0]],\n",
    "            [[2, 1, 9], [4, -3, 32]],\n",
    "        ],\n",
    "        [\n",
    "            [[1, 2, 0], [3, 5, -1]],\n",
    "            [[10, 2, 0], [1, 0, 2]],\n",
    "            [[5, 8, 0], [2, 7, 0]],\n",
    "            [[2, 1, 9], [4, -3, 32]],\n",
    "        ],\n",
    "    ]\n",
    ")\n",
    "print(tensor_four_d)"
   ]
  },
  {
   "cell_type": "code",
   "execution_count": 9,
   "id": "3296f13f",
   "metadata": {},
   "outputs": [
    {
     "name": "stdout",
     "output_type": "stream",
     "text": [
      "tf.Tensor([ 2.  0. -3.], shape=(3,), dtype=float32)\n"
     ]
    }
   ],
   "source": [
    "# dtype\n",
    "tensor_one_d = tf.constant([2, 0, -3], dtype=tf.float32)\n",
    "print(tensor_one_d)"
   ]
  },
  {
   "cell_type": "code",
   "execution_count": 10,
   "id": "44c6a1f6",
   "metadata": {},
   "outputs": [
    {
     "name": "stdout",
     "output_type": "stream",
     "text": [
      "tf.Tensor([ 2.  0. -3.], shape=(3,), dtype=float32)\n",
      "tf.Tensor([ 2  0 -3], shape=(3,), dtype=int64)\n"
     ]
    }
   ],
   "source": [
    "# tf.cast(x, dtype=)\n",
    "casted_tensor_one_d = tf.cast(tensor_one_d, dtype=tf.int64)\n",
    "print(tensor_one_d)\n",
    "print(casted_tensor_one_d)"
   ]
  },
  {
   "cell_type": "code",
   "execution_count": 11,
   "id": "f82ac1f8",
   "metadata": {},
   "outputs": [
    {
     "name": "stdout",
     "output_type": "stream",
     "text": [
      "tf.Tensor([ 2.  0. -3.], shape=(3,), dtype=float32)\n",
      "tf.Tensor([ True False  True], shape=(3,), dtype=bool)\n"
     ]
    }
   ],
   "source": [
    "# tf.cast(x, dtype=tf.bool)\n",
    "# All positives and negatives become True. 0 becomes False\n",
    "casted_tensor_one_d = tf.cast(tensor_one_d, dtype=tf.bool)\n",
    "print(tensor_one_d)\n",
    "print(casted_tensor_one_d)"
   ]
  },
  {
   "cell_type": "code",
   "execution_count": 12,
   "id": "8a64cf90",
   "metadata": {},
   "outputs": [],
   "source": [
    "import numpy as np"
   ]
  },
  {
   "cell_type": "code",
   "execution_count": 13,
   "id": "8de24a6d",
   "metadata": {},
   "outputs": [
    {
     "name": "stdout",
     "output_type": "stream",
     "text": [
      "[1 2 4]\n"
     ]
    }
   ],
   "source": [
    "np_array = np.array([1, 2, 4])\n",
    "print(np_array)"
   ]
  },
  {
   "cell_type": "code",
   "execution_count": 14,
   "id": "bb516e40",
   "metadata": {},
   "outputs": [],
   "source": [
    "# tf.convert_to_tensor(np_array)\n",
    "# convert numpy array to tensor\n",
    "converted_tensor = tf.convert_to_tensor(np_array)"
   ]
  },
  {
   "cell_type": "code",
   "execution_count": 15,
   "id": "923a00aa",
   "metadata": {},
   "outputs": [
    {
     "name": "stdout",
     "output_type": "stream",
     "text": [
      "tf.Tensor(\n",
      "[[1. 0. 0.]\n",
      " [0. 1. 0.]\n",
      " [0. 0. 1.]], shape=(3, 3), dtype=float32)\n"
     ]
    }
   ],
   "source": [
    "# tf.eye()\n",
    "# construct identity matrix\n",
    "eye_tensor = tf.eye(\n",
    "    num_rows=3, num_columns=None, batch_shape=None, dtype=tf.dtypes.float32, name=None\n",
    ")\n",
    "print(eye_tensor)"
   ]
  },
  {
   "cell_type": "code",
   "execution_count": 16,
   "id": "3dfbf98f",
   "metadata": {},
   "outputs": [
    {
     "name": "stdout",
     "output_type": "stream",
     "text": [
      "tf.Tensor(\n",
      "[[4. 0. 0.]\n",
      " [0. 4. 0.]\n",
      " [0. 0. 4.]], shape=(3, 3), dtype=float32)\n"
     ]
    }
   ],
   "source": [
    "print(4 * eye_tensor)"
   ]
  },
  {
   "cell_type": "code",
   "execution_count": 17,
   "id": "825c8107",
   "metadata": {},
   "outputs": [
    {
     "name": "stdout",
     "output_type": "stream",
     "text": [
      "tf.Tensor(\n",
      "[[ True False False]\n",
      " [False  True False]\n",
      " [False False  True]\n",
      " [False False False]\n",
      " [False False False]], shape=(5, 3), dtype=bool)\n"
     ]
    }
   ],
   "source": [
    "# Identity matrix is truncated based on rows and columns\n",
    "eye_tensor = tf.eye(\n",
    "    num_rows=5, num_columns=3, batch_shape=None, dtype=tf.dtypes.bool, name=None\n",
    ")\n",
    "print(eye_tensor)"
   ]
  },
  {
   "cell_type": "code",
   "execution_count": 18,
   "id": "f14283cf",
   "metadata": {},
   "outputs": [
    {
     "name": "stdout",
     "output_type": "stream",
     "text": [
      "tf.Tensor(\n",
      "[[[1 0 0 0 0 0]\n",
      "  [0 1 0 0 0 0]\n",
      "  [0 0 1 0 0 0]\n",
      "  [0 0 0 1 0 0]]\n",
      "\n",
      " [[1 0 0 0 0 0]\n",
      "  [0 1 0 0 0 0]\n",
      "  [0 0 1 0 0 0]\n",
      "  [0 0 0 1 0 0]]], shape=(2, 4, 6), dtype=int32)\n"
     ]
    }
   ],
   "source": [
    "# Identity matrix in 1D batch shape is multiples of matrix\n",
    "eye_tensor = tf.eye(\n",
    "    num_rows=4,\n",
    "    num_columns=6,\n",
    "    batch_shape=[\n",
    "        2,\n",
    "    ],\n",
    "    dtype=tf.dtypes.int32,\n",
    "    name=None,\n",
    ")\n",
    "print(eye_tensor)"
   ]
  },
  {
   "cell_type": "code",
   "execution_count": 19,
   "id": "b552485a",
   "metadata": {},
   "outputs": [
    {
     "name": "stdout",
     "output_type": "stream",
     "text": [
      "tf.Tensor(\n",
      "[[[[1 0 0 0 0 0]\n",
      "   [0 1 0 0 0 0]\n",
      "   [0 0 1 0 0 0]\n",
      "   [0 0 0 1 0 0]]\n",
      "\n",
      "  [[1 0 0 0 0 0]\n",
      "   [0 1 0 0 0 0]\n",
      "   [0 0 1 0 0 0]\n",
      "   [0 0 0 1 0 0]]\n",
      "\n",
      "  [[1 0 0 0 0 0]\n",
      "   [0 1 0 0 0 0]\n",
      "   [0 0 1 0 0 0]\n",
      "   [0 0 0 1 0 0]]]\n",
      "\n",
      "\n",
      " [[[1 0 0 0 0 0]\n",
      "   [0 1 0 0 0 0]\n",
      "   [0 0 1 0 0 0]\n",
      "   [0 0 0 1 0 0]]\n",
      "\n",
      "  [[1 0 0 0 0 0]\n",
      "   [0 1 0 0 0 0]\n",
      "   [0 0 1 0 0 0]\n",
      "   [0 0 0 1 0 0]]\n",
      "\n",
      "  [[1 0 0 0 0 0]\n",
      "   [0 1 0 0 0 0]\n",
      "   [0 0 1 0 0 0]\n",
      "   [0 0 0 1 0 0]]]], shape=(2, 3, 4, 6), dtype=int32)\n"
     ]
    }
   ],
   "source": [
    "# Identity matrix in nD batch shape of arbitrary dimension\n",
    "eye_tensor = tf.eye(\n",
    "    num_rows=4, num_columns=6, batch_shape=[2, 3], dtype=tf.dtypes.int32, name=None\n",
    ")\n",
    "print(eye_tensor)"
   ]
  },
  {
   "cell_type": "code",
   "execution_count": 20,
   "id": "b4a63182",
   "metadata": {},
   "outputs": [
    {
     "name": "stdout",
     "output_type": "stream",
     "text": [
      "tf.Tensor(\n",
      "[[5 5 5 5]\n",
      " [5 5 5 5]\n",
      " [5 5 5 5]], shape=(3, 4), dtype=int32)\n"
     ]
    }
   ],
   "source": [
    "# To get a matrix which is filled with an number\n",
    "fill_tensor = tf.fill([3, 4], 5, name=None)\n",
    "print(fill_tensor)"
   ]
  },
  {
   "cell_type": "code",
   "execution_count": 21,
   "id": "cb191da0",
   "metadata": {},
   "outputs": [
    {
     "name": "stdout",
     "output_type": "stream",
     "text": [
      "tf.Tensor(\n",
      "[[1. 1. 1.]\n",
      " [1. 1. 1.]\n",
      " [1. 1. 1.]\n",
      " [1. 1. 1.]\n",
      " [1. 1. 1.]], shape=(5, 3), dtype=float32)\n"
     ]
    }
   ],
   "source": [
    "# To get a matrix which is filled with an 1s\n",
    "ones_tensor = tf.ones([5, 3], dtype=tf.dtypes.float32, name=None)\n",
    "print(ones_tensor)"
   ]
  },
  {
   "cell_type": "code",
   "execution_count": 22,
   "id": "e7e2741c",
   "metadata": {},
   "outputs": [
    {
     "name": "stdout",
     "output_type": "stream",
     "text": [
      "tf.Tensor(\n",
      "[[1 1 1 1]\n",
      " [1 1 1 1]\n",
      " [1 1 1 1]], shape=(3, 4), dtype=int32)\n"
     ]
    }
   ],
   "source": [
    "# Pass a tensor, get a tensor of ones of similar shape\n",
    "ones_like_tensor = tf.ones_like(fill_tensor, dtype=None, name=None)\n",
    "print(ones_like_tensor)"
   ]
  },
  {
   "cell_type": "code",
   "execution_count": 23,
   "id": "8919786a",
   "metadata": {},
   "outputs": [
    {
     "data": {
      "text/plain": [
       "<tf.Tensor: shape=(3, 2), dtype=float32, numpy=\n",
       "array([[0., 0.],\n",
       "       [0., 0.],\n",
       "       [0., 0.]], dtype=float32)>"
      ]
     },
     "execution_count": 23,
     "metadata": {},
     "output_type": "execute_result"
    }
   ],
   "source": [
    "# To get a matrix which is filled with an 0s. Henceforth I will not use 'matrix', I will use 'tensor'\n",
    "zeros_tensor = tf.zeros(shape=[3, 2], dtype=tf.dtypes.float32, name=None)\n",
    "zeros_tensor"
   ]
  },
  {
   "cell_type": "code",
   "execution_count": 24,
   "id": "296bae60",
   "metadata": {},
   "outputs": [
    {
     "name": "stdout",
     "output_type": "stream",
     "text": [
      "tf.Tensor([4 2 3], shape=(3,), dtype=int32)\n"
     ]
    }
   ],
   "source": [
    "# To get shape of tensor\n",
    "print(tf.shape(tensor_three_d))"
   ]
  },
  {
   "cell_type": "code",
   "execution_count": 25,
   "id": "efdeb5d5",
   "metadata": {},
   "outputs": [
    {
     "name": "stdout",
     "output_type": "stream",
     "text": [
      "tf.Tensor(4, shape=(), dtype=int32)\n"
     ]
    }
   ],
   "source": [
    "# To get rank of tensor\n",
    "print(tf.rank(tensor_four_d))"
   ]
  },
  {
   "cell_type": "code",
   "execution_count": 26,
   "id": "1aa1fc03",
   "metadata": {},
   "outputs": [
    {
     "name": "stdout",
     "output_type": "stream",
     "text": [
      "tf.Tensor(72, shape=(), dtype=int32)\n"
     ]
    }
   ],
   "source": [
    "# To get size of tensor (0D Tensor which tells total number of elements in the tensor)\n",
    "print(tf.size(tensor_four_d))"
   ]
  },
  {
   "cell_type": "code",
   "execution_count": 27,
   "id": "58adbfff",
   "metadata": {},
   "outputs": [
    {
     "data": {
      "text/plain": [
       "<tf.Tensor: shape=(3, 2), dtype=float32, numpy=\n",
       "array([[10.385281 , 11.24922  ],\n",
       "       [ 7.9710054,  9.675973 ],\n",
       "       [ 9.782735 ,  8.836802 ]], dtype=float32)>"
      ]
     },
     "execution_count": 27,
     "metadata": {},
     "output_type": "execute_result"
    }
   ],
   "source": [
    "# Outputs random values from a normal distribution, Imagine a normal distribution bell curve. you will get random values around the mean, and number of standard deviations away, std dev increas/decrease makes the curve wider/thinner. Modify the out-dtype tp get floats or ints random values\n",
    "random_normal_tensor = tf.random.normal(\n",
    "    shape=[3, 2], mean=10.0, stddev=1.0, dtype=tf.dtypes.float32, seed=None, name=None\n",
    ")\n",
    "random_normal_tensor"
   ]
  },
  {
   "cell_type": "code",
   "execution_count": 28,
   "id": "f1b36fc1",
   "metadata": {},
   "outputs": [
    {
     "data": {
      "text/plain": [
       "<tf.Tensor: shape=(7, 5), dtype=int32, numpy=\n",
       "array([[179, 415, 856, 580, 972],\n",
       "       [204, 632, 571, 997,  20],\n",
       "       [581, 517, 975, 468, 544],\n",
       "       [102, 370, 640, 925, 368],\n",
       "       [871, 271, 577, 204, 476],\n",
       "       [265, 742, 425, 346, 300],\n",
       "       [ 32, 295, 785, 496, 428]])>"
      ]
     },
     "execution_count": 28,
     "metadata": {},
     "output_type": "execute_result"
    }
   ],
   "source": [
    "# Outputs random values from a uniform distribution, with values between a minval (default 0) and a maxval (default1). Modify the out-dtype tp get floats or ints random values\n",
    "\n",
    "random_uniform_tensor = tf.random.uniform(\n",
    "    shape=[7, 5], minval=0, maxval=1000, dtype=tf.dtypes.int32, seed=None, name=None\n",
    ")\n",
    "random_uniform_tensor"
   ]
  },
  {
   "cell_type": "code",
   "execution_count": 29,
   "id": "75f07c90",
   "metadata": {},
   "outputs": [
    {
     "name": "stdout",
     "output_type": "stream",
     "text": [
      "tf.Tensor([4 3 1], shape=(3,), dtype=int32)\n",
      "tf.Tensor([4 3 2], shape=(3,), dtype=int32)\n",
      "tf.Tensor([1 1 1], shape=(3,), dtype=int32)\n",
      "tf.Tensor([1 3 3], shape=(3,), dtype=int32)\n"
     ]
    }
   ],
   "source": [
    "# seed argument: A Python integer. Used in combination with tf.random.set_seed to create a REPRODUCIBLE sequence of tensors across multiple calls.\n",
    "tf.random.set_seed(5)\n",
    "print(\n",
    "    tf.random.uniform(\n",
    "        shape=[\n",
    "            3,\n",
    "        ],\n",
    "        maxval=5,\n",
    "        dtype=tf.int32,\n",
    "        seed=10,\n",
    "    )\n",
    ")\n",
    "print(\n",
    "    tf.random.uniform(\n",
    "        shape=[\n",
    "            3,\n",
    "        ],\n",
    "        maxval=5,\n",
    "        dtype=tf.int32,\n",
    "        seed=10,\n",
    "    )\n",
    ")\n",
    "print(\n",
    "    tf.random.uniform(\n",
    "        shape=[\n",
    "            3,\n",
    "        ],\n",
    "        maxval=5,\n",
    "        dtype=tf.int32,\n",
    "        seed=10,\n",
    "    )\n",
    ")\n",
    "print(\n",
    "    tf.random.uniform(\n",
    "        shape=[\n",
    "            3,\n",
    "        ],\n",
    "        maxval=5,\n",
    "        dtype=tf.int32,\n",
    "        seed=10,\n",
    "    )\n",
    ")"
   ]
  },
  {
   "cell_type": "code",
   "execution_count": 30,
   "id": "c568d7d2",
   "metadata": {},
   "outputs": [
    {
     "name": "stdout",
     "output_type": "stream",
     "text": [
      "tf.Tensor([4 3 1], shape=(3,), dtype=int32)\n",
      "tf.Tensor([4 3 2], shape=(3,), dtype=int32)\n",
      "tf.Tensor([1 1 1], shape=(3,), dtype=int32)\n",
      "tf.Tensor([1 3 3], shape=(3,), dtype=int32)\n"
     ]
    }
   ],
   "source": [
    "# Comparing seed outputs\n",
    "tf.random.set_seed(5)\n",
    "print(\n",
    "    tf.random.uniform(\n",
    "        shape=[\n",
    "            3,\n",
    "        ],\n",
    "        maxval=5,\n",
    "        dtype=tf.int32,\n",
    "        seed=10,\n",
    "    )\n",
    ")\n",
    "print(\n",
    "    tf.random.uniform(\n",
    "        shape=[\n",
    "            3,\n",
    "        ],\n",
    "        maxval=5,\n",
    "        dtype=tf.int32,\n",
    "        seed=10,\n",
    "    )\n",
    ")\n",
    "print(\n",
    "    tf.random.uniform(\n",
    "        shape=[\n",
    "            3,\n",
    "        ],\n",
    "        maxval=5,\n",
    "        dtype=tf.int32,\n",
    "        seed=10,\n",
    "    )\n",
    ")\n",
    "print(\n",
    "    tf.random.uniform(\n",
    "        shape=[\n",
    "            3,\n",
    "        ],\n",
    "        maxval=5,\n",
    "        dtype=tf.int32,\n",
    "        seed=10,\n",
    "    )\n",
    ")"
   ]
  },
  {
   "cell_type": "markdown",
   "id": "1534d032",
   "metadata": {},
   "source": [
    "# Indexing\n"
   ]
  },
  {
   "cell_type": "code",
   "execution_count": 31,
   "id": "343d37ef",
   "metadata": {},
   "outputs": [
    {
     "name": "stdout",
     "output_type": "stream",
     "text": [
      "tf.Tensor([ 3  6  2  4  6 66  7], shape=(7,), dtype=int32)\n",
      "tf.Tensor([3 6 2 4], shape=(4,), dtype=int32)\n",
      "tf.Tensor([6 2 4 6], shape=(4,), dtype=int32)\n",
      "tf.Tensor([66  7], shape=(2,), dtype=int32)\n",
      "tf.Tensor([ 3  6  2  4  6 66  7], shape=(7,), dtype=int32)\n",
      "tf.Tensor([3 2 6 7], shape=(4,), dtype=int32)\n",
      "tf.Tensor([ 4  6 66], shape=(3,), dtype=int32)\n"
     ]
    }
   ],
   "source": [
    "# Indexing, slicing, skipping a tensor\n",
    "tensor_indexed = tf.constant([3, 6, 2, 4, 6, 66, 7])\n",
    "print(tensor_indexed)\n",
    "print(tensor_indexed[:4])  # min index is by default 0, so it looks like [0:4]\n",
    "print(tensor_indexed[1:5])\n",
    "print(\n",
    "    tensor_indexed[5:]\n",
    ")  # max index is by default the last value, so it looks like [5:7]\n",
    "print(\n",
    "    tensor_indexed[:]\n",
    ")  # no min or max index is the whole range, so it looks like [0:7]\n",
    "print(\n",
    "    tensor_indexed[0:7:2]\n",
    ")  # the skip parameter gives the i+skipth position, default is i+1\n",
    "print(tensor_indexed[3:-1])  # negative max parameter gives the last-negative position"
   ]
  },
  {
   "cell_type": "code",
   "execution_count": 32,
   "id": "e920a097",
   "metadata": {},
   "outputs": [
    {
     "data": {
      "text/plain": [
       "<tf.Tensor: shape=(3,), dtype=int32, numpy=array([2, 3, 4])>"
      ]
     },
     "execution_count": 32,
     "metadata": {},
     "output_type": "execute_result"
    }
   ],
   "source": [
    "tf.range(2, 5)"
   ]
  },
  {
   "cell_type": "code",
   "execution_count": 33,
   "id": "3519fd34",
   "metadata": {},
   "outputs": [
    {
     "name": "stdout",
     "output_type": "stream",
     "text": [
      "tf.Tensor(\n",
      "[[1 2]\n",
      " [3 5]\n",
      " [1 5]], shape=(3, 2), dtype=int32)\n"
     ]
    }
   ],
   "source": [
    "# indeexing a 2-D Tensor\n",
    "\"\"\"\n",
    "where\n",
    "#tf.Tensor(\n",
    "[[ 1  2  0]\n",
    " [ 3  5 -1]\n",
    " [ 1  5  6]\n",
    " [ 2  3  8]], shape=(4, 3), dtype=int32)\"\"\"\n",
    "\n",
    "print(\n",
    "    tensor_two_d[0:3, 0:2]\n",
    ")  # default is [rowrange, columnrange], i.e., [0:lastrow,0:lastcol]"
   ]
  },
  {
   "cell_type": "code",
   "execution_count": 34,
   "id": "297d5c71",
   "metadata": {},
   "outputs": [
    {
     "name": "stdout",
     "output_type": "stream",
     "text": [
      "tf.Tensor([ 3  5 -1], shape=(3,), dtype=int32)\n"
     ]
    }
   ],
   "source": [
    "print(tensor_two_d[1, :])  # 2nd row (as indexing is 0,1,2...), all colums"
   ]
  },
  {
   "cell_type": "code",
   "execution_count": 35,
   "id": "4f06b8bb",
   "metadata": {},
   "outputs": [
    {
     "name": "stdout",
     "output_type": "stream",
     "text": [
      "tf.Tensor(3, shape=(), dtype=int32)\n"
     ]
    }
   ],
   "source": [
    "print(tensor_two_d[1, 0])  # 2nd row, 2nd column"
   ]
  },
  {
   "cell_type": "code",
   "execution_count": 36,
   "id": "4305296f",
   "metadata": {},
   "outputs": [
    {
     "name": "stdout",
     "output_type": "stream",
     "text": [
      "tf.Tensor([ 5 -1], shape=(2,), dtype=int32)\n"
     ]
    }
   ],
   "source": [
    "print(tensor_two_d[1, 1:])  # 2nd row, all colums after 1st colum"
   ]
  },
  {
   "cell_type": "code",
   "execution_count": 37,
   "id": "a8b0e875",
   "metadata": {},
   "outputs": [
    {
     "name": "stdout",
     "output_type": "stream",
     "text": [
      "tf.Tensor([1 3 1 2], shape=(4,), dtype=int32)\n"
     ]
    }
   ],
   "source": [
    "print(tensor_two_d[:, 0])  # all rows, 0th column"
   ]
  },
  {
   "cell_type": "code",
   "execution_count": 38,
   "id": "ba90950b",
   "metadata": {},
   "outputs": [
    {
     "name": "stdout",
     "output_type": "stream",
     "text": [
      "tf.Tensor([1 3 1 2], shape=(4,), dtype=int32)\n"
     ]
    }
   ],
   "source": [
    "# anothher short hand for [:] is [...]\n",
    "print(tensor_two_d[..., 0])  # all rows, 0th column"
   ]
  },
  {
   "cell_type": "code",
   "execution_count": 39,
   "id": "92d16b41",
   "metadata": {},
   "outputs": [
    {
     "name": "stdout",
     "output_type": "stream",
     "text": [
      "tf.Tensor(\n",
      "[[ 1  2  0]\n",
      " [ 3  5 -1]], shape=(2, 3), dtype=int32)\n"
     ]
    }
   ],
   "source": [
    "\"\"\"\n",
    "3D Tensor indexing\n",
    "tf.Tensor(\n",
    "[[[ 1  2  0]\n",
    "  [ 3  5 -1]]\n",
    "\n",
    " [[10  2  0]\n",
    "  [ 1  0  2]]\n",
    "\n",
    " [[ 5  8  0]\n",
    "  [ 2  7  0]]\n",
    "\n",
    " [[ 2  1  9]\n",
    "  [ 4 -3 32]]], shape=(4, 2, 3), dtype=int32)\n",
    "\"\"\"\n",
    "\n",
    "print(tensor_three_d[0, :, :])  # 0th element, all rows, all columns"
   ]
  },
  {
   "cell_type": "code",
   "execution_count": 40,
   "id": "4fdf0a69",
   "metadata": {},
   "outputs": [
    {
     "name": "stdout",
     "output_type": "stream",
     "text": [
      "tf.Tensor([1 2 0], shape=(3,), dtype=int32)\n"
     ]
    }
   ],
   "source": [
    "print(tensor_three_d[0, 0, :])  # 0th element, 0th row, all columns"
   ]
  },
  {
   "cell_type": "code",
   "execution_count": 41,
   "id": "48931278",
   "metadata": {},
   "outputs": [
    {
     "name": "stdout",
     "output_type": "stream",
     "text": [
      "tf.Tensor([ 0 -1], shape=(2,), dtype=int32)\n"
     ]
    }
   ],
   "source": [
    "print(tensor_three_d[0, :, 2])  # 0th element, all rows, last column"
   ]
  },
  {
   "cell_type": "code",
   "execution_count": 42,
   "id": "a52a3f28",
   "metadata": {},
   "outputs": [
    {
     "name": "stdout",
     "output_type": "stream",
     "text": [
      "tf.Tensor(\n",
      "[[ 0 -1]\n",
      " [ 0  2]], shape=(2, 2), dtype=int32)\n"
     ]
    }
   ],
   "source": [
    "print(tensor_three_d[0:2, :, 2])  # 0th and 1st element, all rows, last colum"
   ]
  },
  {
   "cell_type": "code",
   "execution_count": 43,
   "id": "2261204c",
   "metadata": {},
   "outputs": [
    {
     "name": "stdout",
     "output_type": "stream",
     "text": [
      "tf.Tensor(\n",
      "[[ 0 -1]\n",
      " [ 0  2]\n",
      " [ 0  0]\n",
      " [ 9 32]], shape=(4, 2), dtype=int32)\n"
     ]
    }
   ],
   "source": [
    "print(tensor_three_d[..., :, 2])  # all elements, all rows, 1st column\n",
    "# [... , ... , 2] does not work surprisingly"
   ]
  },
  {
   "cell_type": "markdown",
   "id": "e518bf3e",
   "metadata": {},
   "source": [
    "# Math Operations\n"
   ]
  },
  {
   "cell_type": "code",
   "execution_count": 44,
   "id": "c3948d02",
   "metadata": {},
   "outputs": [
    {
     "ename": "NameError",
     "evalue": "name 'x' is not defined",
     "output_type": "error",
     "traceback": [
      "\u001b[1;31m---------------------------------------------------------------------------\u001b[0m",
      "\u001b[1;31mNameError\u001b[0m                                 Traceback (most recent call last)",
      "Cell \u001b[1;32mIn[44], line 6\u001b[0m\n\u001b[0;32m      1\u001b[0m \u001b[39m# Computes the absolute value of a tensor.\u001b[39;00m\n\u001b[0;32m      2\u001b[0m \u001b[39m# i.e., turns negatives into positives\u001b[39;00m\n\u001b[0;32m      3\u001b[0m \n\u001b[0;32m      4\u001b[0m \u001b[39m#for a real number\u001b[39;00m\n\u001b[0;32m      5\u001b[0m x_abs \u001b[39m=\u001b[39m tf\u001b[39m.\u001b[39mconstant([\u001b[39m-\u001b[39m\u001b[39m2.25\u001b[39m, \u001b[39m3.25\u001b[39m])\n\u001b[1;32m----> 6\u001b[0m tf\u001b[39m.\u001b[39mabs(x)\n",
      "\u001b[1;31mNameError\u001b[0m: name 'x' is not defined"
     ]
    }
   ],
   "source": [
    "# Computes the absolute value of a tensor.\n",
    "# i.e., turns negatives into positives\n",
    "\n",
    "# for a real number\n",
    "x_abs = tf.constant([-2.25, 3.25])\n",
    "tf.abs(x_abs)"
   ]
  },
  {
   "cell_type": "code",
   "execution_count": null,
   "id": "a9e9faf7",
   "metadata": {},
   "outputs": [
    {
     "data": {
      "text/plain": [
       "<tf.Tensor: shape=(2, 1), dtype=float64, numpy=\n",
       "array([[5.25594901],\n",
       "       [6.60492241]])>"
      ]
     },
     "execution_count": 53,
     "metadata": {},
     "output_type": "execute_result"
    }
   ],
   "source": [
    "# complex number, For a complex number a+bj, its absolute value is computed as sqrt(a^2 + b^2)\n",
    "x_abs_complex = tf.constant([[-2.25 + 4.75j], [-3.25 + 5.75j]])\n",
    "tf.abs(x)"
   ]
  },
  {
   "cell_type": "code",
   "execution_count": null,
   "id": "c7b408d6",
   "metadata": {},
   "outputs": [
    {
     "name": "stdout",
     "output_type": "stream",
     "text": [
      "tf.Tensor(5.255949, shape=(), dtype=float32)\n",
      "tf.Tensor(6.6049223, shape=(), dtype=float32)\n"
     ]
    }
   ],
   "source": [
    "# checking above. Note: for squaring negative numbers, remember to put then in brackets, then square, else you will get wrong value.\n",
    "print(tf.math.sqrt((-2.25) ** 2 + 4.75**2))\n",
    "print(tf.math.sqrt((-3.25) ** 2 + 5.75**2))"
   ]
  },
  {
   "cell_type": "code",
   "execution_count": null,
   "id": "99d7fd71",
   "metadata": {},
   "outputs": [
    {
     "data": {
      "text/plain": [
       "<tf.Tensor: shape=(5,), dtype=int32, numpy=array([2, 3, 4, 5, 6])>"
      ]
     },
     "execution_count": 59,
     "metadata": {},
     "output_type": "execute_result"
    }
   ],
   "source": [
    "# Add two tensors\n",
    "\n",
    "# Scalar and List\n",
    "\n",
    "x = [1, 2, 3, 4, 5]\n",
    "y = 1\n",
    "tf.add(x, y)"
   ]
  },
  {
   "cell_type": "code",
   "execution_count": null,
   "id": "8d8f9dc2",
   "metadata": {},
   "outputs": [
    {
     "data": {
      "text/plain": [
       "<tf.Tensor: shape=(5,), dtype=int32, numpy=array([2, 3, 4, 5, 6])>"
      ]
     },
     "execution_count": 60,
     "metadata": {},
     "output_type": "execute_result"
    }
   ],
   "source": [
    "# usage of + operator\n",
    "x = tf.convert_to_tensor([1, 2, 3, 4, 5])\n",
    "y = tf.convert_to_tensor(1)\n",
    "x + y"
   ]
  },
  {
   "cell_type": "code",
   "execution_count": null,
   "id": "bbf13535",
   "metadata": {},
   "outputs": [
    {
     "data": {
      "text/plain": [
       "<tf.Tensor: shape=(5,), dtype=int32, numpy=array([ 2,  4,  6,  8, 10])>"
      ]
     },
     "execution_count": 61,
     "metadata": {},
     "output_type": "execute_result"
    }
   ],
   "source": [
    "# Add Tensor and List of same shape\n",
    "x = [1, 2, 3, 4, 5]\n",
    "y = tf.constant([1, 2, 3, 4, 5])\n",
    "tf.add(x, y)"
   ]
  },
  {
   "cell_type": "code",
   "execution_count": null,
   "id": "4dd001f9",
   "metadata": {},
   "outputs": [
    {
     "data": {
      "text/plain": [
       "<tf.Tensor: shape=(2,), dtype=int8, numpy=array([-126, -124], dtype=int8)>"
      ]
     },
     "execution_count": 62,
     "metadata": {},
     "output_type": "execute_result"
    }
   ],
   "source": [
    "# Warning: If one of the inputs (x or y) is a tensor and the other is a non-tensor, the non-tensor input will adopt (or get casted to) the data type of the tensor input. This can potentially cause unwanted overflow or underflow conversion. here it becomes -126, -124 even on adding\n",
    "\n",
    "x = tf.constant([1, 2], dtype=tf.int8)\n",
    "y = [2**7 + 1, 2**7 + 2]\n",
    "tf.add(x, y)"
   ]
  },
  {
   "cell_type": "code",
   "execution_count": null,
   "id": "1e5f22c3",
   "metadata": {},
   "outputs": [
    {
     "data": {
      "text/plain": [
       "<tf.Tensor: shape=(5,), dtype=int32, numpy=array([ 2,  4,  6,  8, 10])>"
      ]
     },
     "execution_count": 63,
     "metadata": {},
     "output_type": "execute_result"
    }
   ],
   "source": [
    "# Add Tensor and Tensor of same shape\n",
    "x = tf.constant([1, 2, 3, 4, 5])\n",
    "y = tf.constant([1, 2, 3, 4, 5])\n",
    "tf.add(x, y)"
   ]
  },
  {
   "cell_type": "code",
   "execution_count": null,
   "id": "1b0cb662",
   "metadata": {},
   "outputs": [
    {
     "data": {
      "text/plain": [
       "<tf.Tensor: shape=(5,), dtype=int32, numpy=array([ 1,  4,  9, 16, 25])>"
      ]
     },
     "execution_count": 64,
     "metadata": {},
     "output_type": "execute_result"
    }
   ],
   "source": [
    "# Multiply Tensor and Tensor of same shape\n",
    "x = tf.constant([1, 2, 3, 4, 5])\n",
    "y = tf.constant([1, 2, 3, 4, 5])\n",
    "tf.multiply(x, y)"
   ]
  },
  {
   "cell_type": "code",
   "execution_count": null,
   "id": "4272dd7c",
   "metadata": {},
   "outputs": [
    {
     "data": {
      "text/plain": [
       "<tf.Tensor: shape=(5,), dtype=float64, numpy=array([1., 1., 1., 1., 1.])>"
      ]
     },
     "execution_count": 65,
     "metadata": {},
     "output_type": "execute_result"
    }
   ],
   "source": [
    "# Divide Tensor and Tensor of same shape\n",
    "x = tf.constant([1, 2, 3, 4, 5])\n",
    "y = tf.constant([1, 2, 3, 4, 5])\n",
    "tf.divide(x, y)"
   ]
  },
  {
   "cell_type": "code",
   "execution_count": null,
   "id": "72bf3fe0",
   "metadata": {},
   "outputs": [
    {
     "data": {
      "text/plain": [
       "<tf.Tensor: shape=(5,), dtype=float32, numpy=array([0., 0., 0., 0., 0.], dtype=float32)>"
      ]
     },
     "execution_count": 70,
     "metadata": {},
     "output_type": "execute_result"
    }
   ],
   "source": [
    "# Divide_No_NaN Tensor and Tensor of same shape. Tensor dtype conversion requested. int not allowed, only float\n",
    "# instad of infinity inf, it shows 0\n",
    "x = tf.constant([1, 2, 3, 4, 5], dtype=tf.float32)\n",
    "y = tf.zeros_like(x, tf.float32)\n",
    "tf.math.divide_no_nan(x, y)"
   ]
  },
  {
   "cell_type": "markdown",
   "id": "7e5de08a",
   "metadata": {},
   "source": [
    "# Broadcasting\n",
    "\n",
    "When element wise operations are done on non-similar shape arrays, the smaller tensor is STRETCHED OUT to match the larger tensor\n"
   ]
  },
  {
   "cell_type": "code",
   "execution_count": 46,
   "id": "461c6126",
   "metadata": {},
   "outputs": [
    {
     "name": "stdout",
     "output_type": "stream",
     "text": [
      "tf.Tensor([ 8.  9. 10. 11. 12.], shape=(5,), dtype=float32)\n",
      "tf.Tensor([ 8.  9. 10. 11. 12.], shape=(5,), dtype=float32)\n"
     ]
    }
   ],
   "source": [
    "# Divide_No_NaN Tensor and Tensor of same shape. Tensor dtype conversion requested. int not allowed, only float\n",
    "# instad of infinity inf, it shows 0\n",
    "x = tf.constant([1, 2, 3, 4, 5], dtype=tf.float32)\n",
    "y = tf.constant([7], dtype=tf.float32)\n",
    "y_stretched = tf.constant([7, 7, 7, 7, 7], dtype=tf.float32)\n",
    "\n",
    "print(tf.math.add(x, y))\n",
    "print(tf.math.add(x, y_stretched))\n",
    "# the result will be the same"
   ]
  },
  {
   "cell_type": "code",
   "execution_count": 48,
   "id": "f7275778",
   "metadata": {},
   "outputs": [
    {
     "name": "stdout",
     "output_type": "stream",
     "text": [
      "tf.Tensor(\n",
      "[[ 7. 14. 21. 28. 35.]\n",
      " [42. 49. 56. 63. 70.]], shape=(2, 5), dtype=float32)\n",
      "tf.Tensor(\n",
      "[[ 7. 14. 21. 28. 35.]\n",
      " [42. 49. 56. 63. 70.]], shape=(2, 5), dtype=float32)\n"
     ]
    }
   ],
   "source": [
    "# Multiply. It is elementwise Multiplication, NOT matrix multiplicaion\n",
    "x = tf.constant([[1, 2, 3, 4, 5], [6, 7, 8, 9, 10]], dtype=tf.float32)\n",
    "y = tf.constant([7], dtype=tf.float32)\n",
    "y_stretched = tf.constant([7, 7, 7, 7, 7], dtype=tf.float32)\n",
    "\n",
    "print(tf.math.multiply(x, y))\n",
    "print(tf.math.multiply(x, y_stretched))"
   ]
  },
  {
   "cell_type": "code",
   "execution_count": 61,
   "id": "4d149f93",
   "metadata": {},
   "outputs": [
    {
     "name": "stdout",
     "output_type": "stream",
     "text": [
      "(1, 5)\n",
      "(3, 1)\n",
      "tf.Tensor(\n",
      "[[ 7. 14. 21. 28. 35.]\n",
      " [ 5. 10. 15. 20. 25.]\n",
      " [ 3.  6.  9. 12. 15.]], shape=(3, 5), dtype=float32)\n",
      "tf.Tensor(\n",
      "[[ 7. 14. 21. 28. 35.]\n",
      " [ 5. 10. 15. 20. 25.]\n",
      " [ 3.  6.  9. 12. 15.]], shape=(3, 5), dtype=float32)\n"
     ]
    }
   ],
   "source": [
    "# Broadcasted elementwise Multiplication\n",
    "x = tf.constant([[1, 2, 3, 4, 5]], dtype=tf.float32) # only one element [1,2,3,4,5]\n",
    "y = tf.constant([[7], [5], [3]], dtype=tf.float32)   # three elements [7], [5], [3]\n",
    "\n",
    "print(x.shape)\n",
    "print(y.shape)\n",
    "print(tf.math.multiply(x, y))\n",
    "print(tf.math.multiply(y, x))  # Same output, as it is elementwise multiplication, NOT matrix multiplication"
   ]
  },
  {
   "cell_type": "code",
   "execution_count": 66,
   "id": "47da38da",
   "metadata": {},
   "outputs": [
    {
     "name": "stdout",
     "output_type": "stream",
     "text": [
      "tf.Tensor(\n",
      "[[ 7. 14. 21. 28. 35.]\n",
      " [ 5. 10. 15. 20. 25.]\n",
      " [ 3.  6.  9. 12. 15.]], shape=(3, 5), dtype=float32)\n",
      "tf.Tensor(\n",
      "[[ 7. 14. 21. 28. 35.]\n",
      " [ 5. 10. 15. 20. 25.]\n",
      " [ 3.  6.  9. 12. 15.]], shape=(3, 5), dtype=float32)\n"
     ]
    }
   ],
   "source": [
    "# Comaring with Non-broadcasted elementwise Multiplication\n",
    "x_stretched = tf.constant(\n",
    "    [[1, 2, 3, 4, 5], [1, 2, 3, 4, 5], [1, 2, 3, 4, 5]],\n",
    "    dtype=tf.float32,  # x stretched out to 3 elements, to multiply with 3 elements/rows of y\n",
    ")\n",
    "y_stretched = tf.constant(\n",
    "    [[7, 7, 7, 7, 7], [5, 5, 5, 5, 5], [3, 3, 3, 3, 3]],\n",
    "    dtype=tf.float32,  # y stretched out to multiply elementwise with all 5 columns of x\n",
    ")\n",
    "print(tf.math.multiply(x_stretched, y_stretched))\n",
    "print(tf.math.multiply(y_stretched, x_stretched))  # Same output, as it is elementwise multiplication, NOT matrix multiplication"
   ]
  },
  {
   "cell_type": "markdown",
   "id": "4f2b0b97",
   "metadata": {},
   "source": [
    "Broadcasting(Stretching the Tensors) rule of thumb:\n",
    "\n",
    "Both tensors should have one of their respective dimensions as 1. The other dimension is stretched corresponding to the other tensor."
   ]
  },
  {
   "cell_type": "code",
   "execution_count": 67,
   "id": "f8766b15",
   "metadata": {},
   "outputs": [
    {
     "data": {
      "text/plain": [
       "<tf.Tensor: shape=(4,), dtype=float32, numpy=array([0., 0., 2., 5.], dtype=float32)>"
      ]
     },
     "execution_count": 67,
     "metadata": {},
     "output_type": "execute_result"
    }
   ],
   "source": [
    "# Element wise Maximum of 2 tensors when comparing both\n",
    "\n",
    "x = tf.constant([0., 0., 0., 0.])\n",
    "y = tf.constant([-2., 0., 2., 5.])\n",
    "tf.math.maximum(x, y)\n"
   ]
  },
  {
   "cell_type": "code",
   "execution_count": 69,
   "id": "cfce60dd",
   "metadata": {},
   "outputs": [
    {
     "data": {
      "text/plain": [
       "<tf.Tensor: shape=(4,), dtype=float32, numpy=array([-3.,  0.,  0.,  0.], dtype=float32)>"
      ]
     },
     "execution_count": 69,
     "metadata": {},
     "output_type": "execute_result"
    }
   ],
   "source": [
    "# Note that maximum supports broadcast semantics for x and y.\n",
    "\n",
    "x = tf.constant([-5., 0., 0., 0.])\n",
    "y = tf.constant([-3.])\n",
    "tf.math.maximum(x, y)\n"
   ]
  },
  {
   "cell_type": "code",
   "execution_count": 70,
   "id": "7509e45f",
   "metadata": {},
   "outputs": [
    {
     "data": {
      "text/plain": [
       "<tf.Tensor: shape=(4,), dtype=float32, numpy=array([-5., -2.,  0.,  0.], dtype=float32)>"
      ]
     },
     "execution_count": 70,
     "metadata": {},
     "output_type": "execute_result"
    }
   ],
   "source": [
    "# Element wise Minimum of 2 tensors when comparing both\n",
    "\n",
    "x = tf.constant([0., 0., 0., 0.])\n",
    "y = tf.constant([-5., -2., 0., 3.])\n",
    "tf.math.minimum(x, y)\n"
   ]
  },
  {
   "cell_type": "code",
   "execution_count": 74,
   "id": "33f876be",
   "metadata": {},
   "outputs": [
    {
     "data": {
      "text/plain": [
       "<tf.Tensor: shape=(), dtype=int64, numpy=2>"
      ]
     },
     "execution_count": 74,
     "metadata": {},
     "output_type": "execute_result"
    }
   ],
   "source": [
    "# Returns the index with the largest value across axes of a tensor.\n",
    "A = tf.constant([2, 20, 30, 3, 6])\n",
    "tf.math.argmax(A)  # A[2] is maximum in tensor A"
   ]
  },
  {
   "cell_type": "code",
   "execution_count": 78,
   "id": "93454a3a",
   "metadata": {},
   "outputs": [
    {
     "data": {
      "text/plain": [
       "<tf.Tensor: shape=(5,), dtype=int64, numpy=array([2, 2, 0, 2, 2], dtype=int64)>"
      ]
     },
     "execution_count": 78,
     "metadata": {},
     "output_type": "execute_result"
    }
   ],
   "source": [
    "'''tf.math.argmax(\n",
    "    input,\n",
    "    axis=None,              # axis =0 means row is fixed, comarison for arg max is done on the columns. Vice versa for axis = 1\n",
    "    output_type=tf.dtypes.int64,\n",
    "    name=None\n",
    ")'''\n",
    "B = tf.constant([[2, 20, 30, 3, 6], \n",
    "                 [3, 11, 16, 1, 8],\n",
    "                 [14, 45, 23, 5, 27]])\n",
    "tf.math.argmax(B, 0)\n",
    "\n"
   ]
  },
  {
   "cell_type": "code",
   "execution_count": 79,
   "id": "9f1dde14",
   "metadata": {},
   "outputs": [
    {
     "data": {
      "text/plain": [
       "<tf.Tensor: shape=(3,), dtype=int64, numpy=array([0, 3, 3], dtype=int64)>"
      ]
     },
     "execution_count": 79,
     "metadata": {},
     "output_type": "execute_result"
    }
   ],
   "source": [
    "# ArgMIN\n",
    "tf.math.argmin(B, 1)"
   ]
  },
  {
   "cell_type": "code",
   "execution_count": 80,
   "id": "238b87a8",
   "metadata": {},
   "outputs": [
    {
     "data": {
      "text/plain": [
       "<tf.Tensor: shape=(), dtype=int64, numpy=0>"
      ]
     },
     "execution_count": 80,
     "metadata": {},
     "output_type": "execute_result"
    }
   ],
   "source": [
    "C = tf.constant([0, 0, 0, 0])\n",
    "tf.math.argmax(C) # Returns smallest index in case of ties"
   ]
  },
  {
   "cell_type": "code",
   "execution_count": 83,
   "id": "3f94d937",
   "metadata": {},
   "outputs": [
    {
     "data": {
      "text/plain": [
       "<tf.Tensor: shape=(2,), dtype=bool, numpy=array([ True, False])>"
      ]
     },
     "execution_count": 83,
     "metadata": {},
     "output_type": "execute_result"
    }
   ],
   "source": [
    "# Returns the truth value of (x == y) element-wise.\n",
    "x = tf.constant([2, 4])\n",
    "y = tf.constant(2)  # broadcasting happens for comparing non-similar shaped tensors, y=[2] becpmes [2,2] to commpare with x= [2,4]\n",
    "tf.math.equal(x, y)\n"
   ]
  },
  {
   "cell_type": "code",
   "execution_count": 84,
   "id": "8c5b8168",
   "metadata": {},
   "outputs": [
    {
     "data": {
      "text/plain": [
       "<tf.Tensor: shape=(2,), dtype=bool, numpy=array([ True,  True])>"
      ]
     },
     "execution_count": 84,
     "metadata": {},
     "output_type": "execute_result"
    }
   ],
   "source": [
    "x = tf.constant([2, 4])\n",
    "y = tf.constant([2, 4])\n",
    "tf.math.equal(x, y)\n"
   ]
  },
  {
   "cell_type": "code",
   "execution_count": 86,
   "id": "300749cc",
   "metadata": {},
   "outputs": [
    {
     "data": {
      "text/plain": [
       "<tf.Tensor: shape=(2, 2), dtype=int32, numpy=\n",
       "array([[ 8,  1],\n",
       "       [ 3, 81]])>"
      ]
     },
     "execution_count": 86,
     "metadata": {},
     "output_type": "execute_result"
    }
   ],
   "source": [
    "# Computes the power of one value to another.\n",
    "x = tf.constant([[2, 2], [3, 3]])\n",
    "y = tf.constant([[3, 0], [1, 4]])\n",
    "tf.pow(x, y)"
   ]
  },
  {
   "cell_type": "code",
   "execution_count": 106,
   "id": "f98111a5",
   "metadata": {},
   "outputs": [],
   "source": [
    "# Computes the sum of elements across dimensions of a tensor.\n",
    "# tf.math.reduce_sum(\n",
    "#     input_tensor, axis=None, keepdims=False, name=None\n",
    "# )\n",
    "\n",
    "x = tf.constant([[1, 1, 1], [1, 1, 1]])\n"
   ]
  },
  {
   "cell_type": "code",
   "execution_count": null,
   "id": "30f1b221",
   "metadata": {},
   "outputs": [],
   "source": [
    "# sum all the elements: 1 + 1 + 1 + 1 + 1+ 1 = 6\n",
    "print(tf.reduce_sum(x))"
   ]
  },
  {
   "cell_type": "code",
   "execution_count": 93,
   "id": "e650470f",
   "metadata": {},
   "outputs": [
    {
     "name": "stdout",
     "output_type": "stream",
     "text": [
      "tf.Tensor([2 2 2], shape=(3,), dtype=int32)\n"
     ]
    }
   ],
   "source": [
    "# reduce along the first dimension/axis\n",
    "# the result is [1, 1, 1] + [1, 1, 1] = [2, 2, 2]\n",
    "print(tf.reduce_sum(x,0))"
   ]
  },
  {
   "cell_type": "code",
   "execution_count": 96,
   "id": "96e3b0a6",
   "metadata": {},
   "outputs": [
    {
     "name": "stdout",
     "output_type": "stream",
     "text": [
      "tf.Tensor([3 3], shape=(2,), dtype=int32)\n"
     ]
    }
   ],
   "source": [
    "# reduce along the first dimension/axis\n",
    "# the result is [1, 1, 1] + [1, 1, 1] = [2, 2, 2]\n",
    "print(tf.reduce_sum(x,1))"
   ]
  },
  {
   "cell_type": "code",
   "execution_count": 99,
   "id": "510e7f1e",
   "metadata": {},
   "outputs": [
    {
     "data": {
      "text/plain": [
       "<tf.Tensor: shape=(2, 1), dtype=int32, numpy=\n",
       "array([[3],\n",
       "       [3]])>"
      ]
     },
     "execution_count": 99,
     "metadata": {},
     "output_type": "execute_result"
    }
   ],
   "source": [
    "tf.reduce_sum(x, 1, keepdims=True)"
   ]
  },
  {
   "cell_type": "code",
   "execution_count": 101,
   "id": "fa88b6ce",
   "metadata": {},
   "outputs": [
    {
     "data": {
      "text/plain": [
       "6"
      ]
     },
     "execution_count": 101,
     "metadata": {},
     "output_type": "execute_result"
    }
   ],
   "source": [
    "# reduce along both dimensions, the result is 1 + 1 + 1 + 1 + 1 + 1 = 6\n",
    "# or, equivalently, reduce along rows [1, 1, 1] + [1, 1, 1] = [2, 2, 2], then reduce the resultant array 2 + 2 + 2 = 6\n",
    "tf.reduce_sum(x, [0, 1]).numpy()"
   ]
  },
  {
   "cell_type": "code",
   "execution_count": 118,
   "id": "41cbf070",
   "metadata": {},
   "outputs": [
    {
     "data": {
      "text/plain": [
       "<tf.Tensor: shape=(4, 3), dtype=int32, numpy=\n",
       "array([[ 1,  2,  0],\n",
       "       [ 3,  5, -1],\n",
       "       [ 1,  5,  6],\n",
       "       [ 2,  3,  8]])>"
      ]
     },
     "execution_count": 118,
     "metadata": {},
     "output_type": "execute_result"
    }
   ],
   "source": [
    "tensor_two_d"
   ]
  },
  {
   "cell_type": "code",
   "execution_count": 119,
   "id": "b7ce11e5",
   "metadata": {},
   "outputs": [
    {
     "data": {
      "text/plain": [
       "8"
      ]
     },
     "execution_count": 119,
     "metadata": {},
     "output_type": "execute_result"
    }
   ],
   "source": [
    "# Computes tf.math.maximum of elements across dimensions of a tensor.\n",
    "tf.reduce_max(tensor_two_d).numpy()"
   ]
  },
  {
   "cell_type": "code",
   "execution_count": 120,
   "id": "4d3e8426",
   "metadata": {},
   "outputs": [
    {
     "data": {
      "text/plain": [
       "-1"
      ]
     },
     "execution_count": 120,
     "metadata": {},
     "output_type": "execute_result"
    }
   ],
   "source": [
    "# Computes tf.math.minimum of elements across dimensions of a tensor.\n",
    "tf.reduce_min(tensor_two_d).numpy()\n"
   ]
  },
  {
   "cell_type": "code",
   "execution_count": 121,
   "id": "7642708d",
   "metadata": {},
   "outputs": [
    {
     "name": "stdout",
     "output_type": "stream",
     "text": [
      "(4, 3)\n",
      "tf.Tensor([ 7 15 13], shape=(3,), dtype=int32)\n"
     ]
    }
   ],
   "source": [
    "print(tensor_two_d.shape)\n",
    "print(tf.math.reduce_sum(tensor_two_d, axis= 0, keepdims=False, name=None))"
   ]
  },
  {
   "cell_type": "code",
   "execution_count": 111,
   "id": "43baabc8",
   "metadata": {},
   "outputs": [
    {
     "name": "stdout",
     "output_type": "stream",
     "text": [
      "tf.Tensor([ 3  7 12 13], shape=(4,), dtype=int32)\n"
     ]
    }
   ],
   "source": [
    "print(tf.math.reduce_sum(tensor_two_d, axis= 1, keepdims=False, name=None))"
   ]
  },
  {
   "cell_type": "code",
   "execution_count": 122,
   "id": "8ea4b628",
   "metadata": {},
   "outputs": [
    {
     "name": "stdout",
     "output_type": "stream",
     "text": [
      "tf.Tensor([2 5 6 8], shape=(4,), dtype=int32)\n"
     ]
    }
   ],
   "source": [
    "# reduce_max\n",
    "print(tf.math.reduce_max(tensor_two_d, axis= 1, keepdims=False, name=None))"
   ]
  },
  {
   "cell_type": "code",
   "execution_count": 123,
   "id": "8c97e71a",
   "metadata": {},
   "outputs": [
    {
     "name": "stdout",
     "output_type": "stream",
     "text": [
      "tf.Tensor([1 2 4 4], shape=(4,), dtype=int32)\n"
     ]
    }
   ],
   "source": [
    "# reduce_mean, axis = 1, so (1+3+1+2)/4. ALso if tensor dtype is int, you will only get int values in mean, not float. So Cast it\n",
    "print(tf.math.reduce_mean(tensor_two_d, axis= 1, keepdims=False, name=None))"
   ]
  },
  {
   "cell_type": "code",
   "execution_count": 126,
   "id": "2893f3ca",
   "metadata": {},
   "outputs": [],
   "source": [
    "casted_tensor_two_d = tf.cast(tensor_two_d, dtype=tf.float32)"
   ]
  },
  {
   "cell_type": "code",
   "execution_count": 127,
   "id": "22487a88",
   "metadata": {},
   "outputs": [
    {
     "name": "stdout",
     "output_type": "stream",
     "text": [
      "tf.Tensor([1.        2.3333333 4.        4.3333335], shape=(4,), dtype=float32)\n"
     ]
    }
   ],
   "source": [
    "print(tf.math.reduce_mean(casted_tensor_two_d, axis= 1, keepdims=False, name=None))"
   ]
  },
  {
   "cell_type": "code",
   "execution_count": 128,
   "id": "e1b3ca89",
   "metadata": {},
   "outputs": [
    {
     "name": "stdout",
     "output_type": "stream",
     "text": [
      "tf.Tensor([0.8291562 1.299038  3.8324275], shape=(3,), dtype=float32)\n"
     ]
    }
   ],
   "source": [
    "# reduce_std, axis = 1, DOES NOT work with int dtype tensor, so use float instead\n",
    "print(tf.math.reduce_std(casted_tensor_two_d, axis= 0, keepdims=False, name=None))"
   ]
  },
  {
   "cell_type": "code",
   "execution_count": 131,
   "id": "b42bf943",
   "metadata": {},
   "outputs": [
    {
     "name": "stdout",
     "output_type": "stream",
     "text": [
      "tf.Tensor([[0.8291562 1.299038  3.8324275]], shape=(1, 3), dtype=float32)\n"
     ]
    }
   ],
   "source": [
    "#KeepDims, If true, retains reduced dimensions with length 1.\n",
    "print(tf.math.reduce_std(casted_tensor_two_d, axis= 0, keepdims=True, name=None))"
   ]
  },
  {
   "cell_type": "code",
   "execution_count": 132,
   "id": "1de74b11",
   "metadata": {},
   "outputs": [
    {
     "data": {
      "text/plain": [
       "<tf.Tensor: shape=(4,), dtype=float32, numpy=array([0.5       , 0.73105854, 1.        , 1.        ], dtype=float32)>"
      ]
     },
     "execution_count": 132,
     "metadata": {},
     "output_type": "execute_result"
    }
   ],
   "source": [
    "# Computes sigmoid of x element-wise.\n",
    "x = tf.constant([0.0, 1.0, 50.0, 100.0])\n",
    "tf.math.sigmoid(x)"
   ]
  },
  {
   "cell_type": "code",
   "execution_count": 141,
   "id": "57a255ed",
   "metadata": {},
   "outputs": [
    {
     "data": {
      "text/plain": [
       "array([99, 98, 96])"
      ]
     },
     "execution_count": 141,
     "metadata": {},
     "output_type": "execute_result"
    }
   ],
   "source": [
    "# top_k finds VALUES and INDICES of the K largest entries for the last dimension. By default K=1 and output top_k values are sorted (for K>1)\n",
    "# here the input is a vector (rank=1). Thus values[j] is the j-th largest entry in input, and its index is indices[j].\n",
    "result = tf.math.top_k([1, 2, 98, 1, 1, 99, 3, 1, 3, 96, 4, 1],\n",
    "                        k=3,\n",
    "                        sorted=True)\n",
    "result.values.numpy()\n",
    "# .numpy() cast tensor to numpy array"
   ]
  },
  {
   "cell_type": "code",
   "execution_count": 137,
   "id": "2ba8484f",
   "metadata": {},
   "outputs": [
    {
     "data": {
      "text/plain": [
       "<tf.Tensor: shape=(3,), dtype=int32, numpy=array([5, 2, 9])>"
      ]
     },
     "execution_count": 137,
     "metadata": {},
     "output_type": "execute_result"
    }
   ],
   "source": [
    "result.indices.numpy()"
   ]
  },
  {
   "cell_type": "code",
   "execution_count": 138,
   "id": "cc55114d",
   "metadata": {},
   "outputs": [
    {
     "data": {
      "text/plain": [
       "TopKV2(values=<tf.Tensor: shape=(3,), dtype=int32, numpy=array([99, 98, 96])>, indices=<tf.Tensor: shape=(3,), dtype=int32, numpy=array([5, 2, 9])>)"
      ]
     },
     "execution_count": 138,
     "metadata": {},
     "output_type": "execute_result"
    }
   ],
   "source": [
    "# If you just print result you get both VALUES and INDICES\n",
    "result"
   ]
  },
  {
   "cell_type": "code",
   "execution_count": 139,
   "id": "a794a26d",
   "metadata": {},
   "outputs": [
    {
     "data": {
      "text/plain": [
       "TopKV2(values=<tf.Tensor: shape=(4, 1), dtype=int32, numpy=\n",
       "array([[2],\n",
       "       [5],\n",
       "       [6],\n",
       "       [8]])>, indices=<tf.Tensor: shape=(4, 1), dtype=int32, numpy=\n",
       "array([[1],\n",
       "       [1],\n",
       "       [2],\n",
       "       [2]])>)"
      ]
     },
     "execution_count": 139,
     "metadata": {},
     "output_type": "execute_result"
    }
   ],
   "source": [
    "# for 2D tensor topk will scan each row for the top_k elements, default k =1\n",
    "tf.math.top_k(tensor_two_d)"
   ]
  },
  {
   "cell_type": "code",
   "execution_count": 140,
   "id": "1f7933be",
   "metadata": {},
   "outputs": [
    {
     "data": {
      "text/plain": [
       "TopKV2(values=<tf.Tensor: shape=(4, 2), dtype=int32, numpy=\n",
       "array([[2, 1],\n",
       "       [5, 3],\n",
       "       [6, 5],\n",
       "       [8, 3]])>, indices=<tf.Tensor: shape=(4, 2), dtype=int32, numpy=\n",
       "array([[1, 0],\n",
       "       [1, 0],\n",
       "       [2, 1],\n",
       "       [2, 1]])>)"
      ]
     },
     "execution_count": 140,
     "metadata": {},
     "output_type": "execute_result"
    }
   ],
   "source": [
    "tf.math.top_k(tensor_two_d, k=2)"
   ]
  },
  {
   "cell_type": "markdown",
   "id": "f466ae36",
   "metadata": {},
   "source": [
    "# Linear Algebra Operations"
   ]
  },
  {
   "cell_type": "markdown",
   "id": "ca9f280f",
   "metadata": {},
   "source": []
  }
 ],
 "metadata": {
  "kernelspec": {
   "display_name": "Python 3 (ipykernel)",
   "language": "python",
   "name": "python3"
  },
  "language_info": {
   "codemirror_mode": {
    "name": "ipython",
    "version": 3
   },
   "file_extension": ".py",
   "mimetype": "text/x-python",
   "name": "python",
   "nbconvert_exporter": "python",
   "pygments_lexer": "ipython3",
   "version": "3.8.17"
  }
 },
 "nbformat": 4,
 "nbformat_minor": 5
}
